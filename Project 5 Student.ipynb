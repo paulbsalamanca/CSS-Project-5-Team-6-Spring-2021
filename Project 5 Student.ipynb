{
 "cells": [
  {
   "cell_type": "markdown",
   "metadata": {},
   "source": [
    "## [Computational Social Science] Project 5: Natural Language Processing"
   ]
  },
  {
   "cell_type": "markdown",
   "metadata": {},
   "source": [
    "In this project, you will use natural language processing techniques to explore a dataset containing tweets from members of the 116th United States Congress that met from January 3, 2019 to January 2, 2021. The dataset has also been cleaned to contain information about each legislator. Concretely, you will do the following:\n",
    "\n",
    "* Preprocess the text of legislators' tweets\n",
    "* Conduct Exploratory Data Analysis of the text\n",
    "* Use sentiment analysis to explore differences between legislators' tweets\n",
    "* Featurize text with manual feature engineering, frequency-based, and vector-based techniques\n",
    "* Predict legislators' political parties and whether they are a Senator or Representative\n",
    "\n",
    "You will explore two questions that relate to two central findings in political science and examine how they relate to the text of legislators' tweets. First, political scientists have argued that U.S. politics is currently highly polarized relative to other periods in American history, but also that the polarization is asymmetric. Historically, there were several conservative Democrats (i.e. \"blue dog Democrats\") and liberal Republicans (i.e. \"Rockefeller Republicans\"), as measured by popular measurement tools like [DW-NOMINATE](https://en.wikipedia.org/wiki/NOMINATE_(scaling_method)#:~:text=DW\\%2DNOMINATE\\%20scores\\%20have\\%20been,in\\%20the\\%20liberal\\%2Dconservative\\%20scale.). However, in the last few years, there are few if any examples of any Democrat in Congress being further to the right than any Republican and vice versa. At the same time, scholars have argued that this polarization is mostly a function of the Republican party moving further right than the Democratic party has moved left. **Does this sort of asymmetric polarization show up in how politicians communicate to their constituents through tweets?**\n",
    "\n",
    "Second, the U.S. Congress is a bicameral legislature, and there has long been debate about partisanship in the Senate versus the House. The House of Representatives is apportioned by population and all members serve two year terms. In the Senate, each state receives two Senators and each Senator serves a term of six years. For a variety of reasons (smaller chamber size, more insulation from the voters, rules and norms like the filibuster, etc.), the Senate has been argued to be the \"cooling saucer\" of Congress in that it is more bipartisan and moderate than the House. **Does the theory that the Senate is more moderate have support in Senators' tweets?**\n",
    "\n",
    "**Note**: See the project handout for more details on caveats and the data dictionary."
   ]
  },
  {
   "cell_type": "code",
   "execution_count": 4,
   "metadata": {},
   "outputs": [],
   "source": [
    "# pandas and numpy\n",
    "import pandas as pd\n",
    "import numpy as numpy\n",
    "\n",
    "# punctuation, stop words and English language model\n",
    "from string import punctuation\n",
    "from spacy.lang.en.stop_words import STOP_WORDS\n",
    "import en_core_web_sm\n",
    "nlp = en_core_web_sm.load()\n",
    "\n",
    "# textblob\n",
    "from textblob import TextBlob\n",
    "\n",
    "# countvectorizer, tfidfvectorizer\n",
    "from sklearn.feature_extraction.text import CountVectorizer, TfidfVectorizer\n",
    "\n",
    "# gensim\n",
    "import gensim\n",
    "from gensim import models\n",
    "\n",
    "# plotting\n",
    "import matplotlib.pyplot as plt\n",
    "import seaborn as sns\n",
    "%matplotlib inline"
   ]
  },
  {
   "cell_type": "code",
   "execution_count": 5,
   "metadata": {},
   "outputs": [],
   "source": [
    "#pip install emoji\n",
    "\n",
    "# ooh do we need to do this? -P "
   ]
  },
  {
   "cell_type": "code",
   "execution_count": 6,
   "metadata": {},
   "outputs": [
    {
     "data": {
      "text/html": [
       "<div>\n",
       "<style scoped>\n",
       "    .dataframe tbody tr th:only-of-type {\n",
       "        vertical-align: middle;\n",
       "    }\n",
       "\n",
       "    .dataframe tbody tr th {\n",
       "        vertical-align: top;\n",
       "    }\n",
       "\n",
       "    .dataframe thead th {\n",
       "        text-align: right;\n",
       "    }\n",
       "</style>\n",
       "<table border=\"1\" class=\"dataframe\">\n",
       "  <thead>\n",
       "    <tr style=\"text-align: right;\">\n",
       "      <th></th>\n",
       "      <th>tweet_id</th>\n",
       "      <th>screen_name</th>\n",
       "      <th>datetime</th>\n",
       "      <th>text</th>\n",
       "      <th>name_wikipedia</th>\n",
       "      <th>position</th>\n",
       "      <th>joined_congress_date</th>\n",
       "      <th>birthday</th>\n",
       "      <th>gender</th>\n",
       "      <th>state</th>\n",
       "      <th>district_number</th>\n",
       "      <th>party</th>\n",
       "      <th>trump_2016_state_share</th>\n",
       "      <th>clinton_2016_state_share</th>\n",
       "      <th>obama_2012_state_share</th>\n",
       "      <th>romney_2012_state_share</th>\n",
       "    </tr>\n",
       "  </thead>\n",
       "  <tbody>\n",
       "    <tr>\n",
       "      <td>0</td>\n",
       "      <td>1.081010e+18</td>\n",
       "      <td>RepByrne</td>\n",
       "      <td>2019-01-03T21:23:00-05:00</td>\n",
       "      <td>Great news for Baldwin County! The economy of ...</td>\n",
       "      <td>Bradley Byrne</td>\n",
       "      <td>Rep</td>\n",
       "      <td>8-Jan-14</td>\n",
       "      <td>2/16/1955</td>\n",
       "      <td>M</td>\n",
       "      <td>AL</td>\n",
       "      <td>1</td>\n",
       "      <td>Republican</td>\n",
       "      <td>1,318,255</td>\n",
       "      <td>729,547</td>\n",
       "      <td>795,696</td>\n",
       "      <td>1,255,925</td>\n",
       "    </tr>\n",
       "    <tr>\n",
       "      <td>1</td>\n",
       "      <td>1.080880e+18</td>\n",
       "      <td>RepByrne</td>\n",
       "      <td>2019-01-03T12:30:38-05:00</td>\n",
       "      <td>Outstanding news today from @Airbus! @JetBlue ...</td>\n",
       "      <td>Bradley Byrne</td>\n",
       "      <td>Rep</td>\n",
       "      <td>8-Jan-14</td>\n",
       "      <td>2/16/1955</td>\n",
       "      <td>M</td>\n",
       "      <td>AL</td>\n",
       "      <td>1</td>\n",
       "      <td>Republican</td>\n",
       "      <td>1,318,255</td>\n",
       "      <td>729,547</td>\n",
       "      <td>795,696</td>\n",
       "      <td>1,255,925</td>\n",
       "    </tr>\n",
       "    <tr>\n",
       "      <td>2</td>\n",
       "      <td>1.080830e+18</td>\n",
       "      <td>RepByrne</td>\n",
       "      <td>2019-01-03T09:12:07-05:00</td>\n",
       "      <td>RT @senatemajldr Democrats will have to get se...</td>\n",
       "      <td>Bradley Byrne</td>\n",
       "      <td>Rep</td>\n",
       "      <td>8-Jan-14</td>\n",
       "      <td>2/16/1955</td>\n",
       "      <td>M</td>\n",
       "      <td>AL</td>\n",
       "      <td>1</td>\n",
       "      <td>Republican</td>\n",
       "      <td>1,318,255</td>\n",
       "      <td>729,547</td>\n",
       "      <td>795,696</td>\n",
       "      <td>1,255,925</td>\n",
       "    </tr>\n",
       "    <tr>\n",
       "      <td>3</td>\n",
       "      <td>1.080890e+18</td>\n",
       "      <td>RepByrne</td>\n",
       "      <td>2019-01-03T13:20:53-05:00</td>\n",
       "      <td>Here is a sign of things to come: As Democrats...</td>\n",
       "      <td>Bradley Byrne</td>\n",
       "      <td>Rep</td>\n",
       "      <td>8-Jan-14</td>\n",
       "      <td>2/16/1955</td>\n",
       "      <td>M</td>\n",
       "      <td>AL</td>\n",
       "      <td>1</td>\n",
       "      <td>Republican</td>\n",
       "      <td>1,318,255</td>\n",
       "      <td>729,547</td>\n",
       "      <td>795,696</td>\n",
       "      <td>1,255,925</td>\n",
       "    </tr>\n",
       "    <tr>\n",
       "      <td>4</td>\n",
       "      <td>1.080870e+18</td>\n",
       "      <td>RepByrne</td>\n",
       "      <td>2019-01-03T12:10:26-05:00</td>\n",
       "      <td>Let's understand what we're dealing with here:...</td>\n",
       "      <td>Bradley Byrne</td>\n",
       "      <td>Rep</td>\n",
       "      <td>8-Jan-14</td>\n",
       "      <td>2/16/1955</td>\n",
       "      <td>M</td>\n",
       "      <td>AL</td>\n",
       "      <td>1</td>\n",
       "      <td>Republican</td>\n",
       "      <td>1,318,255</td>\n",
       "      <td>729,547</td>\n",
       "      <td>795,696</td>\n",
       "      <td>1,255,925</td>\n",
       "    </tr>\n",
       "  </tbody>\n",
       "</table>\n",
       "</div>"
      ],
      "text/plain": [
       "       tweet_id screen_name                   datetime  \\\n",
       "0  1.081010e+18    RepByrne  2019-01-03T21:23:00-05:00   \n",
       "1  1.080880e+18    RepByrne  2019-01-03T12:30:38-05:00   \n",
       "2  1.080830e+18    RepByrne  2019-01-03T09:12:07-05:00   \n",
       "3  1.080890e+18    RepByrne  2019-01-03T13:20:53-05:00   \n",
       "4  1.080870e+18    RepByrne  2019-01-03T12:10:26-05:00   \n",
       "\n",
       "                                                text name_wikipedia position  \\\n",
       "0  Great news for Baldwin County! The economy of ...  Bradley Byrne      Rep   \n",
       "1  Outstanding news today from @Airbus! @JetBlue ...  Bradley Byrne      Rep   \n",
       "2  RT @senatemajldr Democrats will have to get se...  Bradley Byrne      Rep   \n",
       "3  Here is a sign of things to come: As Democrats...  Bradley Byrne      Rep   \n",
       "4  Let's understand what we're dealing with here:...  Bradley Byrne      Rep   \n",
       "\n",
       "  joined_congress_date   birthday gender state district_number       party  \\\n",
       "0             8-Jan-14  2/16/1955      M    AL               1  Republican   \n",
       "1             8-Jan-14  2/16/1955      M    AL               1  Republican   \n",
       "2             8-Jan-14  2/16/1955      M    AL               1  Republican   \n",
       "3             8-Jan-14  2/16/1955      M    AL               1  Republican   \n",
       "4             8-Jan-14  2/16/1955      M    AL               1  Republican   \n",
       "\n",
       "  trump_2016_state_share clinton_2016_state_share obama_2012_state_share  \\\n",
       "0              1,318,255                  729,547                795,696   \n",
       "1              1,318,255                  729,547                795,696   \n",
       "2              1,318,255                  729,547                795,696   \n",
       "3              1,318,255                  729,547                795,696   \n",
       "4              1,318,255                  729,547                795,696   \n",
       "\n",
       "  romney_2012_state_share  \n",
       "0               1,255,925  \n",
       "1               1,255,925  \n",
       "2               1,255,925  \n",
       "3               1,255,925  \n",
       "4               1,255,925  "
      ]
     },
     "execution_count": 6,
     "metadata": {},
     "output_type": "execute_result"
    }
   ],
   "source": [
    "congress_tweets = pd.read_csv(\"data/116th Congressional Tweets and Demographics.csv\")\n",
    "# fill in this line of code with a sufficient number of tweets, depending on your computational resources\n",
    "#congress_tweets = congress_tweets.sample(...)\n",
    "congress_tweets.head()"
   ]
  },
  {
   "cell_type": "code",
   "execution_count": 7,
   "metadata": {},
   "outputs": [],
   "source": [
    "# sample 1000 rows for writing code\n",
    "congress_tweets = congress_tweets.sample(n = 1000, random_state = 10)"
   ]
  },
  {
   "cell_type": "code",
   "execution_count": 8,
   "metadata": {},
   "outputs": [
    {
     "data": {
      "text/plain": [
       "36257     Before adopting Olivia, we spent a great amoun...\n",
       "548996    Are we supposed to take Trump seriously or lit...\n",
       "652347    Thank you to Lieutenant Mike Tarr and Fire Chi...\n",
       "267614    Made remarks to @AmFreeSyria sharing my concer...\n",
       "344386    @jeroneanderson @MontcoLP @LelandShow @realDon...\n",
       "                                ...                        \n",
       "745540    Thank you @honorair for organizing these meani...\n",
       "832336    RT @HouseGOP 🚨 NEW: @China_TaskForce releases ...\n",
       "53451     The President has worked dilligenty since his ...\n",
       "758647    RT @BobMooreNews \"It's not OK to say that all ...\n",
       "201571    As a combat veteran and member of the @Nationa...\n",
       "Name: text, Length: 1000, dtype: object"
      ]
     },
     "execution_count": 8,
     "metadata": {},
     "output_type": "execute_result"
    }
   ],
   "source": [
    "congress_tweets['text']"
   ]
  },
  {
   "cell_type": "markdown",
   "metadata": {},
   "source": [
    "## Preprocessing"
   ]
  },
  {
   "cell_type": "markdown",
   "metadata": {},
   "source": [
    "The first step in working with text data is to preprocess it. Make sure you do the following:\n",
    "\n",
    "* Remove punctuation and stop words. The `rem_punc_stop()` function we used in lab is provided to you but you should feel free to edit it as necessary for other steps\n",
    "* Remove tokens that occur frequently in tweets, but may not be helpful for downstream classification. For instance, many tweets contain a flag for retweeting, or share a URL \n",
    "\n",
    "As you search online, you might run into solutions that rely on regular expressions. You are free to use these, but you should also be able to preprocess using the techniques we covered in lab. Specifically, we encourage you to use spaCy's token attributes and string methods to do some of this text preprocessing."
   ]
  },
  {
   "cell_type": "markdown",
   "metadata": {},
   "source": [
    "First, we create two dictionaries to add to the default stop words -- one that has a bunch of html gunk, and another that has popular Twitter abbreviations."
   ]
  },
  {
   "cell_type": "code",
   "execution_count": 9,
   "metadata": {},
   "outputs": [],
   "source": [
    "gunk = {'\\n',\n",
    " '\\n\\n',\n",
    " '\\n\\n\\n',\n",
    " '\\n\\n\\n\\n',\n",
    " '\\n\\n ',\n",
    " '\\n\\n\\xa0 ',\n",
    " '\\n ',\n",
    " '\\n \\n',\n",
    " '\\n \\n ',\n",
    " '\\n  ',\n",
    " '\\n   ',\n",
    " '\\n\\xa0\\n',\n",
    " ' ',\n",
    " ' \\n',\n",
    " ' \\n\\n',\n",
    " ' \\n ',\n",
    " '  ',\n",
    " '  \\n\\n ',\n",
    " '   ',\n",
    " '     ',\n",
    " '\"',\n",
    " \"'\",\n",
    " '-PRON-','’\t','—','’'} # there's probably a more elegant way to do this than what I did\n",
    "\n",
    "twitter_abbreviations = {'mt','rt','dm','prt','ht','cc'} \n",
    "# lifted from https://www.businessinsider.com/twitter-acronyms-2012-4"
   ]
  },
  {
   "cell_type": "code",
   "execution_count": 10,
   "metadata": {},
   "outputs": [],
   "source": [
    "def rem_punc_stop(text):\n",
    "    stop_words = STOP_WORDS\n",
    "    punc = set(punctuation)\n",
    "    \n",
    "    # adds twitter abbreviations to stop words\n",
    "    nlp.Defaults.stop_words |= twitter_abbreviations\n",
    "    \n",
    "    nlp.Defaults.stop_words |= gunk\n",
    "    \n",
    "    # removes punctuation and digits, converts to lowercase\n",
    "    punc_free = \"\".join([ch for ch in text if ch not in punc if not ch.isdigit()]).lower()\n",
    "    \n",
    "    # we could remove emojis, but they don't seem to trip up spaCy. Still need to get this to work\n",
    "    # punc_emoji_free = give_emoji_free_text(punc_free)\n",
    "    \n",
    "    doc = nlp(punc_free)\n",
    "    \n",
    "    # lemmatizes rather than just tokenizing\n",
    "    spacy_words = [token.lemma_ for token in doc]\n",
    "    \n",
    "    spacy_words = [word for word in spacy_words if not word.startswith('http')]\n",
    "    \n",
    "    # my more elegant way of removing the new lines lies broken here\n",
    "    #spacy_words = [ x for x in spacy_words if '\\n' in x ]\n",
    "    \n",
    "    no_punc = [word for word in spacy_words if word not in stop_words]\n",
    "    \n",
    "    return no_punc"
   ]
  },
  {
   "cell_type": "code",
   "execution_count": 11,
   "metadata": {},
   "outputs": [
    {
     "data": {
      "text/plain": [
       "36257     [adopt, olivia, spend, great, time, learn, ari...\n",
       "548996    [suppose, trump, seriously, literally, steel, ...\n",
       "652347    [thank, lieutenant, mike, tarr, fire, chief, o...\n",
       "267614    [remark, amfreesyria, share, concern, devastat...\n",
       "344386    [jeroneanderson, montcolp, lelandshow, realdon...\n",
       "                                ...                        \n",
       "745540    [thank, honorair, organize, meaningful, trip, ...\n",
       "832336    [housegop, 🚨, new, chinataskforce, release, ch...\n",
       "53451     [president, work, dilligenty, election, find, ...\n",
       "758647    [bobmoorenews, ok, federal, employee, support,...\n",
       "201571    [combat, veteran, member, nationalguard, grate...\n",
       "Name: tokens, Length: 1000, dtype: object"
      ]
     },
     "execution_count": 11,
     "metadata": {},
     "output_type": "execute_result"
    }
   ],
   "source": [
    "congress_tweets['tokens'] = [rem_punc_stop(x) for x in congress_tweets['text']]\n",
    "congress_tweets['tokens'] # note -- -PRON- refers to pronoun, the lemmatizer does this"
   ]
  },
  {
   "cell_type": "code",
   "execution_count": 12,
   "metadata": {},
   "outputs": [],
   "source": [
    "# peek at the tokens\n",
    "#tokens_reduced = []\n",
    "#tokens_reduced = [tokens_reduced.append(word) for word in congress_tweets['tokens']]"
   ]
  },
  {
   "cell_type": "markdown",
   "metadata": {},
   "source": [
    "Now that we've obtained the lemmas for each tweet, we'll want to count them for text featurization. One way to do this is via the bag-of-words approach. We'll use the function that we built to remove the stop words and punctuation, and lemmatize, to initialize our CountVectorizer."
   ]
  },
  {
   "cell_type": "code",
   "execution_count": 13,
   "metadata": {},
   "outputs": [
    {
     "data": {
      "text/plain": [
       "matrix([[0, 0, 0, ..., 0, 0, 0],\n",
       "        [0, 0, 0, ..., 0, 0, 0],\n",
       "        [0, 0, 0, ..., 0, 0, 0],\n",
       "        ...,\n",
       "        [0, 0, 0, ..., 0, 0, 0],\n",
       "        [0, 0, 0, ..., 0, 0, 0],\n",
       "        [0, 0, 0, ..., 0, 0, 0]])"
      ]
     },
     "execution_count": 13,
     "metadata": {},
     "output_type": "execute_result"
    }
   ],
   "source": [
    "from sklearn.feature_extraction.text import CountVectorizer,TfidfVectorizer\n",
    "bow_vector = CountVectorizer(tokenizer = rem_punc_stop, ngram_range=(1,1))\n",
    "bow_matrix = bow_vector.fit_transform(congress_tweets['text'])\n",
    "bow_matrix.todense()"
   ]
  },
  {
   "cell_type": "code",
   "execution_count": 14,
   "metadata": {},
   "outputs": [
    {
     "data": {
      "text/plain": [
       "['aacuna',\n",
       " 'aal',\n",
       " 'aapi',\n",
       " 'aapmhq',\n",
       " 'abandon',\n",
       " 'abc',\n",
       " 'abcnewslive',\n",
       " 'abdicate',\n",
       " 'abierta',\n",
       " 'ability',\n",
       " 'able',\n",
       " 'abolish',\n",
       " 'abortion',\n",
       " 'abqschools',\n",
       " 'abroad',\n",
       " 'abrupt',\n",
       " 'absentee',\n",
       " 'absolutely',\n",
       " 'abt',\n",
       " 'abundance',\n",
       " 'abuse',\n",
       " 'aca',\n",
       " 'academy',\n",
       " 'acarrillonews',\n",
       " 'accept',\n",
       " 'acceptable',\n",
       " 'access',\n",
       " 'accident',\n",
       " 'accommodation',\n",
       " 'accompany',\n",
       " 'accomplished',\n",
       " 'accomplishment',\n",
       " 'accord',\n",
       " 'account',\n",
       " 'accountability',\n",
       " 'accountable',\n",
       " 'accurate',\n",
       " 'acelerar',\n",
       " 'acfhhs',\n",
       " 'achieve',\n",
       " 'achievement',\n",
       " 'acknowledge',\n",
       " 'acostaresign',\n",
       " 'acquaintance',\n",
       " 'acquire',\n",
       " 'acquit',\n",
       " 'acquittal',\n",
       " 'acre',\n",
       " 'act',\n",
       " 'action']"
      ]
     },
     "execution_count": 14,
     "metadata": {},
     "output_type": "execute_result"
    }
   ],
   "source": [
    "feature_names = bow_vector.get_feature_names()\n",
    "feature_names[0:50] # peek at our features"
   ]
  },
  {
   "cell_type": "markdown",
   "metadata": {},
   "source": [
    "Great, these feature names seem fairly reasonable. However, the tf-idf matrix is an extension of the bag-of-words approach that should be more helpful to us, because it removes very common words that don't add much to the analysis."
   ]
  },
  {
   "cell_type": "code",
   "execution_count": 15,
   "metadata": {},
   "outputs": [
    {
     "data": {
      "text/plain": [
       "matrix([[0., 0., 0., ..., 0., 0., 0.],\n",
       "        [0., 0., 0., ..., 0., 0., 0.],\n",
       "        [0., 0., 0., ..., 0., 0., 0.],\n",
       "        ...,\n",
       "        [0., 0., 0., ..., 0., 0., 0.],\n",
       "        [0., 0., 0., ..., 0., 0., 0.],\n",
       "        [0., 0., 0., ..., 0., 0., 0.]])"
      ]
     },
     "execution_count": 15,
     "metadata": {},
     "output_type": "execute_result"
    }
   ],
   "source": [
    "tfidf_vector = TfidfVectorizer(tokenizer = rem_punc_stop)\n",
    "matrix = tfidf_vector.fit_transform(congress_tweets['text'])\n",
    "matrix.todense()"
   ]
  },
  {
   "cell_type": "code",
   "execution_count": 16,
   "metadata": {},
   "outputs": [],
   "source": [
    "feature_names = tfidf_vector.get_feature_names()"
   ]
  },
  {
   "cell_type": "markdown",
   "metadata": {},
   "source": [
    "## Exploratory Data Analysis"
   ]
  },
  {
   "cell_type": "markdown",
   "metadata": {},
   "source": [
    "Use two of the techniques we covered in lab (or other techniques outside of lab!) to explore the text of the tweets. You should construct these visualizations with an eye toward the eventual classification tasks: (1) predicting the legislator's political party based on the text of their tweet, and (2) predicting whether the legislator is a Senator or Representative. As a reminder, in lab we covered word frequencies, word clouds, word/character counts, scattertext, and topic modeling as possible exploration tools. "
   ]
  },
  {
   "cell_type": "markdown",
   "metadata": {},
   "source": [
    "### EDA 1: A look at the top n-grams"
   ]
  },
  {
   "cell_type": "markdown",
   "metadata": {},
   "source": [
    "We'll want to visualize the most commonly-used words and phrases in our dataset. First, we'll try unigrams."
   ]
  },
  {
   "cell_type": "code",
   "execution_count": 17,
   "metadata": {},
   "outputs": [],
   "source": [
    "# initialize the BOW countervectorizer with ngram_range argument\n",
    "countvec = CountVectorizer(tokenizer = rem_punc_stop, ngram_range=(1,1))\n",
    "ngrams = countvec.fit_transform(congress_tweets['text'])\n",
    "\n",
    "dictionary_dataframe = pd.DataFrame(ngrams.todense(), columns = countvec.get_feature_names())"
   ]
  },
  {
   "cell_type": "code",
   "execution_count": 18,
   "metadata": {},
   "outputs": [
    {
     "data": {
      "text/html": [
       "<div>\n",
       "<style scoped>\n",
       "    .dataframe tbody tr th:only-of-type {\n",
       "        vertical-align: middle;\n",
       "    }\n",
       "\n",
       "    .dataframe tbody tr th {\n",
       "        vertical-align: top;\n",
       "    }\n",
       "\n",
       "    .dataframe thead th {\n",
       "        text-align: right;\n",
       "    }\n",
       "</style>\n",
       "<table border=\"1\" class=\"dataframe\">\n",
       "  <thead>\n",
       "    <tr style=\"text-align: right;\">\n",
       "      <th></th>\n",
       "      <th>ngrams</th>\n",
       "      <th>freq</th>\n",
       "    </tr>\n",
       "  </thead>\n",
       "  <tbody>\n",
       "    <tr>\n",
       "      <td>0</td>\n",
       "      <td>amp</td>\n",
       "      <td>261</td>\n",
       "    </tr>\n",
       "    <tr>\n",
       "      <td>1</td>\n",
       "      <td>today</td>\n",
       "      <td>172</td>\n",
       "    </tr>\n",
       "    <tr>\n",
       "      <td>2</td>\n",
       "      <td>qt</td>\n",
       "      <td>150</td>\n",
       "    </tr>\n",
       "    <tr>\n",
       "      <td>3</td>\n",
       "      <td>work</td>\n",
       "      <td>101</td>\n",
       "    </tr>\n",
       "    <tr>\n",
       "      <td>4</td>\n",
       "      <td>need</td>\n",
       "      <td>100</td>\n",
       "    </tr>\n",
       "  </tbody>\n",
       "</table>\n",
       "</div>"
      ],
      "text/plain": [
       "  ngrams  freq\n",
       "0    amp   261\n",
       "1  today   172\n",
       "2     qt   150\n",
       "3   work   101\n",
       "4   need   100"
      ]
     },
     "execution_count": 18,
     "metadata": {},
     "output_type": "execute_result"
    }
   ],
   "source": [
    "df_ngram = pd.DataFrame(dictionary_dataframe.sum().reset_index()).rename(columns={'index': 'ngrams', 0:'freq'})\n",
    "df_ngram = df_ngram.sort_values(by = ['freq'], ascending = False).reset_index(drop = True)\n",
    "df_ngram.head() # take a peek\n",
    "\n",
    "# interesting. What the heck is 'amp'? Am I just old...?\n",
    "# hmm, could it be ampersand? -P\n",
    "# that's a good guess Paul, I have no idea what amp is. I, too, am old lol -JS"
   ]
  },
  {
   "cell_type": "markdown",
   "metadata": {},
   "source": [
    "Okay, but pretty devoid of context. Let's calculate and visualize the top 25 bigrams."
   ]
  },
  {
   "cell_type": "code",
   "execution_count": 19,
   "metadata": {},
   "outputs": [],
   "source": [
    "# initialize the BOW countervectorizer with ngram_range argument up to 2\n",
    "countvec = CountVectorizer(tokenizer = rem_punc_stop, ngram_range=(2,2))\n",
    "ngrams = countvec.fit_transform(congress_tweets['text'])\n",
    "\n",
    "dictionary_dataframe = pd.DataFrame(ngrams.todense(), columns = countvec.get_feature_names())\n",
    "df_ngram = pd.DataFrame(dictionary_dataframe.sum().reset_index()).rename(columns={'index': 'ngrams', 0:'freq'})\n",
    "df_ngram = df_ngram.sort_values(by = ['freq'], ascending = False).reset_index(drop = True)"
   ]
  },
  {
   "cell_type": "code",
   "execution_count": 20,
   "metadata": {},
   "outputs": [
    {
     "name": "stderr",
     "output_type": "stream",
     "text": [
      "/Users/jasminesanders/opt/anaconda3/lib/python3.7/site-packages/matplotlib/backends/backend_agg.py:211: RuntimeWarning: Glyph 127482 missing from current font.\n",
      "  font.set_text(s, 0.0, flags=flags)\n",
      "/Users/jasminesanders/opt/anaconda3/lib/python3.7/site-packages/matplotlib/backends/backend_agg.py:211: RuntimeWarning: Glyph 127480 missing from current font.\n",
      "  font.set_text(s, 0.0, flags=flags)\n",
      "/Users/jasminesanders/opt/anaconda3/lib/python3.7/site-packages/matplotlib/backends/backend_agg.py:180: RuntimeWarning: Glyph 127482 missing from current font.\n",
      "  font.set_text(s, 0, flags=flags)\n",
      "/Users/jasminesanders/opt/anaconda3/lib/python3.7/site-packages/matplotlib/backends/backend_agg.py:180: RuntimeWarning: Glyph 127480 missing from current font.\n",
      "  font.set_text(s, 0, flags=flags)\n"
     ]
    },
    {
     "data": {
      "image/png": "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\n",
      "text/plain": [
       "<Figure size 432x288 with 1 Axes>"
      ]
     },
     "metadata": {
      "needs_background": "light"
     },
     "output_type": "display_data"
    }
   ],
   "source": [
    "sns.barplot(x=\"ngrams\", y = 'freq', data=df_ngram[0:25])\n",
    "plt.xticks(rotation=90)\n",
    "plt.show()"
   ]
  },
  {
   "cell_type": "markdown",
   "metadata": {},
   "source": [
    "The bigrams seem pretty intelligible indeed. Healthcare was tweeted about the most, with President Trump as a close second. Small business comes in third. It will be interesting to understand the extent to which themes of health versus economy sort themselves along party lines. Likewise, it will be interesting to understand the sentiment of the tweets mentioning Trump, and the extent to which it falls along party lines or legislative chambers. For example, if we hypothesize that the Senate is the \"cooling saucer\" of Congress, perhaps senators' tweets refrain from critiquing Trump."
   ]
  },
  {
   "cell_type": "markdown",
   "metadata": {},
   "source": [
    "### EDA 2: A first pass at LDA"
   ]
  },
  {
   "cell_type": "markdown",
   "metadata": {},
   "source": [
    "How do these tokens combine to compose topics in the 116th Congressional tweets? Let's use LDA to take an initial look. First, we'll create our tf-idf matrix."
   ]
  },
  {
   "cell_type": "code",
   "execution_count": 21,
   "metadata": {},
   "outputs": [],
   "source": [
    "X = congress_tweets['text']\n",
    "tf = TfidfVectorizer(tokenizer = rem_punc_stop)\n",
    "\n",
    "tfidf_matrix =  tf.fit_transform(X)\n",
    "dense_matrix = tfidf_matrix.todense()"
   ]
  },
  {
   "cell_type": "markdown",
   "metadata": {},
   "source": [
    "We'll fit the LDA model, arbitrarily starting with five topics."
   ]
  },
  {
   "cell_type": "code",
   "execution_count": 22,
   "metadata": {},
   "outputs": [],
   "source": [
    "from sklearn.decomposition import LatentDirichletAllocation\n",
    "\n",
    "lda = LatentDirichletAllocation(n_components=6, max_iter=20, random_state=0)\n",
    "lda = lda.fit(dense_matrix)"
   ]
  },
  {
   "cell_type": "code",
   "execution_count": 23,
   "metadata": {},
   "outputs": [
    {
     "data": {
      "text/plain": [
       "6"
      ]
     },
     "execution_count": 23,
     "metadata": {},
     "output_type": "execute_result"
    }
   ],
   "source": [
    "lda.n_components"
   ]
  },
  {
   "cell_type": "markdown",
   "metadata": {},
   "source": [
    "We'll get the top tokens for each of our five topics, and print them along with our feature names."
   ]
  },
  {
   "cell_type": "code",
   "execution_count": 24,
   "metadata": {},
   "outputs": [],
   "source": [
    "def print_top_words(model, feature_names, n_top_words):\n",
    "    for topic_idx, topic in enumerate(model.components_):\n",
    "        print(\"\\nTopic #{}:\".format(topic_idx))\n",
    "        print(\" \".join([feature_names[i]\n",
    "                        for i in topic.argsort()[:-n_top_words - 1:-1]]))\n",
    "    print()"
   ]
  },
  {
   "cell_type": "code",
   "execution_count": 25,
   "metadata": {},
   "outputs": [
    {
     "name": "stdout",
     "output_type": "stream",
     "text": [
      "\n",
      "Topic #0:\n",
      "vote amp bill help today family need community people act join house democrats covid pass work visit stop health impeachment trump read good town president qt care protect hall ✅\n",
      "\n",
      "Topic #1:\n",
      "amp covid work need protect trump support qt congress today people vaccine act health election join american president continue new business time know state million stay provide federal family americans\n",
      "\n",
      "Topic #2:\n",
      "amp year today trump act president thank support country join equality continue community qt day pass health great covid right pay business win american people work program time ago house\n",
      "\n",
      "Topic #3:\n",
      "today health amp thank realdonaldtrump act country americans president violence house community economic care school congress need gun join time vote hr way right new bill energy year week pandemic\n",
      "\n",
      "Topic #4:\n",
      "amp today help work qt nation fight need day ensure veteran want new time election country state vote president care report health coronavirus american thank crisis member join senate great\n",
      "\n",
      "Topic #5:\n",
      "amp today – president people care work help member trump join qt health thank time need border great crisis serve morning day democrats resource protect child house family try effort\n",
      "\n"
     ]
    }
   ],
   "source": [
    "tf_feature_names = tf.get_feature_names()\n",
    "print_top_words(lda, tf_feature_names, 30)"
   ]
  },
  {
   "cell_type": "markdown",
   "metadata": {},
   "source": [
    "The topics don't seem super well-separated or coherent, so we may have to play around with the number of components. For example, 4 out of 5 of the topics contain \"covid\" or coronavirus. This might not be totally worrisome, except that they don't appear to be very distinct in other respects -- most mention work and voting, as well as Congress and the president. Topic 3 appears the most distinact, perhaps a bit antagonistic to Trump or impeachment-related -- it is the only one that does not mention the president or health, but \"impeachment\" as well as words like \"crisis,\" \"fight,\" \"act,\" \"people,\" and \"protect.\""
   ]
  },
  {
   "cell_type": "markdown",
   "metadata": {},
   "source": [
    "Checking the topic distributions for separation across our categories of interest: party and Congress vs. Senate. "
   ]
  },
  {
   "cell_type": "code",
   "execution_count": 26,
   "metadata": {},
   "outputs": [
    {
     "data": {
      "text/plain": [
       "array([[0.02753335, 0.02735102, 0.0274003 , 0.02735734, 0.86281435,\n",
       "        0.02754364],\n",
       "       [0.04052227, 0.04055181, 0.04051453, 0.04055092, 0.04055213,\n",
       "        0.79730834],\n",
       "       [0.0406705 , 0.0406803 , 0.79588667, 0.04097819, 0.04076347,\n",
       "        0.04102086],\n",
       "       ...,\n",
       "       [0.02713596, 0.02721102, 0.02716824, 0.0271341 , 0.02729987,\n",
       "        0.86405081],\n",
       "       [0.03159515, 0.84205852, 0.03155368, 0.03156055, 0.03157337,\n",
       "        0.03165873],\n",
       "       [0.02716335, 0.02727704, 0.02708642, 0.02739459, 0.86409352,\n",
       "        0.02698507]])"
      ]
     },
     "execution_count": 26,
     "metadata": {},
     "output_type": "execute_result"
    }
   ],
   "source": [
    "topic_dist = lda.transform(tfidf_matrix)\n",
    "topic_dist"
   ]
  },
  {
   "cell_type": "code",
   "execution_count": 27,
   "metadata": {},
   "outputs": [
    {
     "data": {
      "text/html": [
       "<div>\n",
       "<style scoped>\n",
       "    .dataframe tbody tr th:only-of-type {\n",
       "        vertical-align: middle;\n",
       "    }\n",
       "\n",
       "    .dataframe tbody tr th {\n",
       "        vertical-align: top;\n",
       "    }\n",
       "\n",
       "    .dataframe thead th {\n",
       "        text-align: right;\n",
       "    }\n",
       "</style>\n",
       "<table border=\"1\" class=\"dataframe\">\n",
       "  <thead>\n",
       "    <tr style=\"text-align: right;\">\n",
       "      <th></th>\n",
       "      <th>Topic 0</th>\n",
       "      <th>Topic 1</th>\n",
       "      <th>Topic 2</th>\n",
       "      <th>Topic 3</th>\n",
       "      <th>Topic 4</th>\n",
       "      <th>Topic 5</th>\n",
       "      <th>index</th>\n",
       "      <th>tweet_id</th>\n",
       "      <th>screen_name</th>\n",
       "      <th>datetime</th>\n",
       "      <th>...</th>\n",
       "      <th>birthday</th>\n",
       "      <th>gender</th>\n",
       "      <th>state</th>\n",
       "      <th>district_number</th>\n",
       "      <th>party</th>\n",
       "      <th>trump_2016_state_share</th>\n",
       "      <th>clinton_2016_state_share</th>\n",
       "      <th>obama_2012_state_share</th>\n",
       "      <th>romney_2012_state_share</th>\n",
       "      <th>tokens</th>\n",
       "    </tr>\n",
       "  </thead>\n",
       "  <tbody>\n",
       "    <tr>\n",
       "      <td>0</td>\n",
       "      <td>0.027533</td>\n",
       "      <td>0.027351</td>\n",
       "      <td>0.027400</td>\n",
       "      <td>0.027357</td>\n",
       "      <td>0.862814</td>\n",
       "      <td>0.027544</td>\n",
       "      <td>36257</td>\n",
       "      <td>1.276160e+18</td>\n",
       "      <td>RepDavid</td>\n",
       "      <td>2020-06-25T10:22:13-04:00</td>\n",
       "      <td>...</td>\n",
       "      <td>3/3/1962</td>\n",
       "      <td>M</td>\n",
       "      <td>AZ</td>\n",
       "      <td>6</td>\n",
       "      <td>Republican</td>\n",
       "      <td>1,252,401</td>\n",
       "      <td>1,161,167</td>\n",
       "      <td>1,025,232</td>\n",
       "      <td>1,233,654</td>\n",
       "      <td>[adopt, olivia, spend, great, time, learn, ari...</td>\n",
       "    </tr>\n",
       "    <tr>\n",
       "      <td>1</td>\n",
       "      <td>0.040522</td>\n",
       "      <td>0.040552</td>\n",
       "      <td>0.040515</td>\n",
       "      <td>0.040551</td>\n",
       "      <td>0.040552</td>\n",
       "      <td>0.797308</td>\n",
       "      <td>548996</td>\n",
       "      <td>1.082280e+18</td>\n",
       "      <td>RepSeanMaloney</td>\n",
       "      <td>2019-01-07T09:33:39-05:00</td>\n",
       "      <td>...</td>\n",
       "      <td>7/30/1966</td>\n",
       "      <td>M</td>\n",
       "      <td>NY</td>\n",
       "      <td>18</td>\n",
       "      <td>Democrat</td>\n",
       "      <td>2,819,533</td>\n",
       "      <td>4,556,118</td>\n",
       "      <td>4,485,741</td>\n",
       "      <td>2,490,431</td>\n",
       "      <td>[suppose, trump, seriously, literally, steel, ...</td>\n",
       "    </tr>\n",
       "    <tr>\n",
       "      <td>2</td>\n",
       "      <td>0.040671</td>\n",
       "      <td>0.040680</td>\n",
       "      <td>0.795887</td>\n",
       "      <td>0.040978</td>\n",
       "      <td>0.040763</td>\n",
       "      <td>0.041021</td>\n",
       "      <td>652347</td>\n",
       "      <td>1.322270e+18</td>\n",
       "      <td>RepSteveChabot</td>\n",
       "      <td>2020-10-30T16:24:14-04:00</td>\n",
       "      <td>...</td>\n",
       "      <td>1/22/1953</td>\n",
       "      <td>M</td>\n",
       "      <td>OH</td>\n",
       "      <td>1</td>\n",
       "      <td>Republican</td>\n",
       "      <td>2,841,005</td>\n",
       "      <td>2,394,164</td>\n",
       "      <td>2,827,709</td>\n",
       "      <td>2,661,437</td>\n",
       "      <td>[thank, lieutenant, mike, tarr, fire, chief, o...</td>\n",
       "    </tr>\n",
       "    <tr>\n",
       "      <td>3</td>\n",
       "      <td>0.029056</td>\n",
       "      <td>0.029134</td>\n",
       "      <td>0.029082</td>\n",
       "      <td>0.854666</td>\n",
       "      <td>0.029040</td>\n",
       "      <td>0.029022</td>\n",
       "      <td>267614</td>\n",
       "      <td>1.103730e+18</td>\n",
       "      <td>SenatorRisch</td>\n",
       "      <td>2019-03-07T13:33:23-05:00</td>\n",
       "      <td>...</td>\n",
       "      <td>5/3/1943</td>\n",
       "      <td>M</td>\n",
       "      <td>ID</td>\n",
       "      <td>Senate</td>\n",
       "      <td>Republican</td>\n",
       "      <td>409,055</td>\n",
       "      <td>189,765</td>\n",
       "      <td>212,787</td>\n",
       "      <td>420,911</td>\n",
       "      <td>[remark, amfreesyria, share, concern, devastat...</td>\n",
       "    </tr>\n",
       "    <tr>\n",
       "      <td>4</td>\n",
       "      <td>0.046526</td>\n",
       "      <td>0.046491</td>\n",
       "      <td>0.046515</td>\n",
       "      <td>0.767418</td>\n",
       "      <td>0.046525</td>\n",
       "      <td>0.046525</td>\n",
       "      <td>344386</td>\n",
       "      <td>1.097350e+18</td>\n",
       "      <td>RepThomasMassie</td>\n",
       "      <td>2019-02-17T23:35:06-05:00</td>\n",
       "      <td>...</td>\n",
       "      <td>1/13/1971</td>\n",
       "      <td>M</td>\n",
       "      <td>KY</td>\n",
       "      <td>4</td>\n",
       "      <td>Republican</td>\n",
       "      <td>1,202,971</td>\n",
       "      <td>628,854</td>\n",
       "      <td>679,370</td>\n",
       "      <td>1,087,190</td>\n",
       "      <td>[jeroneanderson, montcolp, lelandshow, realdon...</td>\n",
       "    </tr>\n",
       "  </tbody>\n",
       "</table>\n",
       "<p>5 rows × 24 columns</p>\n",
       "</div>"
      ],
      "text/plain": [
       "    Topic 0   Topic 1   Topic 2   Topic 3   Topic 4   Topic 5   index  \\\n",
       "0  0.027533  0.027351  0.027400  0.027357  0.862814  0.027544   36257   \n",
       "1  0.040522  0.040552  0.040515  0.040551  0.040552  0.797308  548996   \n",
       "2  0.040671  0.040680  0.795887  0.040978  0.040763  0.041021  652347   \n",
       "3  0.029056  0.029134  0.029082  0.854666  0.029040  0.029022  267614   \n",
       "4  0.046526  0.046491  0.046515  0.767418  0.046525  0.046525  344386   \n",
       "\n",
       "       tweet_id      screen_name                   datetime  ...   birthday  \\\n",
       "0  1.276160e+18         RepDavid  2020-06-25T10:22:13-04:00  ...   3/3/1962   \n",
       "1  1.082280e+18   RepSeanMaloney  2019-01-07T09:33:39-05:00  ...  7/30/1966   \n",
       "2  1.322270e+18   RepSteveChabot  2020-10-30T16:24:14-04:00  ...  1/22/1953   \n",
       "3  1.103730e+18     SenatorRisch  2019-03-07T13:33:23-05:00  ...   5/3/1943   \n",
       "4  1.097350e+18  RepThomasMassie  2019-02-17T23:35:06-05:00  ...  1/13/1971   \n",
       "\n",
       "  gender state district_number       party trump_2016_state_share  \\\n",
       "0      M    AZ               6  Republican              1,252,401   \n",
       "1      M    NY              18    Democrat              2,819,533   \n",
       "2      M    OH               1  Republican              2,841,005   \n",
       "3      M    ID          Senate  Republican                409,055   \n",
       "4      M    KY               4  Republican              1,202,971   \n",
       "\n",
       "  clinton_2016_state_share obama_2012_state_share romney_2012_state_share  \\\n",
       "0                1,161,167              1,025,232               1,233,654   \n",
       "1                4,556,118              4,485,741               2,490,431   \n",
       "2                2,394,164              2,827,709               2,661,437   \n",
       "3                  189,765                212,787                 420,911   \n",
       "4                  628,854                679,370               1,087,190   \n",
       "\n",
       "                                              tokens  \n",
       "0  [adopt, olivia, spend, great, time, learn, ari...  \n",
       "1  [suppose, trump, seriously, literally, steel, ...  \n",
       "2  [thank, lieutenant, mike, tarr, fire, chief, o...  \n",
       "3  [remark, amfreesyria, share, concern, devastat...  \n",
       "4  [jeroneanderson, montcolp, lelandshow, realdon...  \n",
       "\n",
       "[5 rows x 24 columns]"
      ]
     },
     "execution_count": 27,
     "metadata": {},
     "output_type": "execute_result"
    }
   ],
   "source": [
    "topic_dist_df = pd.DataFrame(topic_dist, columns = [\"Topic \" + str(x) for x in range(0, lda.n_components)])\n",
    "df_w_topics = topic_dist_df.join(congress_tweets.reset_index())\n",
    "df_w_topics.head()"
   ]
  },
  {
   "cell_type": "code",
   "execution_count": 28,
   "metadata": {},
   "outputs": [
    {
     "name": "stdout",
     "output_type": "stream",
     "text": [
      "party\n",
      "Independent    0.338733\n",
      "Democrat       0.172775\n",
      "Republican     0.159073\n",
      "Name: Topic 0, dtype: float64\n",
      "party\n",
      "Democrat       0.189232\n",
      "Republican     0.139204\n",
      "Independent    0.033639\n",
      "Name: Topic 1, dtype: float64\n",
      "party\n",
      "Democrat       0.186892\n",
      "Republican     0.144737\n",
      "Independent    0.033856\n",
      "Name: Topic 2, dtype: float64\n",
      "party\n",
      "Independent    0.230141\n",
      "Republican     0.187337\n",
      "Democrat       0.152872\n",
      "Name: Topic 3, dtype: float64\n",
      "party\n",
      "Independent    0.226387\n",
      "Republican     0.187767\n",
      "Democrat       0.135567\n",
      "Name: Topic 4, dtype: float64\n",
      "party\n",
      "Republican     0.181881\n",
      "Democrat       0.162663\n",
      "Independent    0.137245\n",
      "Name: Topic 5, dtype: float64\n"
     ]
    }
   ],
   "source": [
    "grouped = df_w_topics.groupby('party')\n",
    "for i in df_w_topics.columns[0:lda.n_components]:\n",
    "    print(grouped[i].mean().sort_values(ascending=False))"
   ]
  },
  {
   "cell_type": "code",
   "execution_count": 29,
   "metadata": {},
   "outputs": [
    {
     "name": "stdout",
     "output_type": "stream",
     "text": [
      "position\n",
      "Rep    0.169482\n",
      "Sen    0.167888\n",
      "Name: Topic 0, dtype: float64\n",
      "position\n",
      "Rep    0.176755\n",
      "Sen    0.148909\n",
      "Name: Topic 1, dtype: float64\n",
      "position\n",
      "Rep    0.175384\n",
      "Sen    0.155122\n",
      "Name: Topic 2, dtype: float64\n",
      "position\n",
      "Sen    0.166724\n",
      "Rep    0.165937\n",
      "Name: Topic 3, dtype: float64\n",
      "position\n",
      "Sen    0.162143\n",
      "Rep    0.153149\n",
      "Name: Topic 4, dtype: float64\n",
      "position\n",
      "Sen    0.199214\n",
      "Rep    0.159293\n",
      "Name: Topic 5, dtype: float64\n"
     ]
    }
   ],
   "source": [
    "grouped = df_w_topics.groupby('position')\n",
    "for i in df_w_topics.columns[0:lda.n_components]:\n",
    "    print(grouped[i].mean().sort_values(ascending=False))"
   ]
  },
  {
   "cell_type": "markdown",
   "metadata": {},
   "source": [
    "## Sentiment Analysis"
   ]
  },
  {
   "cell_type": "markdown",
   "metadata": {},
   "source": [
    "Next, let's analyze the sentiments contained within the tweets. You may use TextBlob or another library for these tasks. Do the following:\n",
    "\n",
    "* Choose two legislators, one who you think will be more liberal and one who you think will be more conservative, and analyze their sentiment and/or subjectivity scores per tweet. For instance, you might do two scatterplots that plot each legislator's sentiment against their subjectivity, or two density plots for their sentiments. Do the scores match what you thought?\n",
    "* Plot two more visualizations like the ones you chose in the first part, but do them to compare (1) Democrats v. Republicans and (2) Senators v. Representatives \n",
    "\n",
    "`TextBlob` has already been imported in the top cell."
   ]
  },
  {
   "cell_type": "code",
   "execution_count": null,
   "metadata": {},
   "outputs": [],
   "source": []
  },
  {
   "cell_type": "markdown",
   "metadata": {},
   "source": [
    "## Featurization"
   ]
  },
  {
   "cell_type": "markdown",
   "metadata": {},
   "source": [
    "Before going to classification, explore different featurization techniques. Create three dataframes or arrays to represent your text features, specifically:\n",
    "\n",
    "* Features engineered from your previous analysis. For example, word counts, sentiment scores, topic model etc.\n",
    "* A term frequency-inverse document frequency matrix. \n",
    "* An embedding-based featurization (like a document averaged word2vec)\n",
    "\n",
    "In the next section, you will experiment with each of these featurization techniques to see which one produces the best classifications."
   ]
  },
  {
   "cell_type": "code",
   "execution_count": null,
   "metadata": {},
   "outputs": [],
   "source": []
  },
  {
   "cell_type": "markdown",
   "metadata": {},
   "source": [
    "### Engineered Text Features"
   ]
  },
  {
   "cell_type": "code",
   "execution_count": 30,
   "metadata": {},
   "outputs": [
    {
     "data": {
      "text/html": [
       "<div>\n",
       "<style scoped>\n",
       "    .dataframe tbody tr th:only-of-type {\n",
       "        vertical-align: middle;\n",
       "    }\n",
       "\n",
       "    .dataframe tbody tr th {\n",
       "        vertical-align: top;\n",
       "    }\n",
       "\n",
       "    .dataframe thead th {\n",
       "        text-align: right;\n",
       "    }\n",
       "</style>\n",
       "<table border=\"1\" class=\"dataframe\">\n",
       "  <thead>\n",
       "    <tr style=\"text-align: right;\">\n",
       "      <th></th>\n",
       "      <th>tweet_id</th>\n",
       "      <th>screen_name</th>\n",
       "      <th>datetime</th>\n",
       "      <th>text</th>\n",
       "      <th>name_wikipedia</th>\n",
       "      <th>position</th>\n",
       "      <th>joined_congress_date</th>\n",
       "      <th>birthday</th>\n",
       "      <th>gender</th>\n",
       "      <th>state</th>\n",
       "      <th>district_number</th>\n",
       "      <th>party</th>\n",
       "      <th>trump_2016_state_share</th>\n",
       "      <th>clinton_2016_state_share</th>\n",
       "      <th>obama_2012_state_share</th>\n",
       "      <th>romney_2012_state_share</th>\n",
       "      <th>tokens</th>\n",
       "    </tr>\n",
       "  </thead>\n",
       "  <tbody>\n",
       "    <tr>\n",
       "      <td>36257</td>\n",
       "      <td>1.276160e+18</td>\n",
       "      <td>RepDavid</td>\n",
       "      <td>2020-06-25T10:22:13-04:00</td>\n",
       "      <td>Before adopting Olivia, we spent a great amoun...</td>\n",
       "      <td>David Schweikert</td>\n",
       "      <td>Rep</td>\n",
       "      <td>3-Jan-13</td>\n",
       "      <td>3/3/1962</td>\n",
       "      <td>M</td>\n",
       "      <td>AZ</td>\n",
       "      <td>6</td>\n",
       "      <td>Republican</td>\n",
       "      <td>1,252,401</td>\n",
       "      <td>1,161,167</td>\n",
       "      <td>1,025,232</td>\n",
       "      <td>1,233,654</td>\n",
       "      <td>adopt olivia spend great time learn arizona fo...</td>\n",
       "    </tr>\n",
       "    <tr>\n",
       "      <td>548996</td>\n",
       "      <td>1.082280e+18</td>\n",
       "      <td>RepSeanMaloney</td>\n",
       "      <td>2019-01-07T09:33:39-05:00</td>\n",
       "      <td>Are we supposed to take Trump seriously or lit...</td>\n",
       "      <td>Sean Patrick Maloney</td>\n",
       "      <td>Rep</td>\n",
       "      <td>3-Jan-13</td>\n",
       "      <td>7/30/1966</td>\n",
       "      <td>M</td>\n",
       "      <td>NY</td>\n",
       "      <td>18</td>\n",
       "      <td>Democrat</td>\n",
       "      <td>2,819,533</td>\n",
       "      <td>4,556,118</td>\n",
       "      <td>4,485,741</td>\n",
       "      <td>2,490,431</td>\n",
       "      <td>suppose trump seriously literally steel barrie...</td>\n",
       "    </tr>\n",
       "    <tr>\n",
       "      <td>652347</td>\n",
       "      <td>1.322270e+18</td>\n",
       "      <td>RepSteveChabot</td>\n",
       "      <td>2020-10-30T16:24:14-04:00</td>\n",
       "      <td>Thank you to Lieutenant Mike Tarr and Fire Chi...</td>\n",
       "      <td>Steve Chabot</td>\n",
       "      <td>Rep</td>\n",
       "      <td>3-Jan-11</td>\n",
       "      <td>1/22/1953</td>\n",
       "      <td>M</td>\n",
       "      <td>OH</td>\n",
       "      <td>1</td>\n",
       "      <td>Republican</td>\n",
       "      <td>2,841,005</td>\n",
       "      <td>2,394,164</td>\n",
       "      <td>2,827,709</td>\n",
       "      <td>2,661,437</td>\n",
       "      <td>thank lieutenant mike tarr fire chief ott hube...</td>\n",
       "    </tr>\n",
       "    <tr>\n",
       "      <td>267614</td>\n",
       "      <td>1.103730e+18</td>\n",
       "      <td>SenatorRisch</td>\n",
       "      <td>2019-03-07T13:33:23-05:00</td>\n",
       "      <td>Made remarks to @AmFreeSyria sharing my concer...</td>\n",
       "      <td>Jim Risch</td>\n",
       "      <td>Sen</td>\n",
       "      <td>3-Jan-09</td>\n",
       "      <td>5/3/1943</td>\n",
       "      <td>M</td>\n",
       "      <td>ID</td>\n",
       "      <td>Senate</td>\n",
       "      <td>Republican</td>\n",
       "      <td>409,055</td>\n",
       "      <td>189,765</td>\n",
       "      <td>212,787</td>\n",
       "      <td>420,911</td>\n",
       "      <td>remark amfreesyria share concern devastation w...</td>\n",
       "    </tr>\n",
       "    <tr>\n",
       "      <td>344386</td>\n",
       "      <td>1.097350e+18</td>\n",
       "      <td>RepThomasMassie</td>\n",
       "      <td>2019-02-17T23:35:06-05:00</td>\n",
       "      <td>@jeroneanderson @MontcoLP @LelandShow @realDon...</td>\n",
       "      <td>Thomas Massie</td>\n",
       "      <td>Rep</td>\n",
       "      <td>13-Nov-12</td>\n",
       "      <td>1/13/1971</td>\n",
       "      <td>M</td>\n",
       "      <td>KY</td>\n",
       "      <td>4</td>\n",
       "      <td>Republican</td>\n",
       "      <td>1,202,971</td>\n",
       "      <td>628,854</td>\n",
       "      <td>679,370</td>\n",
       "      <td>1,087,190</td>\n",
       "      <td>jeroneanderson montcolp lelandshow realdonaldt...</td>\n",
       "    </tr>\n",
       "  </tbody>\n",
       "</table>\n",
       "</div>"
      ],
      "text/plain": [
       "            tweet_id      screen_name                   datetime  \\\n",
       "36257   1.276160e+18         RepDavid  2020-06-25T10:22:13-04:00   \n",
       "548996  1.082280e+18   RepSeanMaloney  2019-01-07T09:33:39-05:00   \n",
       "652347  1.322270e+18   RepSteveChabot  2020-10-30T16:24:14-04:00   \n",
       "267614  1.103730e+18     SenatorRisch  2019-03-07T13:33:23-05:00   \n",
       "344386  1.097350e+18  RepThomasMassie  2019-02-17T23:35:06-05:00   \n",
       "\n",
       "                                                     text  \\\n",
       "36257   Before adopting Olivia, we spent a great amoun...   \n",
       "548996  Are we supposed to take Trump seriously or lit...   \n",
       "652347  Thank you to Lieutenant Mike Tarr and Fire Chi...   \n",
       "267614  Made remarks to @AmFreeSyria sharing my concer...   \n",
       "344386  @jeroneanderson @MontcoLP @LelandShow @realDon...   \n",
       "\n",
       "              name_wikipedia position joined_congress_date   birthday gender  \\\n",
       "36257       David Schweikert      Rep             3-Jan-13   3/3/1962      M   \n",
       "548996  Sean Patrick Maloney      Rep             3-Jan-13  7/30/1966      M   \n",
       "652347          Steve Chabot      Rep             3-Jan-11  1/22/1953      M   \n",
       "267614             Jim Risch      Sen             3-Jan-09   5/3/1943      M   \n",
       "344386         Thomas Massie      Rep            13-Nov-12  1/13/1971      M   \n",
       "\n",
       "       state district_number       party trump_2016_state_share  \\\n",
       "36257     AZ               6  Republican              1,252,401   \n",
       "548996    NY              18    Democrat              2,819,533   \n",
       "652347    OH               1  Republican              2,841,005   \n",
       "267614    ID          Senate  Republican                409,055   \n",
       "344386    KY               4  Republican              1,202,971   \n",
       "\n",
       "       clinton_2016_state_share obama_2012_state_share  \\\n",
       "36257                 1,161,167              1,025,232   \n",
       "548996                4,556,118              4,485,741   \n",
       "652347                2,394,164              2,827,709   \n",
       "267614                  189,765                212,787   \n",
       "344386                  628,854                679,370   \n",
       "\n",
       "       romney_2012_state_share  \\\n",
       "36257                1,233,654   \n",
       "548996               2,490,431   \n",
       "652347               2,661,437   \n",
       "267614                 420,911   \n",
       "344386               1,087,190   \n",
       "\n",
       "                                                   tokens  \n",
       "36257   adopt olivia spend great time learn arizona fo...  \n",
       "548996  suppose trump seriously literally steel barrie...  \n",
       "652347  thank lieutenant mike tarr fire chief ott hube...  \n",
       "267614  remark amfreesyria share concern devastation w...  \n",
       "344386  jeroneanderson montcolp lelandshow realdonaldt...  "
      ]
     },
     "execution_count": 30,
     "metadata": {},
     "output_type": "execute_result"
    }
   ],
   "source": [
    "#checking dataset\n",
    "congress_tweets['tokens'] = congress_tweets['tokens'].map(lambda text: ' '.join(text))\n",
    "congress_tweets.head()"
   ]
  },
  {
   "cell_type": "code",
   "execution_count": 34,
   "metadata": {},
   "outputs": [
    {
     "name": "stderr",
     "output_type": "stream",
     "text": [
      "/Users/jasminesanders/opt/anaconda3/lib/python3.7/site-packages/ipykernel_launcher.py:3: SettingWithCopyWarning: \n",
      "A value is trying to be set on a copy of a slice from a DataFrame.\n",
      "Try using .loc[row_indexer,col_indexer] = value instead\n",
      "\n",
      "See the caveats in the documentation: http://pandas.pydata.org/pandas-docs/stable/user_guide/indexing.html#returning-a-view-versus-a-copy\n",
      "  This is separate from the ipykernel package so we can avoid doing imports until\n",
      "/Users/jasminesanders/opt/anaconda3/lib/python3.7/site-packages/ipykernel_launcher.py:4: SettingWithCopyWarning: \n",
      "A value is trying to be set on a copy of a slice from a DataFrame.\n",
      "Try using .loc[row_indexer,col_indexer] = value instead\n",
      "\n",
      "See the caveats in the documentation: http://pandas.pydata.org/pandas-docs/stable/user_guide/indexing.html#returning-a-view-versus-a-copy\n",
      "  after removing the cwd from sys.path.\n",
      "/Users/jasminesanders/opt/anaconda3/lib/python3.7/site-packages/ipykernel_launcher.py:8: SettingWithCopyWarning: \n",
      "A value is trying to be set on a copy of a slice from a DataFrame.\n",
      "Try using .loc[row_indexer,col_indexer] = value instead\n",
      "\n",
      "See the caveats in the documentation: http://pandas.pydata.org/pandas-docs/stable/user_guide/indexing.html#returning-a-view-versus-a-copy\n",
      "  \n",
      "/Users/jasminesanders/opt/anaconda3/lib/python3.7/site-packages/ipykernel_launcher.py:9: SettingWithCopyWarning: \n",
      "A value is trying to be set on a copy of a slice from a DataFrame.\n",
      "Try using .loc[row_indexer,col_indexer] = value instead\n",
      "\n",
      "See the caveats in the documentation: http://pandas.pydata.org/pandas-docs/stable/user_guide/indexing.html#returning-a-view-versus-a-copy\n",
      "  if __name__ == '__main__':\n"
     ]
    }
   ],
   "source": [
    "#Conservative rep - Bradley Byrne\n",
    "byrne_tweets = congress_tweets[congress_tweets.name_wikipedia == 'Bradley Byrne']\n",
    "byrne_tweets['polarity'] = byrne_tweets['tokens'].map(lambda text: TextBlob(text).sentiment.polarity)\n",
    "byrne_tweets['subjectivity'] = byrne_tweets['tokens'].map(lambda text: TextBlob(text).sentiment.subjectivity)\n",
    "\n",
    "#Liberal rep - Maxine Waters\n",
    "waters_tweets = congress_tweets[congress_tweets.name_wikipedia == 'Maxine Waters']\n",
    "waters_tweets['polarity'] = waters_tweets['tokens'].map(lambda text: TextBlob(text).sentiment.polarity)\n",
    "waters_tweets['subjectivity'] = waters_tweets['tokens'].map(lambda text: TextBlob(text).sentiment.subjectivity)\n",
    "\n",
    "#Combine data frames\n",
    "tweets_combined = [byrne_tweets, waters_tweets]\n",
    "sentiment_1 = pd.concat(tweets_combined)"
   ]
  },
  {
   "cell_type": "code",
   "execution_count": 35,
   "metadata": {},
   "outputs": [],
   "source": [
    "#Trying .loc for conservative rep - Bradley Byrne - NONE OF THIS WORKS\n",
    "#byrne_tweets = congress_tweets.loc[:,('name_wikipedia')] = 'Bradley Byrne'\n",
    "#byrne_tweets = congress_tweets.loc[:,('name_wikipedia')] = Bradley Byrne\n",
    "#byrne_tweets = congress_tweets.loc[:,('name_wikipedia')]\n",
    "#byrne_tweets.head()"
   ]
  },
  {
   "cell_type": "code",
   "execution_count": 31,
   "metadata": {},
   "outputs": [
    {
     "data": {
      "image/png": "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\n",
      "text/plain": [
       "<Figure size 830.5x360 with 2 Axes>"
      ]
     },
     "metadata": {
      "needs_background": "light"
     },
     "output_type": "display_data"
    }
   ],
   "source": [
    "#Plot sentiment polarity for conservative & liberal legislators\n",
    "sns.displot(sentiment_1, x=\"polarity\", hue = \"name_wikipedia\", col = \"name_wikipedia\")\n",
    "plt.show()"
   ]
  },
  {
   "cell_type": "code",
   "execution_count": 37,
   "metadata": {},
   "outputs": [
    {
     "data": {
      "image/png": "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\n",
      "text/plain": [
       "<Figure size 830.5x360 with 2 Axes>"
      ]
     },
     "metadata": {
      "needs_background": "light"
     },
     "output_type": "display_data"
    }
   ],
   "source": [
    "#Plot sentiment subjectivity for conservative & liberal legislators\n",
    "sns.displot(sentiment_1, x=\"subjectivity\", hue = \"name_wikipedia\", col = \"name_wikipedia\")\n",
    "plt.show()"
   ]
  },
  {
   "cell_type": "code",
   "execution_count": 38,
   "metadata": {},
   "outputs": [
    {
     "data": {
      "text/html": [
       "<div>\n",
       "<style scoped>\n",
       "    .dataframe tbody tr th:only-of-type {\n",
       "        vertical-align: middle;\n",
       "    }\n",
       "\n",
       "    .dataframe tbody tr th {\n",
       "        vertical-align: top;\n",
       "    }\n",
       "\n",
       "    .dataframe thead th {\n",
       "        text-align: right;\n",
       "    }\n",
       "</style>\n",
       "<table border=\"1\" class=\"dataframe\">\n",
       "  <thead>\n",
       "    <tr style=\"text-align: right;\">\n",
       "      <th></th>\n",
       "      <th>tweet_id</th>\n",
       "      <th>screen_name</th>\n",
       "      <th>datetime</th>\n",
       "      <th>text</th>\n",
       "      <th>name_wikipedia</th>\n",
       "      <th>position</th>\n",
       "      <th>joined_congress_date</th>\n",
       "      <th>birthday</th>\n",
       "      <th>gender</th>\n",
       "      <th>state</th>\n",
       "      <th>district_number</th>\n",
       "      <th>party</th>\n",
       "      <th>trump_2016_state_share</th>\n",
       "      <th>clinton_2016_state_share</th>\n",
       "      <th>obama_2012_state_share</th>\n",
       "      <th>romney_2012_state_share</th>\n",
       "      <th>tokens</th>\n",
       "    </tr>\n",
       "  </thead>\n",
       "  <tbody>\n",
       "    <tr>\n",
       "      <td>548996</td>\n",
       "      <td>1.082280e+18</td>\n",
       "      <td>RepSeanMaloney</td>\n",
       "      <td>2019-01-07T09:33:39-05:00</td>\n",
       "      <td>Are we supposed to take Trump seriously or lit...</td>\n",
       "      <td>Sean Patrick Maloney</td>\n",
       "      <td>Rep</td>\n",
       "      <td>3-Jan-13</td>\n",
       "      <td>7/30/1966</td>\n",
       "      <td>M</td>\n",
       "      <td>NY</td>\n",
       "      <td>18</td>\n",
       "      <td>Democrat</td>\n",
       "      <td>2,819,533</td>\n",
       "      <td>4,556,118</td>\n",
       "      <td>4,485,741</td>\n",
       "      <td>2,490,431</td>\n",
       "      <td>suppose trump seriously literally steel barrie...</td>\n",
       "    </tr>\n",
       "    <tr>\n",
       "      <td>883815</td>\n",
       "      <td>1.299790e+18</td>\n",
       "      <td>RepDonBeyer</td>\n",
       "      <td>2020-08-29T15:08:50-04:00</td>\n",
       "      <td>RT @JECDems Racial disparities are at the hear...</td>\n",
       "      <td>Don Beyer</td>\n",
       "      <td>Rep</td>\n",
       "      <td>3-Jan-15</td>\n",
       "      <td>6/20/1950</td>\n",
       "      <td>M</td>\n",
       "      <td>VA</td>\n",
       "      <td>8</td>\n",
       "      <td>Democrat</td>\n",
       "      <td>1,769,443</td>\n",
       "      <td>1,981,473</td>\n",
       "      <td>1,971,820</td>\n",
       "      <td>1,822,522</td>\n",
       "      <td>jecdems racial disparity heart black americans...</td>\n",
       "    </tr>\n",
       "    <tr>\n",
       "      <td>895281</td>\n",
       "      <td>1.125470e+18</td>\n",
       "      <td>PattyMurray</td>\n",
       "      <td>2019-05-06T14:25:00-04:00</td>\n",
       "      <td>Grateful for our servicemembers in Washington ...</td>\n",
       "      <td>Patty Murray</td>\n",
       "      <td>Sen</td>\n",
       "      <td>3-Jan-17</td>\n",
       "      <td>10/11/1950</td>\n",
       "      <td>F</td>\n",
       "      <td>WA</td>\n",
       "      <td>Senate</td>\n",
       "      <td>Democrat</td>\n",
       "      <td>1,221,747</td>\n",
       "      <td>1,742,718</td>\n",
       "      <td>1,755,396</td>\n",
       "      <td>1,290,670</td>\n",
       "      <td>grateful servicemember washington state amp wo...</td>\n",
       "    </tr>\n",
       "    <tr>\n",
       "      <td>585652</td>\n",
       "      <td>1.242130e+18</td>\n",
       "      <td>RepSeanMaloney</td>\n",
       "      <td>2020-03-23T12:45:45-04:00</td>\n",
       "      <td>We can't sit around and wait for this virus to...</td>\n",
       "      <td>Sean Patrick Maloney</td>\n",
       "      <td>Rep</td>\n",
       "      <td>3-Jan-13</td>\n",
       "      <td>7/30/1966</td>\n",
       "      <td>M</td>\n",
       "      <td>NY</td>\n",
       "      <td>18</td>\n",
       "      <td>Democrat</td>\n",
       "      <td>2,819,533</td>\n",
       "      <td>4,556,118</td>\n",
       "      <td>4,485,741</td>\n",
       "      <td>2,490,431</td>\n",
       "      <td>sit wait virus spike need prepare surge minute...</td>\n",
       "    </tr>\n",
       "    <tr>\n",
       "      <td>58052</td>\n",
       "      <td>1.088520e+18</td>\n",
       "      <td>NormaJTorres</td>\n",
       "      <td>2019-01-24T14:15:55-05:00</td>\n",
       "      <td>Did I mention @JoeBiden is on our flight? I’m ...</td>\n",
       "      <td>Norma Torres</td>\n",
       "      <td>Rep</td>\n",
       "      <td>3-Jan-15</td>\n",
       "      <td>4/4/1965</td>\n",
       "      <td>F</td>\n",
       "      <td>CA</td>\n",
       "      <td>35</td>\n",
       "      <td>Democrat</td>\n",
       "      <td>4,483,814</td>\n",
       "      <td>8,753,792</td>\n",
       "      <td>7,854,285</td>\n",
       "      <td>4,839,958</td>\n",
       "      <td>mention joebiden flight thrilled middle seat r...</td>\n",
       "    </tr>\n",
       "    <tr>\n",
       "      <td>923372</td>\n",
       "      <td>1.193180e+18</td>\n",
       "      <td>Sen_JoeManchin</td>\n",
       "      <td>2019-11-09T09:43:00-05:00</td>\n",
       "      <td>#ICYMI: Watch my announcement of the Bipartisa...</td>\n",
       "      <td>Joe Manchin</td>\n",
       "      <td>Sen</td>\n",
       "      <td>15-Nov-10</td>\n",
       "      <td>8/24/1947</td>\n",
       "      <td>M</td>\n",
       "      <td>WV</td>\n",
       "      <td>Senate</td>\n",
       "      <td>Democrat</td>\n",
       "      <td>489,371</td>\n",
       "      <td>188,794</td>\n",
       "      <td>238,269</td>\n",
       "      <td>417,655</td>\n",
       "      <td>icymi watch announcement bipartisan american m...</td>\n",
       "    </tr>\n",
       "    <tr>\n",
       "      <td>514891</td>\n",
       "      <td>1.187370e+18</td>\n",
       "      <td>BillPascrell</td>\n",
       "      <td>2019-10-24T10:00:32-04:00</td>\n",
       "      <td>This is extraordinary. The NY state bar has ca...</td>\n",
       "      <td>Bill Pascrell</td>\n",
       "      <td>Rep</td>\n",
       "      <td>3-Jan-13</td>\n",
       "      <td>1/25/1937</td>\n",
       "      <td>M</td>\n",
       "      <td>NJ</td>\n",
       "      <td>9</td>\n",
       "      <td>Democrat</td>\n",
       "      <td>1,601,933</td>\n",
       "      <td>2,148,278</td>\n",
       "      <td>2,125,101</td>\n",
       "      <td>1,477,568</td>\n",
       "      <td>extraordinary ny state bar ag barr recuse ukra...</td>\n",
       "    </tr>\n",
       "    <tr>\n",
       "      <td>577238</td>\n",
       "      <td>1.208820e+18</td>\n",
       "      <td>SenSchumer</td>\n",
       "      <td>2019-12-22T13:32:57-05:00</td>\n",
       "      <td>If there is nothing wrong with withholding the...</td>\n",
       "      <td>Chuck Schumer</td>\n",
       "      <td>Sen</td>\n",
       "      <td>3-Jan-17</td>\n",
       "      <td>11/23/1950</td>\n",
       "      <td>M</td>\n",
       "      <td>NY</td>\n",
       "      <td>Senate</td>\n",
       "      <td>Democrat</td>\n",
       "      <td>2,819,533</td>\n",
       "      <td>4,556,118</td>\n",
       "      <td>4,485,741</td>\n",
       "      <td>2,490,431</td>\n",
       "      <td>wrong withhold aid michael duffey want know pe...</td>\n",
       "    </tr>\n",
       "    <tr>\n",
       "      <td>501693</td>\n",
       "      <td>1.327370e+18</td>\n",
       "      <td>SenatorShaheen</td>\n",
       "      <td>2020-11-13T17:15:57-05:00</td>\n",
       "      <td>.@StateDept – despite efforts to downplay the ...</td>\n",
       "      <td>Jeanne Shaheen</td>\n",
       "      <td>Sen</td>\n",
       "      <td>3-Jan-09</td>\n",
       "      <td>1/28/1947</td>\n",
       "      <td>F</td>\n",
       "      <td>NH</td>\n",
       "      <td>Senate</td>\n",
       "      <td>Democrat</td>\n",
       "      <td>345,790</td>\n",
       "      <td>348,526</td>\n",
       "      <td>369,561</td>\n",
       "      <td>329,918</td>\n",
       "      <td>statedept – despite effort downplay impact – a...</td>\n",
       "    </tr>\n",
       "    <tr>\n",
       "      <td>675169</td>\n",
       "      <td>1.086360e+18</td>\n",
       "      <td>CongBoyle</td>\n",
       "      <td>2019-01-18T15:28:06-05:00</td>\n",
       "      <td>RT @WaysMeansCmte January 2019: Mnuchin refuse...</td>\n",
       "      <td>Brendan Boyle</td>\n",
       "      <td>Rep</td>\n",
       "      <td>3-Jan-15</td>\n",
       "      <td>2/6/1977</td>\n",
       "      <td>M</td>\n",
       "      <td>PA</td>\n",
       "      <td>2</td>\n",
       "      <td>Democrat</td>\n",
       "      <td>2,970,733</td>\n",
       "      <td>2,926,441</td>\n",
       "      <td>2,990,274</td>\n",
       "      <td>2,680,434</td>\n",
       "      <td>waysmeanscmte january mnuchin refuse appear co...</td>\n",
       "    </tr>\n",
       "  </tbody>\n",
       "</table>\n",
       "</div>"
      ],
      "text/plain": [
       "            tweet_id     screen_name                   datetime  \\\n",
       "548996  1.082280e+18  RepSeanMaloney  2019-01-07T09:33:39-05:00   \n",
       "883815  1.299790e+18     RepDonBeyer  2020-08-29T15:08:50-04:00   \n",
       "895281  1.125470e+18     PattyMurray  2019-05-06T14:25:00-04:00   \n",
       "585652  1.242130e+18  RepSeanMaloney  2020-03-23T12:45:45-04:00   \n",
       "58052   1.088520e+18    NormaJTorres  2019-01-24T14:15:55-05:00   \n",
       "923372  1.193180e+18  Sen_JoeManchin  2019-11-09T09:43:00-05:00   \n",
       "514891  1.187370e+18    BillPascrell  2019-10-24T10:00:32-04:00   \n",
       "577238  1.208820e+18      SenSchumer  2019-12-22T13:32:57-05:00   \n",
       "501693  1.327370e+18  SenatorShaheen  2020-11-13T17:15:57-05:00   \n",
       "675169  1.086360e+18       CongBoyle  2019-01-18T15:28:06-05:00   \n",
       "\n",
       "                                                     text  \\\n",
       "548996  Are we supposed to take Trump seriously or lit...   \n",
       "883815  RT @JECDems Racial disparities are at the hear...   \n",
       "895281  Grateful for our servicemembers in Washington ...   \n",
       "585652  We can't sit around and wait for this virus to...   \n",
       "58052   Did I mention @JoeBiden is on our flight? I’m ...   \n",
       "923372  #ICYMI: Watch my announcement of the Bipartisa...   \n",
       "514891  This is extraordinary. The NY state bar has ca...   \n",
       "577238  If there is nothing wrong with withholding the...   \n",
       "501693  .@StateDept – despite efforts to downplay the ...   \n",
       "675169  RT @WaysMeansCmte January 2019: Mnuchin refuse...   \n",
       "\n",
       "              name_wikipedia position joined_congress_date    birthday gender  \\\n",
       "548996  Sean Patrick Maloney      Rep             3-Jan-13   7/30/1966      M   \n",
       "883815             Don Beyer      Rep             3-Jan-15   6/20/1950      M   \n",
       "895281          Patty Murray      Sen             3-Jan-17  10/11/1950      F   \n",
       "585652  Sean Patrick Maloney      Rep             3-Jan-13   7/30/1966      M   \n",
       "58052           Norma Torres      Rep             3-Jan-15    4/4/1965      F   \n",
       "923372           Joe Manchin      Sen            15-Nov-10   8/24/1947      M   \n",
       "514891         Bill Pascrell      Rep             3-Jan-13   1/25/1937      M   \n",
       "577238         Chuck Schumer      Sen             3-Jan-17  11/23/1950      M   \n",
       "501693        Jeanne Shaheen      Sen             3-Jan-09   1/28/1947      F   \n",
       "675169         Brendan Boyle      Rep             3-Jan-15    2/6/1977      M   \n",
       "\n",
       "       state district_number     party trump_2016_state_share  \\\n",
       "548996    NY              18  Democrat              2,819,533   \n",
       "883815    VA               8  Democrat              1,769,443   \n",
       "895281    WA          Senate  Democrat              1,221,747   \n",
       "585652    NY              18  Democrat              2,819,533   \n",
       "58052     CA              35  Democrat              4,483,814   \n",
       "923372    WV          Senate  Democrat                489,371   \n",
       "514891    NJ               9  Democrat              1,601,933   \n",
       "577238    NY          Senate  Democrat              2,819,533   \n",
       "501693    NH          Senate  Democrat                345,790   \n",
       "675169    PA               2  Democrat              2,970,733   \n",
       "\n",
       "       clinton_2016_state_share obama_2012_state_share  \\\n",
       "548996                4,556,118              4,485,741   \n",
       "883815                1,981,473              1,971,820   \n",
       "895281                1,742,718              1,755,396   \n",
       "585652                4,556,118              4,485,741   \n",
       "58052                 8,753,792              7,854,285   \n",
       "923372                  188,794                238,269   \n",
       "514891                2,148,278              2,125,101   \n",
       "577238                4,556,118              4,485,741   \n",
       "501693                  348,526                369,561   \n",
       "675169                2,926,441              2,990,274   \n",
       "\n",
       "       romney_2012_state_share  \\\n",
       "548996               2,490,431   \n",
       "883815               1,822,522   \n",
       "895281               1,290,670   \n",
       "585652               2,490,431   \n",
       "58052                4,839,958   \n",
       "923372                 417,655   \n",
       "514891               1,477,568   \n",
       "577238               2,490,431   \n",
       "501693                 329,918   \n",
       "675169               2,680,434   \n",
       "\n",
       "                                                   tokens  \n",
       "548996  suppose trump seriously literally steel barrie...  \n",
       "883815  jecdems racial disparity heart black americans...  \n",
       "895281  grateful servicemember washington state amp wo...  \n",
       "585652  sit wait virus spike need prepare surge minute...  \n",
       "58052   mention joebiden flight thrilled middle seat r...  \n",
       "923372  icymi watch announcement bipartisan american m...  \n",
       "514891  extraordinary ny state bar ag barr recuse ukra...  \n",
       "577238  wrong withhold aid michael duffey want know pe...  \n",
       "501693  statedept – despite effort downplay impact – a...  \n",
       "675169  waysmeanscmte january mnuchin refuse appear co...  "
      ]
     },
     "execution_count": 38,
     "metadata": {},
     "output_type": "execute_result"
    }
   ],
   "source": [
    "#creating Dems (and checking dataset)\n",
    "dem_tweets = congress_tweets[congress_tweets.party == 'Democrat']\n",
    "dem_tweets.head(10)"
   ]
  },
  {
   "cell_type": "code",
   "execution_count": 39,
   "metadata": {},
   "outputs": [
    {
     "data": {
      "text/html": [
       "<div>\n",
       "<style scoped>\n",
       "    .dataframe tbody tr th:only-of-type {\n",
       "        vertical-align: middle;\n",
       "    }\n",
       "\n",
       "    .dataframe tbody tr th {\n",
       "        vertical-align: top;\n",
       "    }\n",
       "\n",
       "    .dataframe thead th {\n",
       "        text-align: right;\n",
       "    }\n",
       "</style>\n",
       "<table border=\"1\" class=\"dataframe\">\n",
       "  <thead>\n",
       "    <tr style=\"text-align: right;\">\n",
       "      <th></th>\n",
       "      <th>tweet_id</th>\n",
       "      <th>screen_name</th>\n",
       "      <th>datetime</th>\n",
       "      <th>text</th>\n",
       "      <th>name_wikipedia</th>\n",
       "      <th>position</th>\n",
       "      <th>joined_congress_date</th>\n",
       "      <th>birthday</th>\n",
       "      <th>gender</th>\n",
       "      <th>state</th>\n",
       "      <th>district_number</th>\n",
       "      <th>party</th>\n",
       "      <th>trump_2016_state_share</th>\n",
       "      <th>clinton_2016_state_share</th>\n",
       "      <th>obama_2012_state_share</th>\n",
       "      <th>romney_2012_state_share</th>\n",
       "      <th>tokens</th>\n",
       "    </tr>\n",
       "  </thead>\n",
       "  <tbody>\n",
       "    <tr>\n",
       "      <td>36257</td>\n",
       "      <td>1.276160e+18</td>\n",
       "      <td>RepDavid</td>\n",
       "      <td>2020-06-25T10:22:13-04:00</td>\n",
       "      <td>Before adopting Olivia, we spent a great amoun...</td>\n",
       "      <td>David Schweikert</td>\n",
       "      <td>Rep</td>\n",
       "      <td>3-Jan-13</td>\n",
       "      <td>3/3/1962</td>\n",
       "      <td>M</td>\n",
       "      <td>AZ</td>\n",
       "      <td>6</td>\n",
       "      <td>Republican</td>\n",
       "      <td>1,252,401</td>\n",
       "      <td>1,161,167</td>\n",
       "      <td>1,025,232</td>\n",
       "      <td>1,233,654</td>\n",
       "      <td>adopt olivia spend great time learn arizona fo...</td>\n",
       "    </tr>\n",
       "    <tr>\n",
       "      <td>652347</td>\n",
       "      <td>1.322270e+18</td>\n",
       "      <td>RepSteveChabot</td>\n",
       "      <td>2020-10-30T16:24:14-04:00</td>\n",
       "      <td>Thank you to Lieutenant Mike Tarr and Fire Chi...</td>\n",
       "      <td>Steve Chabot</td>\n",
       "      <td>Rep</td>\n",
       "      <td>3-Jan-11</td>\n",
       "      <td>1/22/1953</td>\n",
       "      <td>M</td>\n",
       "      <td>OH</td>\n",
       "      <td>1</td>\n",
       "      <td>Republican</td>\n",
       "      <td>2,841,005</td>\n",
       "      <td>2,394,164</td>\n",
       "      <td>2,827,709</td>\n",
       "      <td>2,661,437</td>\n",
       "      <td>thank lieutenant mike tarr fire chief ott hube...</td>\n",
       "    </tr>\n",
       "    <tr>\n",
       "      <td>267614</td>\n",
       "      <td>1.103730e+18</td>\n",
       "      <td>SenatorRisch</td>\n",
       "      <td>2019-03-07T13:33:23-05:00</td>\n",
       "      <td>Made remarks to @AmFreeSyria sharing my concer...</td>\n",
       "      <td>Jim Risch</td>\n",
       "      <td>Sen</td>\n",
       "      <td>3-Jan-09</td>\n",
       "      <td>5/3/1943</td>\n",
       "      <td>M</td>\n",
       "      <td>ID</td>\n",
       "      <td>Senate</td>\n",
       "      <td>Republican</td>\n",
       "      <td>409,055</td>\n",
       "      <td>189,765</td>\n",
       "      <td>212,787</td>\n",
       "      <td>420,911</td>\n",
       "      <td>remark amfreesyria share concern devastation w...</td>\n",
       "    </tr>\n",
       "    <tr>\n",
       "      <td>344386</td>\n",
       "      <td>1.097350e+18</td>\n",
       "      <td>RepThomasMassie</td>\n",
       "      <td>2019-02-17T23:35:06-05:00</td>\n",
       "      <td>@jeroneanderson @MontcoLP @LelandShow @realDon...</td>\n",
       "      <td>Thomas Massie</td>\n",
       "      <td>Rep</td>\n",
       "      <td>13-Nov-12</td>\n",
       "      <td>1/13/1971</td>\n",
       "      <td>M</td>\n",
       "      <td>KY</td>\n",
       "      <td>4</td>\n",
       "      <td>Republican</td>\n",
       "      <td>1,202,971</td>\n",
       "      <td>628,854</td>\n",
       "      <td>679,370</td>\n",
       "      <td>1,087,190</td>\n",
       "      <td>jeroneanderson montcolp lelandshow realdonaldt...</td>\n",
       "    </tr>\n",
       "    <tr>\n",
       "      <td>834593</td>\n",
       "      <td>1.317530e+18</td>\n",
       "      <td>JohnCornyn</td>\n",
       "      <td>2020-10-17T14:35:28-04:00</td>\n",
       "      <td>RT @CBPMarkMorgan Early this morning, USBP age...</td>\n",
       "      <td>John Cornyn</td>\n",
       "      <td>Sen</td>\n",
       "      <td>2-Dec-02</td>\n",
       "      <td>2/2/1952</td>\n",
       "      <td>M</td>\n",
       "      <td>TX</td>\n",
       "      <td>Senate</td>\n",
       "      <td>Republican</td>\n",
       "      <td>4,685,047</td>\n",
       "      <td>3,877,868</td>\n",
       "      <td>3,308,124</td>\n",
       "      <td>4,569,843</td>\n",
       "      <td>cbpmarkmorgan early morning usbp agent locate ...</td>\n",
       "    </tr>\n",
       "    <tr>\n",
       "      <td>460421</td>\n",
       "      <td>1.295440e+18</td>\n",
       "      <td>SenatorWicker</td>\n",
       "      <td>2020-08-17T15:19:36-04:00</td>\n",
       "      <td>Americans have been deeply disturbed by the ch...</td>\n",
       "      <td>Roger Wicker</td>\n",
       "      <td>Sen</td>\n",
       "      <td>31-Dec-07</td>\n",
       "      <td>7/5/1951</td>\n",
       "      <td>M</td>\n",
       "      <td>MS</td>\n",
       "      <td>Senate</td>\n",
       "      <td>Republican</td>\n",
       "      <td>700,714</td>\n",
       "      <td>485,131</td>\n",
       "      <td>562,949</td>\n",
       "      <td>710,746</td>\n",
       "      <td>americans deeply disturb chaos unfold lately c...</td>\n",
       "    </tr>\n",
       "    <tr>\n",
       "      <td>338915</td>\n",
       "      <td>1.129050e+18</td>\n",
       "      <td>SenPatRoberts</td>\n",
       "      <td>2019-05-16T11:55:01-04:00</td>\n",
       "      <td>RT @SenateAgGOP #TBT to 1992 when #Kansas #FFA...</td>\n",
       "      <td>Pat Roberts</td>\n",
       "      <td>Sen</td>\n",
       "      <td>3-Jan-97</td>\n",
       "      <td>4/20/1936</td>\n",
       "      <td>M</td>\n",
       "      <td>KS</td>\n",
       "      <td>Senate</td>\n",
       "      <td>Republican</td>\n",
       "      <td>671,018</td>\n",
       "      <td>427,005</td>\n",
       "      <td>440,726</td>\n",
       "      <td>692,634</td>\n",
       "      <td>senateaggop tbt kansas ffa visit washington</td>\n",
       "    </tr>\n",
       "    <tr>\n",
       "      <td>617622</td>\n",
       "      <td>1.254890e+18</td>\n",
       "      <td>RepRichHudson</td>\n",
       "      <td>2020-04-27T17:49:25-04:00</td>\n",
       "      <td>RT @CLTMotorSpdwy Happy birthday @austindillon...</td>\n",
       "      <td>Richard Hudson</td>\n",
       "      <td>Rep</td>\n",
       "      <td>3-Jan-13</td>\n",
       "      <td>11/4/1971</td>\n",
       "      <td>M</td>\n",
       "      <td>NC</td>\n",
       "      <td>8</td>\n",
       "      <td>Republican</td>\n",
       "      <td>2,362,631</td>\n",
       "      <td>2,189,316</td>\n",
       "      <td>2,178,391</td>\n",
       "      <td>2,270,395</td>\n",
       "      <td>cltmotorspdwy happy birthday austindillon hope...</td>\n",
       "    </tr>\n",
       "    <tr>\n",
       "      <td>844815</td>\n",
       "      <td>1.186700e+18</td>\n",
       "      <td>SenMikeLee</td>\n",
       "      <td>2019-10-22T13:39:45-04:00</td>\n",
       "      <td>Great meeting with @alexisohanian and @PaidLea...</td>\n",
       "      <td>Mike Lee</td>\n",
       "      <td>Sen</td>\n",
       "      <td>3-Jan-19</td>\n",
       "      <td>6/4/1971</td>\n",
       "      <td>M</td>\n",
       "      <td>UT</td>\n",
       "      <td>Senate</td>\n",
       "      <td>Republican</td>\n",
       "      <td>515,231</td>\n",
       "      <td>310,676</td>\n",
       "      <td>251,813</td>\n",
       "      <td>740,600</td>\n",
       "      <td>great meeting alexisohanian paidleaveus today ...</td>\n",
       "    </tr>\n",
       "    <tr>\n",
       "      <td>926478</td>\n",
       "      <td>1.260670e+18</td>\n",
       "      <td>SenCapito</td>\n",
       "      <td>2020-05-13T16:35:34-04:00</td>\n",
       "      <td>We know the bottom line to deploying #broadban...</td>\n",
       "      <td>Shelley Moore Capito</td>\n",
       "      <td>Sen</td>\n",
       "      <td>3-Jan-15</td>\n",
       "      <td>11/26/1953</td>\n",
       "      <td>F</td>\n",
       "      <td>WV</td>\n",
       "      <td>Senate</td>\n",
       "      <td>Republican</td>\n",
       "      <td>489,371</td>\n",
       "      <td>188,794</td>\n",
       "      <td>238,269</td>\n",
       "      <td>417,655</td>\n",
       "      <td>know line deploy broadband time money state li...</td>\n",
       "    </tr>\n",
       "  </tbody>\n",
       "</table>\n",
       "</div>"
      ],
      "text/plain": [
       "            tweet_id      screen_name                   datetime  \\\n",
       "36257   1.276160e+18         RepDavid  2020-06-25T10:22:13-04:00   \n",
       "652347  1.322270e+18   RepSteveChabot  2020-10-30T16:24:14-04:00   \n",
       "267614  1.103730e+18     SenatorRisch  2019-03-07T13:33:23-05:00   \n",
       "344386  1.097350e+18  RepThomasMassie  2019-02-17T23:35:06-05:00   \n",
       "834593  1.317530e+18       JohnCornyn  2020-10-17T14:35:28-04:00   \n",
       "460421  1.295440e+18    SenatorWicker  2020-08-17T15:19:36-04:00   \n",
       "338915  1.129050e+18    SenPatRoberts  2019-05-16T11:55:01-04:00   \n",
       "617622  1.254890e+18    RepRichHudson  2020-04-27T17:49:25-04:00   \n",
       "844815  1.186700e+18       SenMikeLee  2019-10-22T13:39:45-04:00   \n",
       "926478  1.260670e+18        SenCapito  2020-05-13T16:35:34-04:00   \n",
       "\n",
       "                                                     text  \\\n",
       "36257   Before adopting Olivia, we spent a great amoun...   \n",
       "652347  Thank you to Lieutenant Mike Tarr and Fire Chi...   \n",
       "267614  Made remarks to @AmFreeSyria sharing my concer...   \n",
       "344386  @jeroneanderson @MontcoLP @LelandShow @realDon...   \n",
       "834593  RT @CBPMarkMorgan Early this morning, USBP age...   \n",
       "460421  Americans have been deeply disturbed by the ch...   \n",
       "338915  RT @SenateAgGOP #TBT to 1992 when #Kansas #FFA...   \n",
       "617622  RT @CLTMotorSpdwy Happy birthday @austindillon...   \n",
       "844815  Great meeting with @alexisohanian and @PaidLea...   \n",
       "926478  We know the bottom line to deploying #broadban...   \n",
       "\n",
       "              name_wikipedia position joined_congress_date    birthday gender  \\\n",
       "36257       David Schweikert      Rep             3-Jan-13    3/3/1962      M   \n",
       "652347          Steve Chabot      Rep             3-Jan-11   1/22/1953      M   \n",
       "267614             Jim Risch      Sen             3-Jan-09    5/3/1943      M   \n",
       "344386         Thomas Massie      Rep            13-Nov-12   1/13/1971      M   \n",
       "834593           John Cornyn      Sen             2-Dec-02    2/2/1952      M   \n",
       "460421          Roger Wicker      Sen            31-Dec-07    7/5/1951      M   \n",
       "338915           Pat Roberts      Sen             3-Jan-97   4/20/1936      M   \n",
       "617622        Richard Hudson      Rep             3-Jan-13   11/4/1971      M   \n",
       "844815              Mike Lee      Sen             3-Jan-19    6/4/1971      M   \n",
       "926478  Shelley Moore Capito      Sen             3-Jan-15  11/26/1953      F   \n",
       "\n",
       "       state district_number       party trump_2016_state_share  \\\n",
       "36257     AZ               6  Republican              1,252,401   \n",
       "652347    OH               1  Republican              2,841,005   \n",
       "267614    ID          Senate  Republican                409,055   \n",
       "344386    KY               4  Republican              1,202,971   \n",
       "834593    TX          Senate  Republican              4,685,047   \n",
       "460421    MS          Senate  Republican                700,714   \n",
       "338915    KS          Senate  Republican                671,018   \n",
       "617622    NC               8  Republican              2,362,631   \n",
       "844815    UT          Senate  Republican                515,231   \n",
       "926478    WV          Senate  Republican                489,371   \n",
       "\n",
       "       clinton_2016_state_share obama_2012_state_share  \\\n",
       "36257                 1,161,167              1,025,232   \n",
       "652347                2,394,164              2,827,709   \n",
       "267614                  189,765                212,787   \n",
       "344386                  628,854                679,370   \n",
       "834593                3,877,868              3,308,124   \n",
       "460421                  485,131                562,949   \n",
       "338915                  427,005                440,726   \n",
       "617622                2,189,316              2,178,391   \n",
       "844815                  310,676                251,813   \n",
       "926478                  188,794                238,269   \n",
       "\n",
       "       romney_2012_state_share  \\\n",
       "36257                1,233,654   \n",
       "652347               2,661,437   \n",
       "267614                 420,911   \n",
       "344386               1,087,190   \n",
       "834593               4,569,843   \n",
       "460421                 710,746   \n",
       "338915                 692,634   \n",
       "617622               2,270,395   \n",
       "844815                 740,600   \n",
       "926478                 417,655   \n",
       "\n",
       "                                                   tokens  \n",
       "36257   adopt olivia spend great time learn arizona fo...  \n",
       "652347  thank lieutenant mike tarr fire chief ott hube...  \n",
       "267614  remark amfreesyria share concern devastation w...  \n",
       "344386  jeroneanderson montcolp lelandshow realdonaldt...  \n",
       "834593  cbpmarkmorgan early morning usbp agent locate ...  \n",
       "460421  americans deeply disturb chaos unfold lately c...  \n",
       "338915        senateaggop tbt kansas ffa visit washington  \n",
       "617622  cltmotorspdwy happy birthday austindillon hope...  \n",
       "844815  great meeting alexisohanian paidleaveus today ...  \n",
       "926478  know line deploy broadband time money state li...  "
      ]
     },
     "execution_count": 39,
     "metadata": {},
     "output_type": "execute_result"
    }
   ],
   "source": [
    "#creating Republicans (and checking dataset)\n",
    "repub_tweets = congress_tweets[congress_tweets.party == 'Republican']\n",
    "repub_tweets.head(10)"
   ]
  },
  {
   "cell_type": "code",
   "execution_count": 40,
   "metadata": {},
   "outputs": [
    {
     "name": "stderr",
     "output_type": "stream",
     "text": [
      "/Users/jasminesanders/opt/anaconda3/lib/python3.7/site-packages/ipykernel_launcher.py:2: SettingWithCopyWarning: \n",
      "A value is trying to be set on a copy of a slice from a DataFrame.\n",
      "Try using .loc[row_indexer,col_indexer] = value instead\n",
      "\n",
      "See the caveats in the documentation: http://pandas.pydata.org/pandas-docs/stable/user_guide/indexing.html#returning-a-view-versus-a-copy\n",
      "  \n",
      "/Users/jasminesanders/opt/anaconda3/lib/python3.7/site-packages/ipykernel_launcher.py:3: SettingWithCopyWarning: \n",
      "A value is trying to be set on a copy of a slice from a DataFrame.\n",
      "Try using .loc[row_indexer,col_indexer] = value instead\n",
      "\n",
      "See the caveats in the documentation: http://pandas.pydata.org/pandas-docs/stable/user_guide/indexing.html#returning-a-view-versus-a-copy\n",
      "  This is separate from the ipykernel package so we can avoid doing imports until\n",
      "/Users/jasminesanders/opt/anaconda3/lib/python3.7/site-packages/ipykernel_launcher.py:5: SettingWithCopyWarning: \n",
      "A value is trying to be set on a copy of a slice from a DataFrame.\n",
      "Try using .loc[row_indexer,col_indexer] = value instead\n",
      "\n",
      "See the caveats in the documentation: http://pandas.pydata.org/pandas-docs/stable/user_guide/indexing.html#returning-a-view-versus-a-copy\n",
      "  \"\"\"\n",
      "/Users/jasminesanders/opt/anaconda3/lib/python3.7/site-packages/ipykernel_launcher.py:6: SettingWithCopyWarning: \n",
      "A value is trying to be set on a copy of a slice from a DataFrame.\n",
      "Try using .loc[row_indexer,col_indexer] = value instead\n",
      "\n",
      "See the caveats in the documentation: http://pandas.pydata.org/pandas-docs/stable/user_guide/indexing.html#returning-a-view-versus-a-copy\n",
      "  \n"
     ]
    }
   ],
   "source": [
    "#Get polarity & subjectivity for Dem & Republican tweets\n",
    "dem_tweets['polarity'] = dem_tweets['tokens'].map(lambda text: TextBlob(text).sentiment.polarity)\n",
    "dem_tweets['subjectivity'] = dem_tweets['tokens'].map(lambda text: TextBlob(text).sentiment.subjectivity)\n",
    "\n",
    "repub_tweets['polarity'] = repub_tweets['tokens'].map(lambda text: TextBlob(text).sentiment.polarity)\n",
    "repub_tweets['subjectivity'] = repub_tweets['tokens'].map(lambda text: TextBlob(text).sentiment.subjectivity)\n",
    "\n",
    "#Combine data frames\n",
    "party_combined = [dem_tweets, repub_tweets]\n",
    "sentiment_2 = pd.concat(party_combined)"
   ]
  },
  {
   "cell_type": "code",
   "execution_count": 41,
   "metadata": {},
   "outputs": [
    {
     "data": {
      "image/png": "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\n",
      "text/plain": [
       "<Figure size 811.625x360 with 2 Axes>"
      ]
     },
     "metadata": {
      "needs_background": "light"
     },
     "output_type": "display_data"
    }
   ],
   "source": [
    "#Plot sentiment polarity for Dems vs. Republicans\n",
    "sns.displot(sentiment_2, x=\"polarity\", hue = \"party\", col = \"party\")\n",
    "plt.show()"
   ]
  },
  {
   "cell_type": "code",
   "execution_count": 42,
   "metadata": {},
   "outputs": [
    {
     "data": {
      "image/png": "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\n",
      "text/plain": [
       "<Figure size 811.625x360 with 2 Axes>"
      ]
     },
     "metadata": {
      "needs_background": "light"
     },
     "output_type": "display_data"
    }
   ],
   "source": [
    "#Plot sentiment subjectivity for Dems vs. Republicans\n",
    "sns.displot(sentiment_2, x=\"subjectivity\", hue = \"party\", col = \"party\")\n",
    "plt.show()"
   ]
  },
  {
   "cell_type": "code",
   "execution_count": 43,
   "metadata": {},
   "outputs": [
    {
     "name": "stderr",
     "output_type": "stream",
     "text": [
      "/Users/jasminesanders/opt/anaconda3/lib/python3.7/site-packages/ipykernel_launcher.py:3: SettingWithCopyWarning: \n",
      "A value is trying to be set on a copy of a slice from a DataFrame.\n",
      "Try using .loc[row_indexer,col_indexer] = value instead\n",
      "\n",
      "See the caveats in the documentation: http://pandas.pydata.org/pandas-docs/stable/user_guide/indexing.html#returning-a-view-versus-a-copy\n",
      "  This is separate from the ipykernel package so we can avoid doing imports until\n",
      "/Users/jasminesanders/opt/anaconda3/lib/python3.7/site-packages/ipykernel_launcher.py:4: SettingWithCopyWarning: \n",
      "A value is trying to be set on a copy of a slice from a DataFrame.\n",
      "Try using .loc[row_indexer,col_indexer] = value instead\n",
      "\n",
      "See the caveats in the documentation: http://pandas.pydata.org/pandas-docs/stable/user_guide/indexing.html#returning-a-view-versus-a-copy\n",
      "  after removing the cwd from sys.path.\n",
      "/Users/jasminesanders/opt/anaconda3/lib/python3.7/site-packages/ipykernel_launcher.py:8: SettingWithCopyWarning: \n",
      "A value is trying to be set on a copy of a slice from a DataFrame.\n",
      "Try using .loc[row_indexer,col_indexer] = value instead\n",
      "\n",
      "See the caveats in the documentation: http://pandas.pydata.org/pandas-docs/stable/user_guide/indexing.html#returning-a-view-versus-a-copy\n",
      "  \n",
      "/Users/jasminesanders/opt/anaconda3/lib/python3.7/site-packages/ipykernel_launcher.py:9: SettingWithCopyWarning: \n",
      "A value is trying to be set on a copy of a slice from a DataFrame.\n",
      "Try using .loc[row_indexer,col_indexer] = value instead\n",
      "\n",
      "See the caveats in the documentation: http://pandas.pydata.org/pandas-docs/stable/user_guide/indexing.html#returning-a-view-versus-a-copy\n",
      "  if __name__ == '__main__':\n"
     ]
    }
   ],
   "source": [
    "#Polarity & subjectivity for Senate tweets\n",
    "sen_tweets = congress_tweets[congress_tweets.position == 'Sen']\n",
    "sen_tweets['polarity'] = sen_tweets['tokens'].map(lambda text: TextBlob(text).sentiment.polarity)\n",
    "sen_tweets['subjectivity'] = sen_tweets['tokens'].map(lambda text: TextBlob(text).sentiment.subjectivity)\n",
    "\n",
    "#Polarity & subjectivity for House tweets\n",
    "rep_tweets = congress_tweets[congress_tweets.position == 'Rep']\n",
    "rep_tweets['polarity'] = rep_tweets['tokens'].map(lambda text: TextBlob(text).sentiment.polarity)\n",
    "rep_tweets['subjectivity'] = rep_tweets['tokens'].map(lambda text: TextBlob(text).sentiment.subjectivity)\n",
    "\n",
    "#Combine data frames\n",
    "congress_combined = [sen_tweets, rep_tweets]\n",
    "sentiment_3 = pd.concat(congress_combined)"
   ]
  },
  {
   "cell_type": "code",
   "execution_count": 44,
   "metadata": {},
   "outputs": [
    {
     "data": {
      "image/png": "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\n",
      "text/plain": [
       "<Figure size 775.25x360 with 2 Axes>"
      ]
     },
     "metadata": {
      "needs_background": "light"
     },
     "output_type": "display_data"
    }
   ],
   "source": [
    "#Plot sentiment polarity for Senate vs. House\n",
    "sns.displot(sentiment_3, x=\"polarity\", hue = \"position\", col = \"position\")\n",
    "plt.show()"
   ]
  },
  {
   "cell_type": "code",
   "execution_count": 45,
   "metadata": {},
   "outputs": [
    {
     "data": {
      "image/png": "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\n",
      "text/plain": [
       "<Figure size 775.25x360 with 2 Axes>"
      ]
     },
     "metadata": {
      "needs_background": "light"
     },
     "output_type": "display_data"
    }
   ],
   "source": [
    "#Plot sentiment subjectivity for Senate vs. House\n",
    "sns.displot(sentiment_3, x=\"subjectivity\", hue = \"position\", col = \"position\")\n",
    "plt.show()"
   ]
  },
  {
   "cell_type": "markdown",
   "metadata": {},
   "source": [
    "## Featurization"
   ]
  },
  {
   "cell_type": "markdown",
   "metadata": {},
   "source": [
    "Before going to classification, explore different featurization techniques. Create three dataframes or arrays to represent your text features, specifically:\n",
    "\n",
    "* Features engineered from your previous analysis. For example, word counts, sentiment scores, topic model etc.\n",
    "* A term frequency-inverse document frequency matrix. \n",
    "* An embedding-based featurization (like a document averaged word2vec)\n",
    "\n",
    "In the next section, you will experiment with each of these featurization techniques to see which one produces the best classifications."
   ]
  },
  {
   "cell_type": "markdown",
   "metadata": {},
   "source": [
    "### Engineered Text Features"
   ]
  },
  {
   "cell_type": "code",
   "execution_count": 46,
   "metadata": {},
   "outputs": [
    {
     "data": {
      "text/html": [
       "<div>\n",
       "<style scoped>\n",
       "    .dataframe tbody tr th:only-of-type {\n",
       "        vertical-align: middle;\n",
       "    }\n",
       "\n",
       "    .dataframe tbody tr th {\n",
       "        vertical-align: top;\n",
       "    }\n",
       "\n",
       "    .dataframe thead th {\n",
       "        text-align: right;\n",
       "    }\n",
       "</style>\n",
       "<table border=\"1\" class=\"dataframe\">\n",
       "  <thead>\n",
       "    <tr style=\"text-align: right;\">\n",
       "      <th></th>\n",
       "      <th>word_count</th>\n",
       "    </tr>\n",
       "  </thead>\n",
       "  <tbody>\n",
       "    <tr>\n",
       "      <td>0</td>\n",
       "      <td>42</td>\n",
       "    </tr>\n",
       "    <tr>\n",
       "      <td>1</td>\n",
       "      <td>10</td>\n",
       "    </tr>\n",
       "    <tr>\n",
       "      <td>2</td>\n",
       "      <td>10</td>\n",
       "    </tr>\n",
       "    <tr>\n",
       "      <td>3</td>\n",
       "      <td>24</td>\n",
       "    </tr>\n",
       "    <tr>\n",
       "      <td>4</td>\n",
       "      <td>7</td>\n",
       "    </tr>\n",
       "    <tr>\n",
       "      <td>...</td>\n",
       "      <td>...</td>\n",
       "    </tr>\n",
       "    <tr>\n",
       "      <td>995</td>\n",
       "      <td>11</td>\n",
       "    </tr>\n",
       "    <tr>\n",
       "      <td>996</td>\n",
       "      <td>26</td>\n",
       "    </tr>\n",
       "    <tr>\n",
       "      <td>997</td>\n",
       "      <td>32</td>\n",
       "    </tr>\n",
       "    <tr>\n",
       "      <td>998</td>\n",
       "      <td>19</td>\n",
       "    </tr>\n",
       "    <tr>\n",
       "      <td>999</td>\n",
       "      <td>41</td>\n",
       "    </tr>\n",
       "  </tbody>\n",
       "</table>\n",
       "<p>1000 rows × 1 columns</p>\n",
       "</div>"
      ],
      "text/plain": [
       "     word_count\n",
       "0            42\n",
       "1            10\n",
       "2            10\n",
       "3            24\n",
       "4             7\n",
       "..          ...\n",
       "995          11\n",
       "996          26\n",
       "997          32\n",
       "998          19\n",
       "999          41\n",
       "\n",
       "[1000 rows x 1 columns]"
      ]
     },
     "execution_count": 46,
     "metadata": {},
     "output_type": "execute_result"
    }
   ],
   "source": [
    "# Engineered Features\n",
    "word_count = pd.DataFrame([len(str(x).split()) for x in congress_tweets['tokens']], columns = ['word_count'])\n",
    "word_count"
   ]
  },
  {
   "cell_type": "code",
   "execution_count": 47,
   "metadata": {},
   "outputs": [
    {
     "data": {
      "text/html": [
       "<div>\n",
       "<style scoped>\n",
       "    .dataframe tbody tr th:only-of-type {\n",
       "        vertical-align: middle;\n",
       "    }\n",
       "\n",
       "    .dataframe tbody tr th {\n",
       "        vertical-align: top;\n",
       "    }\n",
       "\n",
       "    .dataframe thead th {\n",
       "        text-align: right;\n",
       "    }\n",
       "</style>\n",
       "<table border=\"1\" class=\"dataframe\">\n",
       "  <thead>\n",
       "    <tr style=\"text-align: right;\">\n",
       "      <th></th>\n",
       "      <th>character_count</th>\n",
       "    </tr>\n",
       "  </thead>\n",
       "  <tbody>\n",
       "    <tr>\n",
       "      <td>0</td>\n",
       "      <td>755</td>\n",
       "    </tr>\n",
       "    <tr>\n",
       "      <td>1</td>\n",
       "      <td>110</td>\n",
       "    </tr>\n",
       "    <tr>\n",
       "      <td>2</td>\n",
       "      <td>156</td>\n",
       "    </tr>\n",
       "    <tr>\n",
       "      <td>3</td>\n",
       "      <td>325</td>\n",
       "    </tr>\n",
       "    <tr>\n",
       "      <td>4</td>\n",
       "      <td>102</td>\n",
       "    </tr>\n",
       "    <tr>\n",
       "      <td>...</td>\n",
       "      <td>...</td>\n",
       "    </tr>\n",
       "    <tr>\n",
       "      <td>995</td>\n",
       "      <td>321</td>\n",
       "    </tr>\n",
       "    <tr>\n",
       "      <td>996</td>\n",
       "      <td>350</td>\n",
       "    </tr>\n",
       "    <tr>\n",
       "      <td>997</td>\n",
       "      <td>496</td>\n",
       "    </tr>\n",
       "    <tr>\n",
       "      <td>998</td>\n",
       "      <td>384</td>\n",
       "    </tr>\n",
       "    <tr>\n",
       "      <td>999</td>\n",
       "      <td>649</td>\n",
       "    </tr>\n",
       "  </tbody>\n",
       "</table>\n",
       "<p>1000 rows × 1 columns</p>\n",
       "</div>"
      ],
      "text/plain": [
       "     character_count\n",
       "0                755\n",
       "1                110\n",
       "2                156\n",
       "3                325\n",
       "4                102\n",
       "..               ...\n",
       "995              321\n",
       "996              350\n",
       "997              496\n",
       "998              384\n",
       "999              649\n",
       "\n",
       "[1000 rows x 1 columns]"
      ]
     },
     "execution_count": 31,
     "metadata": {},
     "output_type": "execute_result"
    }
   ],
   "source": [
    "character_count = pd.DataFrame([len(x) for x in congress_tweets['text']], columns = ['character_count'])\n",
    "character_count"
   ]
  },
  {
   "cell_type": "code",
   "execution_count": 32,
   "metadata": {},
   "outputs": [
    {
     "data": {
      "text/html": [
       "<div>\n",
       "<style scoped>\n",
       "    .dataframe tbody tr th:only-of-type {\n",
       "        vertical-align: middle;\n",
       "    }\n",
       "\n",
       "    .dataframe tbody tr th {\n",
       "        vertical-align: top;\n",
       "    }\n",
       "\n",
       "    .dataframe thead th {\n",
       "        text-align: right;\n",
       "    }\n",
       "</style>\n",
       "<table border=\"1\" class=\"dataframe\">\n",
       "  <thead>\n",
       "    <tr style=\"text-align: right;\">\n",
       "      <th></th>\n",
       "      <th>Topic 0</th>\n",
       "      <th>Topic 1</th>\n",
       "      <th>Topic 2</th>\n",
       "      <th>Topic 3</th>\n",
       "      <th>Topic 4</th>\n",
       "      <th>Topic 5</th>\n",
       "    </tr>\n",
       "  </thead>\n",
       "  <tbody>\n",
       "    <tr>\n",
       "      <td>0</td>\n",
       "      <td>0.027533</td>\n",
       "      <td>0.027351</td>\n",
       "      <td>0.027400</td>\n",
       "      <td>0.027357</td>\n",
       "      <td>0.862814</td>\n",
       "      <td>0.027544</td>\n",
       "    </tr>\n",
       "    <tr>\n",
       "      <td>1</td>\n",
       "      <td>0.040522</td>\n",
       "      <td>0.040552</td>\n",
       "      <td>0.040515</td>\n",
       "      <td>0.040551</td>\n",
       "      <td>0.040552</td>\n",
       "      <td>0.797308</td>\n",
       "    </tr>\n",
       "    <tr>\n",
       "      <td>2</td>\n",
       "      <td>0.040671</td>\n",
       "      <td>0.040680</td>\n",
       "      <td>0.795887</td>\n",
       "      <td>0.040978</td>\n",
       "      <td>0.040763</td>\n",
       "      <td>0.041021</td>\n",
       "    </tr>\n",
       "    <tr>\n",
       "      <td>3</td>\n",
       "      <td>0.029056</td>\n",
       "      <td>0.029134</td>\n",
       "      <td>0.029082</td>\n",
       "      <td>0.854666</td>\n",
       "      <td>0.029040</td>\n",
       "      <td>0.029022</td>\n",
       "    </tr>\n",
       "    <tr>\n",
       "      <td>4</td>\n",
       "      <td>0.046526</td>\n",
       "      <td>0.046491</td>\n",
       "      <td>0.046515</td>\n",
       "      <td>0.767418</td>\n",
       "      <td>0.046525</td>\n",
       "      <td>0.046525</td>\n",
       "    </tr>\n",
       "    <tr>\n",
       "      <td>...</td>\n",
       "      <td>...</td>\n",
       "      <td>...</td>\n",
       "      <td>...</td>\n",
       "      <td>...</td>\n",
       "      <td>...</td>\n",
       "      <td>...</td>\n",
       "    </tr>\n",
       "    <tr>\n",
       "      <td>995</td>\n",
       "      <td>0.039320</td>\n",
       "      <td>0.039426</td>\n",
       "      <td>0.039332</td>\n",
       "      <td>0.039351</td>\n",
       "      <td>0.803235</td>\n",
       "      <td>0.039335</td>\n",
       "    </tr>\n",
       "    <tr>\n",
       "      <td>996</td>\n",
       "      <td>0.027807</td>\n",
       "      <td>0.028113</td>\n",
       "      <td>0.027724</td>\n",
       "      <td>0.027872</td>\n",
       "      <td>0.860669</td>\n",
       "      <td>0.027815</td>\n",
       "    </tr>\n",
       "    <tr>\n",
       "      <td>997</td>\n",
       "      <td>0.027136</td>\n",
       "      <td>0.027211</td>\n",
       "      <td>0.027168</td>\n",
       "      <td>0.027134</td>\n",
       "      <td>0.027300</td>\n",
       "      <td>0.864051</td>\n",
       "    </tr>\n",
       "    <tr>\n",
       "      <td>998</td>\n",
       "      <td>0.031595</td>\n",
       "      <td>0.842059</td>\n",
       "      <td>0.031554</td>\n",
       "      <td>0.031561</td>\n",
       "      <td>0.031573</td>\n",
       "      <td>0.031659</td>\n",
       "    </tr>\n",
       "    <tr>\n",
       "      <td>999</td>\n",
       "      <td>0.027163</td>\n",
       "      <td>0.027277</td>\n",
       "      <td>0.027086</td>\n",
       "      <td>0.027395</td>\n",
       "      <td>0.864094</td>\n",
       "      <td>0.026985</td>\n",
       "    </tr>\n",
       "  </tbody>\n",
       "</table>\n",
       "<p>1000 rows × 6 columns</p>\n",
       "</div>"
      ],
      "text/plain": [
       "      Topic 0   Topic 1   Topic 2   Topic 3   Topic 4   Topic 5\n",
       "0    0.027533  0.027351  0.027400  0.027357  0.862814  0.027544\n",
       "1    0.040522  0.040552  0.040515  0.040551  0.040552  0.797308\n",
       "2    0.040671  0.040680  0.795887  0.040978  0.040763  0.041021\n",
       "3    0.029056  0.029134  0.029082  0.854666  0.029040  0.029022\n",
       "4    0.046526  0.046491  0.046515  0.767418  0.046525  0.046525\n",
       "..        ...       ...       ...       ...       ...       ...\n",
       "995  0.039320  0.039426  0.039332  0.039351  0.803235  0.039335\n",
       "996  0.027807  0.028113  0.027724  0.027872  0.860669  0.027815\n",
       "997  0.027136  0.027211  0.027168  0.027134  0.027300  0.864051\n",
       "998  0.031595  0.842059  0.031554  0.031561  0.031573  0.031659\n",
       "999  0.027163  0.027277  0.027086  0.027395  0.864094  0.026985\n",
       "\n",
       "[1000 rows x 6 columns]"
      ]
     },
     "execution_count": 48,
     "metadata": {},
     "output_type": "execute_result"
    }
   ],
   "source": [
    "#already generated from EDA\n",
    "\n",
    "topic_dist_df"
   ]
  },
  {
   "cell_type": "code",
   "execution_count": 49,
   "metadata": {},
   "outputs": [
    {
     "data": {
      "text/html": [
       "<div>\n",
       "<style scoped>\n",
       "    .dataframe tbody tr th:only-of-type {\n",
       "        vertical-align: middle;\n",
       "    }\n",
       "\n",
       "    .dataframe tbody tr th {\n",
       "        vertical-align: top;\n",
       "    }\n",
       "\n",
       "    .dataframe thead th {\n",
       "        text-align: right;\n",
       "    }\n",
       "</style>\n",
       "<table border=\"1\" class=\"dataframe\">\n",
       "  <thead>\n",
       "    <tr style=\"text-align: right;\">\n",
       "      <th></th>\n",
       "      <th>tweet_id</th>\n",
       "      <th>screen_name</th>\n",
       "      <th>datetime</th>\n",
       "      <th>text</th>\n",
       "      <th>name_wikipedia</th>\n",
       "      <th>position</th>\n",
       "      <th>joined_congress_date</th>\n",
       "      <th>birthday</th>\n",
       "      <th>gender</th>\n",
       "      <th>state</th>\n",
       "      <th>district_number</th>\n",
       "      <th>party</th>\n",
       "      <th>trump_2016_state_share</th>\n",
       "      <th>clinton_2016_state_share</th>\n",
       "      <th>obama_2012_state_share</th>\n",
       "      <th>romney_2012_state_share</th>\n",
       "      <th>tokens</th>\n",
       "      <th>polarity</th>\n",
       "      <th>subjectivity</th>\n",
       "    </tr>\n",
       "  </thead>\n",
       "  <tbody>\n",
       "    <tr>\n",
       "      <td>0</td>\n",
       "      <td>1.203510e+18</td>\n",
       "      <td>RepByrne</td>\n",
       "      <td>2019-12-07T21:59:32-05:00</td>\n",
       "      <td>On Dec. 7, 1941, 2,000+ Americans were killed ...</td>\n",
       "      <td>Bradley Byrne</td>\n",
       "      <td>Rep</td>\n",
       "      <td>8-Jan-14</td>\n",
       "      <td>2/16/1955</td>\n",
       "      <td>M</td>\n",
       "      <td>AL</td>\n",
       "      <td>1</td>\n",
       "      <td>Republican</td>\n",
       "      <td>1,318,255</td>\n",
       "      <td>729,547</td>\n",
       "      <td>795,696</td>\n",
       "      <td>1,255,925</td>\n",
       "      <td>dec americans kill pearl harbor throw war clai...</td>\n",
       "      <td>0.284848</td>\n",
       "      <td>0.616667</td>\n",
       "    </tr>\n",
       "    <tr>\n",
       "      <td>1</td>\n",
       "      <td>1.126580e+18</td>\n",
       "      <td>RepByrne</td>\n",
       "      <td>2019-05-09T16:04:32-04:00</td>\n",
       "      <td>It was a pleasure talking with representatives...</td>\n",
       "      <td>Bradley Byrne</td>\n",
       "      <td>Rep</td>\n",
       "      <td>8-Jan-14</td>\n",
       "      <td>2/16/1955</td>\n",
       "      <td>M</td>\n",
       "      <td>AL</td>\n",
       "      <td>1</td>\n",
       "      <td>Republican</td>\n",
       "      <td>1,318,255</td>\n",
       "      <td>729,547</td>\n",
       "      <td>795,696</td>\n",
       "      <td>1,255,925</td>\n",
       "      <td>pleasure talk representative tennesseetombigbe...</td>\n",
       "      <td>0.000000</td>\n",
       "      <td>0.000000</td>\n",
       "    </tr>\n",
       "    <tr>\n",
       "      <td>2</td>\n",
       "      <td>1.192560e+18</td>\n",
       "      <td>RepByrne</td>\n",
       "      <td>2019-11-07T17:09:47-05:00</td>\n",
       "      <td>Amb. Volker said there was no linkage between ...</td>\n",
       "      <td>Bradley Byrne</td>\n",
       "      <td>Rep</td>\n",
       "      <td>8-Jan-14</td>\n",
       "      <td>2/16/1955</td>\n",
       "      <td>M</td>\n",
       "      <td>AL</td>\n",
       "      <td>1</td>\n",
       "      <td>Republican</td>\n",
       "      <td>1,318,255</td>\n",
       "      <td>729,547</td>\n",
       "      <td>795,696</td>\n",
       "      <td>1,255,925</td>\n",
       "      <td>amb volker linkage wh meeting amp investigatio...</td>\n",
       "      <td>-0.700000</td>\n",
       "      <td>0.666667</td>\n",
       "    </tr>\n",
       "    <tr>\n",
       "      <td>3</td>\n",
       "      <td>1.323620e+18</td>\n",
       "      <td>RepMaxineWaters</td>\n",
       "      <td>2020-11-03T08:19:06-05:00</td>\n",
       "      <td>Today, Tuesday Nov 3rd is a very special day i...</td>\n",
       "      <td>Maxine Waters</td>\n",
       "      <td>Rep</td>\n",
       "      <td>3-Jan-91</td>\n",
       "      <td>8/15/1938</td>\n",
       "      <td>F</td>\n",
       "      <td>CA</td>\n",
       "      <td>43</td>\n",
       "      <td>Democrat</td>\n",
       "      <td>4,483,814</td>\n",
       "      <td>8,753,792</td>\n",
       "      <td>7,854,285</td>\n",
       "      <td>4,839,958</td>\n",
       "      <td>today tuesday nov rd special day country impor...</td>\n",
       "      <td>0.208571</td>\n",
       "      <td>0.434762</td>\n",
       "    </tr>\n",
       "    <tr>\n",
       "      <td>4</td>\n",
       "      <td>1.082280e+18</td>\n",
       "      <td>RepSeanMaloney</td>\n",
       "      <td>2019-01-07T09:33:39-05:00</td>\n",
       "      <td>Are we supposed to take Trump seriously or lit...</td>\n",
       "      <td>Sean Patrick Maloney</td>\n",
       "      <td>Rep</td>\n",
       "      <td>3-Jan-13</td>\n",
       "      <td>7/30/1966</td>\n",
       "      <td>M</td>\n",
       "      <td>NY</td>\n",
       "      <td>18</td>\n",
       "      <td>Democrat</td>\n",
       "      <td>2,819,533</td>\n",
       "      <td>4,556,118</td>\n",
       "      <td>4,485,741</td>\n",
       "      <td>2,490,431</td>\n",
       "      <td>suppose trump seriously literally steel barrie...</td>\n",
       "      <td>-0.333333</td>\n",
       "      <td>0.666667</td>\n",
       "    </tr>\n",
       "    <tr>\n",
       "      <td>...</td>\n",
       "      <td>...</td>\n",
       "      <td>...</td>\n",
       "      <td>...</td>\n",
       "      <td>...</td>\n",
       "      <td>...</td>\n",
       "      <td>...</td>\n",
       "      <td>...</td>\n",
       "      <td>...</td>\n",
       "      <td>...</td>\n",
       "      <td>...</td>\n",
       "      <td>...</td>\n",
       "      <td>...</td>\n",
       "      <td>...</td>\n",
       "      <td>...</td>\n",
       "      <td>...</td>\n",
       "      <td>...</td>\n",
       "      <td>...</td>\n",
       "      <td>...</td>\n",
       "      <td>...</td>\n",
       "    </tr>\n",
       "    <tr>\n",
       "      <td>1991</td>\n",
       "      <td>1.179560e+18</td>\n",
       "      <td>RepTimBurchett</td>\n",
       "      <td>2019-10-02T20:54:26-04:00</td>\n",
       "      <td>Thank you @honorair for organizing these meani...</td>\n",
       "      <td>Tim Burchett</td>\n",
       "      <td>Rep</td>\n",
       "      <td>3-Jan-19</td>\n",
       "      <td>8/25/1964</td>\n",
       "      <td>M</td>\n",
       "      <td>TN</td>\n",
       "      <td>2</td>\n",
       "      <td>Republican</td>\n",
       "      <td>1,522,925</td>\n",
       "      <td>870,695</td>\n",
       "      <td>960,709</td>\n",
       "      <td>1,462,330</td>\n",
       "      <td>thank honorair organize meaningful trip vetera...</td>\n",
       "      <td>0.250000</td>\n",
       "      <td>0.250000</td>\n",
       "    </tr>\n",
       "    <tr>\n",
       "      <td>1992</td>\n",
       "      <td>1.311310e+18</td>\n",
       "      <td>RepMcCaul</td>\n",
       "      <td>2020-09-30T10:10:58-04:00</td>\n",
       "      <td>RT @HouseGOP 🚨 NEW: @China_TaskForce releases ...</td>\n",
       "      <td>Michael McCaul</td>\n",
       "      <td>Rep</td>\n",
       "      <td>3-Jan-05</td>\n",
       "      <td>1/14/1962</td>\n",
       "      <td>M</td>\n",
       "      <td>TX</td>\n",
       "      <td>10</td>\n",
       "      <td>Republican</td>\n",
       "      <td>4,685,047</td>\n",
       "      <td>3,877,868</td>\n",
       "      <td>3,308,124</td>\n",
       "      <td>4,569,843</td>\n",
       "      <td>housegop 🚨 new chinataskforce release china ta...</td>\n",
       "      <td>0.090909</td>\n",
       "      <td>0.318182</td>\n",
       "    </tr>\n",
       "    <tr>\n",
       "      <td>1993</td>\n",
       "      <td>1.293930e+18</td>\n",
       "      <td>RepRickCrawford</td>\n",
       "      <td>2020-08-13T11:32:38-04:00</td>\n",
       "      <td>The President has worked dilligenty since his ...</td>\n",
       "      <td>Rick Crawford</td>\n",
       "      <td>Rep</td>\n",
       "      <td>3-Jan-11</td>\n",
       "      <td>1/22/1966</td>\n",
       "      <td>M</td>\n",
       "      <td>AR</td>\n",
       "      <td>1</td>\n",
       "      <td>Republican</td>\n",
       "      <td>684,872</td>\n",
       "      <td>380,494</td>\n",
       "      <td>394,409</td>\n",
       "      <td>647,744</td>\n",
       "      <td>president work dilligenty election find peace ...</td>\n",
       "      <td>-0.283333</td>\n",
       "      <td>0.900000</td>\n",
       "    </tr>\n",
       "    <tr>\n",
       "      <td>1994</td>\n",
       "      <td>1.083900e+18</td>\n",
       "      <td>JoaquinCastrotx</td>\n",
       "      <td>2019-01-11T20:36:29-05:00</td>\n",
       "      <td>RT @BobMooreNews \"It's not OK to say that all ...</td>\n",
       "      <td>Joaquín Castro</td>\n",
       "      <td>Rep</td>\n",
       "      <td>3-Jan-13</td>\n",
       "      <td>9/16/1974</td>\n",
       "      <td>M</td>\n",
       "      <td>TX</td>\n",
       "      <td>20</td>\n",
       "      <td>Democrat</td>\n",
       "      <td>4,685,047</td>\n",
       "      <td>3,877,868</td>\n",
       "      <td>3,308,124</td>\n",
       "      <td>4,569,843</td>\n",
       "      <td>bobmoorenews ok federal employee support shutd...</td>\n",
       "      <td>0.000000</td>\n",
       "      <td>0.700000</td>\n",
       "    </tr>\n",
       "    <tr>\n",
       "      <td>1995</td>\n",
       "      <td>1.103060e+18</td>\n",
       "      <td>RepMichaelWaltz</td>\n",
       "      <td>2019-03-05T17:14:07-05:00</td>\n",
       "      <td>As a combat veteran and member of the @Nationa...</td>\n",
       "      <td>Michael Waltz</td>\n",
       "      <td>Rep</td>\n",
       "      <td>3-Jan-19</td>\n",
       "      <td>1/31/1974</td>\n",
       "      <td>M</td>\n",
       "      <td>FL</td>\n",
       "      <td>6</td>\n",
       "      <td>Republican</td>\n",
       "      <td>4,617,886</td>\n",
       "      <td>4,504,975</td>\n",
       "      <td>4,237,756</td>\n",
       "      <td>4,163,447</td>\n",
       "      <td>combat veteran member nationalguard grateful p...</td>\n",
       "      <td>-0.007143</td>\n",
       "      <td>0.114286</td>\n",
       "    </tr>\n",
       "  </tbody>\n",
       "</table>\n",
       "<p>1996 rows × 19 columns</p>\n",
       "</div>"
      ],
      "text/plain": [
       "          tweet_id      screen_name                   datetime  \\\n",
       "0     1.203510e+18         RepByrne  2019-12-07T21:59:32-05:00   \n",
       "1     1.126580e+18         RepByrne  2019-05-09T16:04:32-04:00   \n",
       "2     1.192560e+18         RepByrne  2019-11-07T17:09:47-05:00   \n",
       "3     1.323620e+18  RepMaxineWaters  2020-11-03T08:19:06-05:00   \n",
       "4     1.082280e+18   RepSeanMaloney  2019-01-07T09:33:39-05:00   \n",
       "...            ...              ...                        ...   \n",
       "1991  1.179560e+18   RepTimBurchett  2019-10-02T20:54:26-04:00   \n",
       "1992  1.311310e+18        RepMcCaul  2020-09-30T10:10:58-04:00   \n",
       "1993  1.293930e+18  RepRickCrawford  2020-08-13T11:32:38-04:00   \n",
       "1994  1.083900e+18  JoaquinCastrotx  2019-01-11T20:36:29-05:00   \n",
       "1995  1.103060e+18  RepMichaelWaltz  2019-03-05T17:14:07-05:00   \n",
       "\n",
       "                                                   text        name_wikipedia  \\\n",
       "0     On Dec. 7, 1941, 2,000+ Americans were killed ...         Bradley Byrne   \n",
       "1     It was a pleasure talking with representatives...         Bradley Byrne   \n",
       "2     Amb. Volker said there was no linkage between ...         Bradley Byrne   \n",
       "3     Today, Tuesday Nov 3rd is a very special day i...         Maxine Waters   \n",
       "4     Are we supposed to take Trump seriously or lit...  Sean Patrick Maloney   \n",
       "...                                                 ...                   ...   \n",
       "1991  Thank you @honorair for organizing these meani...          Tim Burchett   \n",
       "1992  RT @HouseGOP 🚨 NEW: @China_TaskForce releases ...        Michael McCaul   \n",
       "1993  The President has worked dilligenty since his ...         Rick Crawford   \n",
       "1994  RT @BobMooreNews \"It's not OK to say that all ...        Joaquín Castro   \n",
       "1995  As a combat veteran and member of the @Nationa...         Michael Waltz   \n",
       "\n",
       "     position joined_congress_date   birthday gender state district_number  \\\n",
       "0         Rep             8-Jan-14  2/16/1955      M    AL               1   \n",
       "1         Rep             8-Jan-14  2/16/1955      M    AL               1   \n",
       "2         Rep             8-Jan-14  2/16/1955      M    AL               1   \n",
       "3         Rep             3-Jan-91  8/15/1938      F    CA              43   \n",
       "4         Rep             3-Jan-13  7/30/1966      M    NY              18   \n",
       "...       ...                  ...        ...    ...   ...             ...   \n",
       "1991      Rep             3-Jan-19  8/25/1964      M    TN               2   \n",
       "1992      Rep             3-Jan-05  1/14/1962      M    TX              10   \n",
       "1993      Rep             3-Jan-11  1/22/1966      M    AR               1   \n",
       "1994      Rep             3-Jan-13  9/16/1974      M    TX              20   \n",
       "1995      Rep             3-Jan-19  1/31/1974      M    FL               6   \n",
       "\n",
       "           party trump_2016_state_share clinton_2016_state_share  \\\n",
       "0     Republican              1,318,255                  729,547   \n",
       "1     Republican              1,318,255                  729,547   \n",
       "2     Republican              1,318,255                  729,547   \n",
       "3       Democrat              4,483,814                8,753,792   \n",
       "4       Democrat              2,819,533                4,556,118   \n",
       "...          ...                    ...                      ...   \n",
       "1991  Republican              1,522,925                  870,695   \n",
       "1992  Republican              4,685,047                3,877,868   \n",
       "1993  Republican                684,872                  380,494   \n",
       "1994    Democrat              4,685,047                3,877,868   \n",
       "1995  Republican              4,617,886                4,504,975   \n",
       "\n",
       "     obama_2012_state_share romney_2012_state_share  \\\n",
       "0                   795,696               1,255,925   \n",
       "1                   795,696               1,255,925   \n",
       "2                   795,696               1,255,925   \n",
       "3                 7,854,285               4,839,958   \n",
       "4                 4,485,741               2,490,431   \n",
       "...                     ...                     ...   \n",
       "1991                960,709               1,462,330   \n",
       "1992              3,308,124               4,569,843   \n",
       "1993                394,409                 647,744   \n",
       "1994              3,308,124               4,569,843   \n",
       "1995              4,237,756               4,163,447   \n",
       "\n",
       "                                                 tokens  polarity  \\\n",
       "0     dec americans kill pearl harbor throw war clai...  0.284848   \n",
       "1     pleasure talk representative tennesseetombigbe...  0.000000   \n",
       "2     amb volker linkage wh meeting amp investigatio... -0.700000   \n",
       "3     today tuesday nov rd special day country impor...  0.208571   \n",
       "4     suppose trump seriously literally steel barrie... -0.333333   \n",
       "...                                                 ...       ...   \n",
       "1991  thank honorair organize meaningful trip vetera...  0.250000   \n",
       "1992  housegop 🚨 new chinataskforce release china ta...  0.090909   \n",
       "1993  president work dilligenty election find peace ... -0.283333   \n",
       "1994  bobmoorenews ok federal employee support shutd...  0.000000   \n",
       "1995  combat veteran member nationalguard grateful p... -0.007143   \n",
       "\n",
       "      subjectivity  \n",
       "0         0.616667  \n",
       "1         0.000000  \n",
       "2         0.666667  \n",
       "3         0.434762  \n",
       "4         0.666667  \n",
       "...            ...  \n",
       "1991      0.250000  \n",
       "1992      0.318182  \n",
       "1993      0.900000  \n",
       "1994      0.700000  \n",
       "1995      0.114286  \n",
       "\n",
       "[1996 rows x 19 columns]"
      ]
     },
     "execution_count": 32,
     "metadata": {},
     "output_type": "execute_result"
    }
   ],
   "source": [
    "#already generated from EDA\n",
    "\n",
    "topic_dist_df"
   ]
  },
  {
   "cell_type": "code",
   "execution_count": 33,
   "metadata": {},
   "outputs": [],
   "source": [
    "# review from sentiment analysis goes here"
    "sentiment_combined = [sentiment_1, sentiment_2, sentiment_3]\n",
    "sentiment_score = pd.concat(sentiment_combined).reset_index(drop=True)\n",
    "sentiment_score"
   ]
  },
  {
   "cell_type": "code",
   "execution_count": 34,
   "metadata": {},
   "outputs": [
    {
     "data": {
      "text/html": [
       "<div>\n",
       "<style scoped>\n",
       "    .dataframe tbody tr th:only-of-type {\n",
       "        vertical-align: middle;\n",
       "    }\n",
       "\n",
       "    .dataframe tbody tr th {\n",
       "        vertical-align: top;\n",
       "    }\n",
       "\n",
       "    .dataframe thead th {\n",
       "        text-align: right;\n",
       "    }\n",
       "</style>\n",
       "<table border=\"1\" class=\"dataframe\">\n",
       "  <thead>\n",
       "    <tr style=\"text-align: right;\">\n",
       "      <th></th>\n",
       "      <th>Topic 0</th>\n",
       "      <th>Topic 1</th>\n",
       "      <th>Topic 2</th>\n",
       "      <th>Topic 3</th>\n",
       "      <th>Topic 4</th>\n",
       "      <th>Topic 5</th>\n",
       "      <th>character_count</th>\n",
       "      <th>word_count</th>\n",
       "      <th>tweet_id</th>\n",
       "      <th>screen_name</th>\n",
       "      <th>...</th>\n",
       "      <th>state</th>\n",
       "      <th>district_number</th>\n",
       "      <th>party</th>\n",
       "      <th>trump_2016_state_share</th>\n",
       "      <th>clinton_2016_state_share</th>\n",
       "      <th>obama_2012_state_share</th>\n",
       "      <th>romney_2012_state_share</th>\n",
       "      <th>tokens</th>\n",
       "      <th>polarity</th>\n",
       "      <th>subjectivity</th>\n",
       "    </tr>\n",
       "  </thead>\n",
       "  <tbody>\n",
       "    <tr>\n",
       "      <td>0</td>\n",
       "      <td>0.027533</td>\n",
       "      <td>0.027351</td>\n",
       "      <td>0.027400</td>\n",
       "      <td>0.027357</td>\n",
       "      <td>0.862814</td>\n",
       "      <td>0.027544</td>\n",
       "      <td>755</td>\n",
       "      <td>42</td>\n",
       "      <td>1.203510e+18</td>\n",
       "      <td>RepByrne</td>\n",
       "      <td>...</td>\n",
       "      <td>AL</td>\n",
       "      <td>1</td>\n",
       "      <td>Republican</td>\n",
       "      <td>1,318,255</td>\n",
       "      <td>729,547</td>\n",
       "      <td>795,696</td>\n",
       "      <td>1,255,925</td>\n",
       "      <td>dec americans kill pearl harbor throw war clai...</td>\n",
       "      <td>0.284848</td>\n",
       "      <td>0.616667</td>\n",
       "    </tr>\n",
       "    <tr>\n",
       "      <td>1</td>\n",
       "      <td>0.040522</td>\n",
       "      <td>0.040552</td>\n",
       "      <td>0.040515</td>\n",
       "      <td>0.040551</td>\n",
       "      <td>0.040552</td>\n",
       "      <td>0.797308</td>\n",
       "      <td>110</td>\n",
       "      <td>10</td>\n",
       "      <td>1.126580e+18</td>\n",
       "      <td>RepByrne</td>\n",
       "      <td>...</td>\n",
       "      <td>AL</td>\n",
       "      <td>1</td>\n",
       "      <td>Republican</td>\n",
       "      <td>1,318,255</td>\n",
       "      <td>729,547</td>\n",
       "      <td>795,696</td>\n",
       "      <td>1,255,925</td>\n",
       "      <td>pleasure talk representative tennesseetombigbe...</td>\n",
       "      <td>0.000000</td>\n",
       "      <td>0.000000</td>\n",
       "    </tr>\n",
       "    <tr>\n",
       "      <td>2</td>\n",
       "      <td>0.040671</td>\n",
       "      <td>0.040680</td>\n",
       "      <td>0.795887</td>\n",
       "      <td>0.040978</td>\n",
       "      <td>0.040763</td>\n",
       "      <td>0.041021</td>\n",
       "      <td>156</td>\n",
       "      <td>10</td>\n",
       "      <td>1.192560e+18</td>\n",
       "      <td>RepByrne</td>\n",
       "      <td>...</td>\n",
       "      <td>AL</td>\n",
       "      <td>1</td>\n",
       "      <td>Republican</td>\n",
       "      <td>1,318,255</td>\n",
       "      <td>729,547</td>\n",
       "      <td>795,696</td>\n",
       "      <td>1,255,925</td>\n",
       "      <td>amb volker linkage wh meeting amp investigatio...</td>\n",
       "      <td>-0.700000</td>\n",
       "      <td>0.666667</td>\n",
       "    </tr>\n",
       "    <tr>\n",
       "      <td>3</td>\n",
       "      <td>0.029056</td>\n",
       "      <td>0.029134</td>\n",
       "      <td>0.029082</td>\n",
       "      <td>0.854666</td>\n",
       "      <td>0.029040</td>\n",
       "      <td>0.029022</td>\n",
       "      <td>325</td>\n",
       "      <td>24</td>\n",
       "      <td>1.323620e+18</td>\n",
       "      <td>RepMaxineWaters</td>\n",
       "      <td>...</td>\n",
       "      <td>CA</td>\n",
       "      <td>43</td>\n",
       "      <td>Democrat</td>\n",
       "      <td>4,483,814</td>\n",
       "      <td>8,753,792</td>\n",
       "      <td>7,854,285</td>\n",
       "      <td>4,839,958</td>\n",
       "      <td>today tuesday nov rd special day country impor...</td>\n",
       "      <td>0.208571</td>\n",
       "      <td>0.434762</td>\n",
       "    </tr>\n",
       "    <tr>\n",
       "      <td>4</td>\n",
       "      <td>0.046526</td>\n",
       "      <td>0.046491</td>\n",
       "      <td>0.046515</td>\n",
       "      <td>0.767418</td>\n",
       "      <td>0.046525</td>\n",
       "      <td>0.046525</td>\n",
       "      <td>102</td>\n",
       "      <td>7</td>\n",
       "      <td>1.082280e+18</td>\n",
       "      <td>RepSeanMaloney</td>\n",
       "      <td>...</td>\n",
       "      <td>NY</td>\n",
       "      <td>18</td>\n",
       "      <td>Democrat</td>\n",
       "      <td>2,819,533</td>\n",
       "      <td>4,556,118</td>\n",
       "      <td>4,485,741</td>\n",
       "      <td>2,490,431</td>\n",
       "      <td>suppose trump seriously literally steel barrie...</td>\n",
       "      <td>-0.333333</td>\n",
       "      <td>0.666667</td>\n",
       "    </tr>\n",
       "    <tr>\n",
       "      <td>...</td>\n",
       "      <td>...</td>\n",
       "      <td>...</td>\n",
       "      <td>...</td>\n",
       "      <td>...</td>\n",
       "      <td>...</td>\n",
       "      <td>...</td>\n",
       "      <td>...</td>\n",
       "      <td>...</td>\n",
       "      <td>...</td>\n",
       "      <td>...</td>\n",
       "      <td>...</td>\n",
       "      <td>...</td>\n",
       "      <td>...</td>\n",
       "      <td>...</td>\n",
       "      <td>...</td>\n",
       "      <td>...</td>\n",
       "      <td>...</td>\n",
       "      <td>...</td>\n",
       "      <td>...</td>\n",
       "      <td>...</td>\n",
       "      <td>...</td>\n",
       "    </tr>\n",
       "    <tr>\n",
       "      <td>995</td>\n",
       "      <td>0.039320</td>\n",
       "      <td>0.039426</td>\n",
       "      <td>0.039332</td>\n",
       "      <td>0.039351</td>\n",
       "      <td>0.803235</td>\n",
       "      <td>0.039335</td>\n",
       "      <td>321</td>\n",
       "      <td>11</td>\n",
       "      <td>1.103060e+18</td>\n",
       "      <td>RepMichaelWaltz</td>\n",
       "      <td>...</td>\n",
       "      <td>FL</td>\n",
       "      <td>6</td>\n",
       "      <td>Republican</td>\n",
       "      <td>4,617,886</td>\n",
       "      <td>4,504,975</td>\n",
       "      <td>4,237,756</td>\n",
       "      <td>4,163,447</td>\n",
       "      <td>combat veteran member nationalguard grateful p...</td>\n",
       "      <td>-0.007143</td>\n",
       "      <td>0.114286</td>\n",
       "    </tr>\n",
       "    <tr>\n",
       "      <td>996</td>\n",
       "      <td>0.027807</td>\n",
       "      <td>0.028113</td>\n",
       "      <td>0.027724</td>\n",
       "      <td>0.027872</td>\n",
       "      <td>0.860669</td>\n",
       "      <td>0.027815</td>\n",
       "      <td>350</td>\n",
       "      <td>26</td>\n",
       "      <td>1.103730e+18</td>\n",
       "      <td>SenatorRisch</td>\n",
       "      <td>...</td>\n",
       "      <td>ID</td>\n",
       "      <td>Senate</td>\n",
       "      <td>Republican</td>\n",
       "      <td>409,055</td>\n",
       "      <td>189,765</td>\n",
       "      <td>212,787</td>\n",
       "      <td>420,911</td>\n",
       "      <td>remark amfreesyria share concern devastation w...</td>\n",
       "      <td>-0.437500</td>\n",
       "      <td>0.500000</td>\n",
       "    </tr>\n",
       "    <tr>\n",
       "      <td>997</td>\n",
       "      <td>0.027136</td>\n",
       "      <td>0.027211</td>\n",
       "      <td>0.027168</td>\n",
       "      <td>0.027134</td>\n",
       "      <td>0.027300</td>\n",
       "      <td>0.864051</td>\n",
       "      <td>496</td>\n",
       "      <td>32</td>\n",
       "      <td>1.317530e+18</td>\n",
       "      <td>JohnCornyn</td>\n",
       "      <td>...</td>\n",
       "      <td>TX</td>\n",
       "      <td>Senate</td>\n",
       "      <td>Republican</td>\n",
       "      <td>4,685,047</td>\n",
       "      <td>3,877,868</td>\n",
       "      <td>3,308,124</td>\n",
       "      <td>4,569,843</td>\n",
       "      <td>cbpmarkmorgan early morning usbp agent locate ...</td>\n",
       "      <td>-0.150000</td>\n",
       "      <td>0.450000</td>\n",
       "    </tr>\n",
       "    <tr>\n",
       "      <td>998</td>\n",
       "      <td>0.031595</td>\n",
       "      <td>0.842059</td>\n",
       "      <td>0.031554</td>\n",
       "      <td>0.031561</td>\n",
       "      <td>0.031573</td>\n",
       "      <td>0.031659</td>\n",
       "      <td>384</td>\n",
       "      <td>19</td>\n",
       "      <td>1.125470e+18</td>\n",
       "      <td>PattyMurray</td>\n",
       "      <td>...</td>\n",
       "      <td>WA</td>\n",
       "      <td>Senate</td>\n",
       "      <td>Democrat</td>\n",
       "      <td>1,221,747</td>\n",
       "      <td>1,742,718</td>\n",
       "      <td>1,755,396</td>\n",
       "      <td>1,290,670</td>\n",
       "      <td>grateful servicemember washington state amp wo...</td>\n",
       "      <td>0.000000</td>\n",
       "      <td>0.000000</td>\n",
       "    </tr>\n",
       "    <tr>\n",
       "      <td>999</td>\n",
       "      <td>0.027163</td>\n",
       "      <td>0.027277</td>\n",
       "      <td>0.027086</td>\n",
       "      <td>0.027395</td>\n",
       "      <td>0.864094</td>\n",
       "      <td>0.026985</td>\n",
       "      <td>649</td>\n",
       "      <td>41</td>\n",
       "      <td>1.295440e+18</td>\n",
       "      <td>SenatorWicker</td>\n",
       "      <td>...</td>\n",
       "      <td>MS</td>\n",
       "      <td>Senate</td>\n",
       "      <td>Republican</td>\n",
       "      <td>700,714</td>\n",
       "      <td>485,131</td>\n",
       "      <td>562,949</td>\n",
       "      <td>710,746</td>\n",
       "      <td>americans deeply disturb chaos unfold lately c...</td>\n",
       "      <td>-0.150000</td>\n",
       "      <td>0.500000</td>\n",
       "    </tr>\n",
       "  </tbody>\n",
       "</table>\n",
       "<p>1000 rows × 27 columns</p>\n",
       "</div>"
      ],
      "text/plain": [
       "      Topic 0   Topic 1   Topic 2   Topic 3   Topic 4   Topic 5  \\\n",
       "0    0.027533  0.027351  0.027400  0.027357  0.862814  0.027544   \n",
       "1    0.040522  0.040552  0.040515  0.040551  0.040552  0.797308   \n",
       "2    0.040671  0.040680  0.795887  0.040978  0.040763  0.041021   \n",
       "3    0.029056  0.029134  0.029082  0.854666  0.029040  0.029022   \n",
       "4    0.046526  0.046491  0.046515  0.767418  0.046525  0.046525   \n",
       "..        ...       ...       ...       ...       ...       ...   \n",
       "995  0.039320  0.039426  0.039332  0.039351  0.803235  0.039335   \n",
       "996  0.027807  0.028113  0.027724  0.027872  0.860669  0.027815   \n",
       "997  0.027136  0.027211  0.027168  0.027134  0.027300  0.864051   \n",
       "998  0.031595  0.842059  0.031554  0.031561  0.031573  0.031659   \n",
       "999  0.027163  0.027277  0.027086  0.027395  0.864094  0.026985   \n",
       "\n",
       "     character_count  word_count      tweet_id      screen_name  ... state  \\\n",
       "0                755          42  1.203510e+18         RepByrne  ...    AL   \n",
       "1                110          10  1.126580e+18         RepByrne  ...    AL   \n",
       "2                156          10  1.192560e+18         RepByrne  ...    AL   \n",
       "3                325          24  1.323620e+18  RepMaxineWaters  ...    CA   \n",
       "4                102           7  1.082280e+18   RepSeanMaloney  ...    NY   \n",
       "..               ...         ...           ...              ...  ...   ...   \n",
       "995              321          11  1.103060e+18  RepMichaelWaltz  ...    FL   \n",
       "996              350          26  1.103730e+18     SenatorRisch  ...    ID   \n",
       "997              496          32  1.317530e+18       JohnCornyn  ...    TX   \n",
       "998              384          19  1.125470e+18      PattyMurray  ...    WA   \n",
       "999              649          41  1.295440e+18    SenatorWicker  ...    MS   \n",
       "\n",
       "    district_number       party trump_2016_state_share  \\\n",
       "0                 1  Republican              1,318,255   \n",
       "1                 1  Republican              1,318,255   \n",
       "2                 1  Republican              1,318,255   \n",
       "3                43    Democrat              4,483,814   \n",
       "4                18    Democrat              2,819,533   \n",
       "..              ...         ...                    ...   \n",
       "995               6  Republican              4,617,886   \n",
       "996          Senate  Republican                409,055   \n",
       "997          Senate  Republican              4,685,047   \n",
       "998          Senate    Democrat              1,221,747   \n",
       "999          Senate  Republican                700,714   \n",
       "\n",
       "    clinton_2016_state_share obama_2012_state_share romney_2012_state_share  \\\n",
       "0                    729,547                795,696               1,255,925   \n",
       "1                    729,547                795,696               1,255,925   \n",
       "2                    729,547                795,696               1,255,925   \n",
       "3                  8,753,792              7,854,285               4,839,958   \n",
       "4                  4,556,118              4,485,741               2,490,431   \n",
       "..                       ...                    ...                     ...   \n",
       "995                4,504,975              4,237,756               4,163,447   \n",
       "996                  189,765                212,787                 420,911   \n",
       "997                3,877,868              3,308,124               4,569,843   \n",
       "998                1,742,718              1,755,396               1,290,670   \n",
       "999                  485,131                562,949                 710,746   \n",
       "\n",
       "                                                tokens  polarity subjectivity  \n",
       "0    dec americans kill pearl harbor throw war clai...  0.284848     0.616667  \n",
       "1    pleasure talk representative tennesseetombigbe...  0.000000     0.000000  \n",
       "2    amb volker linkage wh meeting amp investigatio... -0.700000     0.666667  \n",
       "3    today tuesday nov rd special day country impor...  0.208571     0.434762  \n",
       "4    suppose trump seriously literally steel barrie... -0.333333     0.666667  \n",
       "..                                                 ...       ...          ...  \n",
       "995  combat veteran member nationalguard grateful p... -0.007143     0.114286  \n",
       "996  remark amfreesyria share concern devastation w... -0.437500     0.500000  \n",
       "997  cbpmarkmorgan early morning usbp agent locate ... -0.150000     0.450000  \n",
       "998  grateful servicemember washington state amp wo...  0.000000     0.000000  \n",
       "999  americans deeply disturb chaos unfold lately c... -0.150000     0.500000  \n",
       "\n",
       "[1000 rows x 27 columns]"
      ]
     },
     "execution_count": 34,
     "metadata": {},
     "output_type": "execute_result"
    }
   ],
   "source": [
    "# combine into dataframe\n",
    "engineered_features = topic_dist_df.join(character_count).join(word_count).join(sentiment_score)\n",
    "engineered_features"
   ]
  },
  {
   "cell_type": "markdown",
   "metadata": {},
   "source": [
    "### Bag-of-words or Tf-idf"
   ]
  },
  {
   "cell_type": "code",
   "execution_count": 35,
   "metadata": {},
   "outputs": [
    {
     "data": {
      "text/plain": [
       "<1000x5833 sparse matrix of type '<class 'numpy.float64'>'\n",
       "\twith 18683 stored elements in Compressed Sparse Row format>"
      ]
     },
     "execution_count": 35,
     "metadata": {},
     "output_type": "execute_result"
    }
   ],
   "source": [
    "# Frequency Based featurization\n",
    "tfidf_matrix"
   ]
  },
  {
   "cell_type": "markdown",
   "metadata": {},
   "source": [
    "### Word Embedding"
   ]
  },
  {
   "cell_type": "code",
   "execution_count": 487,
   "metadata": {},
   "outputs": [],
   "source": [
    "# Load Word2Vec model from Google; OPTIONAL depending on your computational resources (the file is ~1 GB)\n",
    "# Also note that this file path assumes that the word vectors are underneath 'data'; you may wish to point to the CSS course repo and change the path\n",
    "# or move the vector file to the project repo \n",
    "\n",
    "model = gensim.models.KeyedVectors.load_word2vec_format('data/GoogleNews-vectors-negative300.bin.gz', binary = True) "
   ]
  },
  {
   "cell_type": "markdown",
   "metadata": {},
   "source": [
    "Using our tokenized corpus to update the Google News embeddings. "
   ]
  },
  {
   "cell_type": "code",
   "execution_count": 71,
   "metadata": {},
   "outputs": [],
   "source": [
    "# retrain cfpb['tokens'] model so it has the same dimensions as the google vector\n",
    "\n",
    "import multiprocessing\n",
    "\n",
    "word2vec_model = gensim.models.Word2Vec(size = 300, window=5, min_count = 1,\n",
    "                                        workers = (multiprocessing.cpu_count()))\n",
    "word2vec_model.build_vocab(congress_tweets['tokens'])"
   ]
  },
  {
   "cell_type": "code",
   "execution_count": 489,
   "metadata": {},
   "outputs": [
    {
     "data": {
      "text/plain": [
       "(97626, 101510)"
      ]
     },
     "execution_count": 489,
     "metadata": {},
     "output_type": "execute_result"
    }
   ],
   "source": [
    "# the intersect code that loads the Google News embeddings\n",
    "\n",
    "# set lockf = 1 to allow updating\n",
    "\n",
    "word2vec_model.intersect_word2vec_format('data/GoogleNews-vectors-negative300.bin.gz', lockf=1.0, binary=True)\n",
    "\n",
    "# Finish training model\n",
    "word2vec_model.train(congress_tweets['tokens'], total_examples=3, epochs = 5)"
   ]
  },
  {
   "cell_type": "markdown",
   "metadata": {},
   "source": [
    "Exploring word embeddings (with Google News loaded) using t-SNE visualization. "
   ]
  },
  {
   "cell_type": "code",
   "execution_count": 73,
   "metadata": {},
   "outputs": [
    {
     "data": {
      "text/plain": [
       "(5833, 300)"
      ]
     },
     "execution_count": 73,
     "metadata": {},
     "output_type": "execute_result"
    }
   ],
   "source": [
    "# Filter the list of vectors to include only those that Word2Vec has a vector for\n",
    "#words = list(model.wv.vocab)\n",
    "vector_list = [word2vec_model.wv.__getitem__(word) for word in word2vec_model.wv.vocab]\n",
    "\n",
    "# Create a list of the words corresponding to these vectors\n",
    "words_filtered = [word for word in word2vec_model.wv.vocab]\n",
    "\n",
    "# Zip the words together with their vector representations\n",
    "word_vec_zip = zip(words_filtered, vector_list)\n",
    "\n",
    "# Cast to a dict so we can turn it into a dataframe\n",
    "word_vec_dict = dict(word_vec_zip)\n",
    "word_vec_df = pd.DataFrame.from_dict(word_vec_dict, orient='index')\n",
    "word_vec_df.shape"
   ]
  },
  {
   "cell_type": "markdown",
   "metadata": {},
   "source": [
    "Looks lke our word embeddings pulled out 4,079 unique tokens that matched the criteria for Word2Vec (do we know what these criteria are??) "
   ]
  },
  {
   "cell_type": "code",
   "execution_count": 74,
   "metadata": {},
   "outputs": [
    {
     "name": "stderr",
     "output_type": "stream",
     "text": [
      "/Users/paul/opt/anaconda3/lib/python3.8/site-packages/matplotlib/backends/backend_agg.py:238: RuntimeWarning: Glyph 127468 missing from current font.\n",
      "  font.set_text(s, 0.0, flags=flags)\n",
      "/Users/paul/opt/anaconda3/lib/python3.8/site-packages/matplotlib/backends/backend_agg.py:201: RuntimeWarning: Glyph 127468 missing from current font.\n",
      "  font.set_text(s, 0, flags=flags)\n"
     ]
    },
    {
     "data": {
      "image/png": "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\n",
      "text/plain": [
       "<Figure size 842.4x595.44 with 1 Axes>"
      ]
     },
     "metadata": {},
     "output_type": "display_data"
    }
   ],
   "source": [
    "from sklearn.manifold import TSNE\n",
    "\n",
    "# Initialize t-SNE\n",
    "tsne = TSNE(n_components = 2, init = 'pca', perplexity = 30)\n",
    "\n",
    "# Use 400 rows to speed up training time\n",
    "tsne_df = tsne.fit_transform(word_vec_df[:400])\n",
    "\n",
    "fig, ax = plt.subplots(figsize = (11.7, 8.27))\n",
    "sns.scatterplot(x = tsne_df[:, 0], y = tsne_df[:, 1], alpha = 0.5)\n",
    "\n",
    "# Use adjustText to jitter the labels\n",
    "from adjustText import adjust_text\n",
    "texts = []\n",
    "words_to_plot = list(np.arange(0, 400, 10))\n",
    "\n",
    "# Append words to list\n",
    "for word in words_to_plot:\n",
    "    texts.append(plt.text(tsne_df[word, 0], tsne_df[word, 1], word_vec_df.index[word], fontsize = 10))\n",
    "    \n",
    "adjust_text(texts, force_points = 0.4, force_text = 0.2, \n",
    "            expand_points = (2,1), expand_text = (1,2),\n",
    "            arrowprops = dict(arrowstyle = \"-\", color = 'black', lw = 0.5))\n",
    "\n",
    "plt.show()"
   ]
  },
  {
   "cell_type": "markdown",
   "metadata": {},
   "source": [
    "I don't see so much separation, but can see some potentially meaningful proximities? \n",
    "\n",
    "Towards the upper right: bank, credit, firm, investment, trade, product \n",
    "\n",
    "Also in the vicinity: children, wife \n",
    "\n",
    "And then leftish: comment, story, tell "
   ]
  },
  {
   "cell_type": "markdown",
   "metadata": {},
   "source": [
    "Going to try PCA on the vectors... "
   ]
  },
  {
   "cell_type": "code",
   "execution_count": 75,
   "metadata": {},
   "outputs": [
    {
     "data": {
      "text/plain": [
       "<AxesSubplot:>"
      ]
     },
     "execution_count": 75,
     "metadata": {},
     "output_type": "execute_result"
    },
    {
     "data": {
      "image/png": "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\n",
      "text/plain": [
       "<Figure size 432x288 with 1 Axes>"
      ]
     },
     "metadata": {},
     "output_type": "display_data"
    }
   ],
   "source": [
    "from sklearn.preprocessing import StandardScaler\n",
    "from sklearn.decomposition import PCA\n",
    "\n",
    "X = word2vec_model.wv.__getitem__(word2vec_model.wv.vocab)\n",
    "# scale the data\n",
    "X_std = StandardScaler().fit_transform(X)\n",
    "\n",
    "# make a PCA\n",
    "w2v_pca = PCA(n_components=2) #set n_components to 2 to graph in 2-D\n",
    "\n",
    "# fit the standardized data\n",
    "Y_pca = w2v_pca.fit_transform(X_std)\n",
    "\n",
    "sns.scatterplot(x = Y_pca[:, 0], y = Y_pca[:, 1])"
   ]
  },
  {
   "cell_type": "code",
   "execution_count": 76,
   "metadata": {},
   "outputs": [
    {
     "name": "stderr",
     "output_type": "stream",
     "text": [
      "/Users/paul/opt/anaconda3/lib/python3.8/site-packages/matplotlib/backends/backend_agg.py:238: RuntimeWarning: Glyph 65039 missing from current font.\n",
      "  font.set_text(s, 0.0, flags=flags)\n",
      "/Users/paul/opt/anaconda3/lib/python3.8/site-packages/matplotlib/backends/backend_agg.py:201: RuntimeWarning: Glyph 65039 missing from current font.\n",
      "  font.set_text(s, 0, flags=flags)\n",
      "/Users/paul/opt/anaconda3/lib/python3.8/site-packages/matplotlib/backends/backend_agg.py:238: RuntimeWarning: Glyph 127477 missing from current font.\n",
      "  font.set_text(s, 0.0, flags=flags)\n",
      "/Users/paul/opt/anaconda3/lib/python3.8/site-packages/matplotlib/backends/backend_agg.py:201: RuntimeWarning: Glyph 127477 missing from current font.\n",
      "  font.set_text(s, 0, flags=flags)\n"
     ]
    },
    {
     "data": {
      "image/png": "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\n",
      "text/plain": [
       "<Figure size 432x288 with 1 Axes>"
      ]
     },
     "metadata": {},
     "output_type": "display_data"
    }
   ],
   "source": [
    "import random\n",
    "random.seed(10)\n",
    "rando = random.sample(list(word2vec_model.wv.vocab), 30)\n",
    "\n",
    "X1 = word2vec_model.wv.__getitem__(rando)\n",
    "pca1 = PCA(n_components=2)\n",
    "result = w2v_pca.fit_transform(X1)\n",
    "result_df = pd.DataFrame(result, columns = ['PC1', 'PC2'], index = rando)\n",
    "sns.scatterplot(x = 'PC1', y = 'PC2', data = result_df)\n",
    "\n",
    "from adjustText import adjust_text\n",
    "texts = []\n",
    "\n",
    "# Append words to list\n",
    "for word in result_df.index:\n",
    "    texts.append(plt.text(result_df.loc[word, 'PC1'], result_df.loc[word, 'PC2'], word, fontsize = 8))\n",
    "    \n",
    "# Plot text using adjust_text (because overlapping text is hard to read)\n",
    "adjust_text(texts, force_points = 0.4, force_text = 0.4, \n",
    "            expand_points = (2,1), expand_text = (1,2),\n",
    "            arrowprops = dict(arrowstyle = \"-\", color = 'black', lw = 0.5))\n",
    "\n",
    "plt.show()"
   ]
  },
  {
   "cell_type": "markdown",
   "metadata": {},
   "source": [
    "Lol well... Interesting that both \"protect\" and \"govt\" are quite far from the mass of the (randomly sampled) vocabulary, and also somewhat far from each other. Also \"october\" and \"twitter\" being close together...? Something about the leadup to the November election? Sorry this is not a particularly well thought out interpretation LOL"
   ]
  },
  {
   "cell_type": "markdown",
   "metadata": {},
   "source": [
    "Creating the averaged embeddings for each document. "
   ]
  },
  {
   "cell_type": "code",
   "execution_count": 81,
   "metadata": {},
   "outputs": [],
   "source": [
    "import numpy as np\n",
    "\n",
    "# Function to average word embeddings for a document; \n",
    "#use examples from lab to apply this function. You can use also other techniques such as PCA and doc2vec instead.\n",
    "\n",
    "#added the else clause in the return statement for any docs that have no words in the model vocab\n",
    "\n",
    "def document_vector(word2vec_model, doc):\n",
    "    doc = [word for word in doc if word in word2vec_model.wv.vocab]\n",
    "    return np.mean(word2vec_model.wv.__getitem__(doc), axis=0) if len(doc) > 0 else np.empty(word2vec_model.vector_size)"
   ]
  },
  {
   "cell_type": "code",
   "execution_count": 82,
   "metadata": {},
   "outputs": [],
   "source": [
    "#np.vstack takes the list from the list comprehension code\n",
    "# and \"stacks\" vertically to form a single array \n",
    "docavgs = np.vstack([document_vector(word2vec_model, x) for x in congress_tweets['tokens']])"
   ]
  },
  {
   "cell_type": "code",
   "execution_count": 83,
   "metadata": {},
   "outputs": [
    {
     "data": {
      "text/plain": [
       "<AxesSubplot:>"
      ]
     },
     "execution_count": 83,
     "metadata": {},
     "output_type": "execute_result"
    },
    {
     "data": {
      "image/png": "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\n",
      "text/plain": [
       "<Figure size 842.4x595.44 with 1 Axes>"
      ]
     },
     "metadata": {},
     "output_type": "display_data"
    }
   ],
   "source": [
    "from sklearn.manifold import TSNE\n",
    "\n",
    "# Initialize t-SNE\n",
    "tsne = TSNE(n_components = 2, init = 'pca', perplexity = 30)\n",
    "\n",
    "# Use 400 rows to speed up training time\n",
    "tsne_df = tsne.fit_transform(docavgs)\n",
    "\n",
    "fig, ax = plt.subplots(figsize = (11.7, 8.27))\n",
    "sns.scatterplot(x = tsne_df[:, 0], y = tsne_df[:, 1], alpha = 0.5)\n"
   ]
  },
  {
   "cell_type": "markdown",
   "metadata": {},
   "source": [
    "Lol just one big blob :( \n",
    "\n",
    "Just curious... going to PCA the word averaged document embeddings. "
   ]
  },
  {
   "cell_type": "code",
   "execution_count": 84,
   "metadata": {},
   "outputs": [
    {
     "data": {
      "text/plain": [
       "<AxesSubplot:>"
      ]
     },
     "execution_count": 84,
     "metadata": {},
     "output_type": "execute_result"
    },
    {
     "data": {
      "image/png": "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\n",
      "text/plain": [
       "<Figure size 432x288 with 1 Axes>"
      ]
     },
     "metadata": {},
     "output_type": "display_data"
    }
   ],
   "source": [
    "X = docavgs\n",
    "# scale the data\n",
    "X_std = StandardScaler().fit_transform(X)\n",
    "\n",
    "# make a PCA\n",
    "w2v_pca = PCA(n_components=2) #set n_components to 2 to graph in 2-D\n",
    "\n",
    "# fit the standardized data\n",
    "Y_pca = w2v_pca.fit_transform(X_std)\n",
    "\n",
    "sns.scatterplot(x = Y_pca[:, 0], y = Y_pca[:, 1])"
   ]
  },
  {
   "cell_type": "markdown",
   "metadata": {},
   "source": [
    "Okay two clusters !! "
   ]
  },
  {
   "cell_type": "code",
   "execution_count": 88,
   "metadata": {},
   "outputs": [
    {
     "data": {
      "text/html": [
       "<div>\n",
       "<style scoped>\n",
       "    .dataframe tbody tr th:only-of-type {\n",
       "        vertical-align: middle;\n",
       "    }\n",
       "\n",
       "    .dataframe tbody tr th {\n",
       "        vertical-align: top;\n",
       "    }\n",
       "\n",
       "    .dataframe thead th {\n",
       "        text-align: right;\n",
       "    }\n",
       "</style>\n",
       "<table border=\"1\" class=\"dataframe\">\n",
       "  <thead>\n",
       "    <tr style=\"text-align: right;\">\n",
       "      <th></th>\n",
       "      <th>principal component 1</th>\n",
       "      <th>principal component 2</th>\n",
       "    </tr>\n",
       "  </thead>\n",
       "  <tbody>\n",
       "    <tr>\n",
       "      <th>0</th>\n",
       "      <td>0.096721</td>\n",
       "      <td>-0.967465</td>\n",
       "    </tr>\n",
       "    <tr>\n",
       "      <th>1</th>\n",
       "      <td>0.068478</td>\n",
       "      <td>-0.215875</td>\n",
       "    </tr>\n",
       "    <tr>\n",
       "      <th>2</th>\n",
       "      <td>-0.037479</td>\n",
       "      <td>2.496200</td>\n",
       "    </tr>\n",
       "    <tr>\n",
       "      <th>3</th>\n",
       "      <td>-0.548553</td>\n",
       "      <td>0.313115</td>\n",
       "    </tr>\n",
       "    <tr>\n",
       "      <th>4</th>\n",
       "      <td>1.234748</td>\n",
       "      <td>0.102735</td>\n",
       "    </tr>\n",
       "    <tr>\n",
       "      <th>...</th>\n",
       "      <td>...</td>\n",
       "      <td>...</td>\n",
       "    </tr>\n",
       "    <tr>\n",
       "      <th>995</th>\n",
       "      <td>2.352251</td>\n",
       "      <td>1.760292</td>\n",
       "    </tr>\n",
       "    <tr>\n",
       "      <th>996</th>\n",
       "      <td>-0.455581</td>\n",
       "      <td>0.785053</td>\n",
       "    </tr>\n",
       "    <tr>\n",
       "      <th>997</th>\n",
       "      <td>-0.946594</td>\n",
       "      <td>-0.778940</td>\n",
       "    </tr>\n",
       "    <tr>\n",
       "      <th>998</th>\n",
       "      <td>-0.369503</td>\n",
       "      <td>0.240212</td>\n",
       "    </tr>\n",
       "    <tr>\n",
       "      <th>999</th>\n",
       "      <td>-0.270915</td>\n",
       "      <td>0.990304</td>\n",
       "    </tr>\n",
       "  </tbody>\n",
       "</table>\n",
       "<p>1000 rows × 2 columns</p>\n",
       "</div>"
      ],
      "text/plain": [
       "     principal component 1  principal component 2\n",
       "0                 0.096721              -0.967465\n",
       "1                 0.068478              -0.215875\n",
       "2                -0.037479               2.496200\n",
       "3                -0.548553               0.313115\n",
       "4                 1.234748               0.102735\n",
       "..                     ...                    ...\n",
       "995               2.352251               1.760292\n",
       "996              -0.455581               0.785053\n",
       "997              -0.946594              -0.778940\n",
       "998              -0.369503               0.240212\n",
       "999              -0.270915               0.990304\n",
       "\n",
       "[1000 rows x 2 columns]"
      ]
     },
     "execution_count": 88,
     "metadata": {},
     "output_type": "execute_result"
    }
   ],
   "source": [
    "pca_df"
   ]
  },
  {
   "cell_type": "code",
   "execution_count": 90,
   "metadata": {},
   "outputs": [
    {
     "data": {
      "text/plain": [
       "<Figure size 432x288 with 0 Axes>"
      ]
     },
     "metadata": {},
     "output_type": "display_data"
    },
    {
     "data": {
      "image/png": "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\n",
      "text/plain": [
       "<Figure size 720x720 with 1 Axes>"
      ]
     },
     "metadata": {},
     "output_type": "display_data"
    }
   ],
   "source": [
    "pca_df = pd.DataFrame(data = Y_pca\n",
    "             , columns = ['principal component 1', 'principal component 2'])\n",
    "\n",
    "plt.figure()\n",
    "plt.figure(figsize=(10,10))\n",
    "plt.xticks(fontsize=12)\n",
    "plt.yticks(fontsize=14)\n",
    "plt.xlabel('Principal Component - 1',fontsize=20)\n",
    "plt.ylabel('Principal Component - 2',fontsize=20)\n",
    "plt.title(\"Principal Component Analysis of Document Averages\",fontsize=20)\n",
    "targets = set(congress_tweets['party'])\n",
    "colors = ['r', 'b']\n",
    "for target, color in zip(targets,colors):\n",
    "    indicesToKeep = congress_tweets.reset_index()['party'] == target\n",
    "    plt.scatter(pca_df.loc[indicesToKeep, 'principal component 1']\n",
    "               , pca_df.loc[indicesToKeep, 'principal component 2'], c = color, s = 50)\n",
    "\n",
    "plt.legend(['Republican', 'Democrat'],prop={'size': 15})\n",
    "\n",
    "from adjustText import adjust_text\n",
    "texts = []\n",
    "\n",
    "# Append name_wikipedia to list\n",
    "# this looks very bad lol, too many names\n",
    "'''for word in pca_df.index:\n",
    "    texts.append(plt.text(pca_df.loc[word, 'principal component 1'],\n",
    "                          pca_df.loc[word, 'principal component 1'], \n",
    "                          congress_tweets.reset_index().loc[word, 'name_wikipedia'], fontsize = 8))\n",
    "    \n",
    "# Plot text using adjust_text (because overlapping text is hard to read)\n",
    "adjust_text(texts, force_points = 0.4, force_text = 0.4, \n",
    "            expand_points = (2,1), expand_text = (1,2),\n",
    "            arrowprops = dict(arrowstyle = \"-\", color = 'black', lw = 0.5))'''\n",
    "\n",
    "plt.show()"
   ]
  },
  {
   "cell_type": "code",
   "execution_count": 92,
   "metadata": {},
   "outputs": [
    {
     "data": {
      "text/plain": [
       "<Figure size 432x288 with 0 Axes>"
      ]
     },
     "metadata": {},
     "output_type": "display_data"
    },
    {
     "data": {
      "image/png": "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\n",
      "text/plain": [
       "<Figure size 720x720 with 1 Axes>"
      ]
     },
     "metadata": {},
     "output_type": "display_data"
    }
   ],
   "source": [
    "plt.figure()\n",
    "plt.figure(figsize=(10,10))\n",
    "plt.xticks(fontsize=12)\n",
    "plt.yticks(fontsize=14)\n",
    "plt.xlabel('Principal Component - 1',fontsize=20)\n",
    "plt.ylabel('Principal Component - 2',fontsize=20)\n",
    "plt.title(\"Principal Component Analysis of Document Averages\",fontsize=20)\n",
    "targets = set(congress_tweets['position'])\n",
    "colors = ['m', 'g']\n",
    "for target, color in zip(targets,colors):\n",
    "    indicesToKeep = congress_tweets.reset_index()['position'] == target\n",
    "    plt.scatter(pca_df.loc[indicesToKeep, 'principal component 1']\n",
    "               , pca_df.loc[indicesToKeep, 'principal component 2'], c = color, s = 50)\n",
    "\n",
    "plt.legend(targets,prop={'size': 15})\n",
    "plt.show()"
   ]
  },
  {
   "cell_type": "markdown",
   "metadata": {},
   "source": [
    "Um... If there is a separation, doesn't look like it's super meaningful to our questions lol. "
   ]
  },
  {
   "cell_type": "markdown",
   "metadata": {},
   "source": [
    "### Doc2Vec"
   ]
  },
  {
   "cell_type": "code",
   "execution_count": 96,
   "metadata": {},
   "outputs": [],
   "source": [
    "from sklearn.preprocessing import LabelBinarizer\n",
    "from sklearn.model_selection import train_test_split\n",
    "from gensim.models.doc2vec import Doc2Vec, TaggedDocument\n",
    "\n",
    "# binarize label\n",
    "lb_style = LabelBinarizer()\n",
    "y = congress_tweets['party'] = lb_style.fit_transform(congress_tweets['party'])\n",
    "\n",
    "# train/test split\n",
    "train, test = train_test_split(congress_tweets, test_size=0.2, random_state=42)"
   ]
  },
  {
   "cell_type": "code",
   "execution_count": 97,
   "metadata": {},
   "outputs": [
    {
     "data": {
      "text/plain": [
       "36257     ([adopt, olivia, spend, great, time, learn, ar...\n",
       "548996    ([suppose, trump, seriously, literally, steel,...\n",
       "652347    ([thank, lieutenant, mike, tarr, fire, chief, ...\n",
       "267614    ([remark, amfreesyria, share, concern, devasta...\n",
       "344386    ([jeroneanderson, montcolp, lelandshow, realdo...\n",
       "                                ...                        \n",
       "745540    ([thank, honorair, organize, meaningful, trip,...\n",
       "832336    ([housegop, 🚨, new, chinataskforce, release, c...\n",
       "53451     ([president, work, dilligenty, election, find,...\n",
       "758647    ([bobmoorenews, ok, federal, employee, support...\n",
       "201571    ([combat, veteran, member, nationalguard, grat...\n",
       "Length: 1000, dtype: object"
      ]
     },
     "execution_count": 97,
     "metadata": {},
     "output_type": "execute_result"
    }
   ],
   "source": [
    "ct_train_tagged = train.apply(lambda r: TaggedDocument(words=r['tokens'], tags=[r.party]), axis=1)\n",
    "ct_test_tagged = test.apply(lambda r: TaggedDocument(words=r['tokens'], tags=[r.party]), axis=1)\n",
    "\n",
    "ct_train_tagged"
   ]
  },
  {
   "cell_type": "code",
   "execution_count": 98,
   "metadata": {},
   "outputs": [
    {
     "name": "stderr",
     "output_type": "stream",
     "text": [
      "100%|██████████| 1000/1000 [00:00<00:00, 1002702.37it/s]\n"
     ]
    }
   ],
   "source": [
    "from multiprocessing import cpu_count\n",
    "from tqdm import tqdm\n",
    "\n",
    "model_dbow = Doc2Vec(dm=0, vector_size=300, negative=5, hs=0, min_count=2, sample = 0, workers=cpu_count())\n",
    "model_dbow.build_vocab([x for x in tqdm(ct_train_tagged.values)])"
   ]
  },
  {
   "cell_type": "code",
   "execution_count": 99,
   "metadata": {},
   "outputs": [
    {
     "name": "stderr",
     "output_type": "stream",
     "text": [
      "100%|██████████| 1000/1000 [00:00<00:00, 952168.90it/s]\n",
      "100%|██████████| 1000/1000 [00:00<00:00, 2577937.31it/s]\n",
      "100%|██████████| 1000/1000 [00:00<00:00, 2451375.80it/s]\n",
      "100%|██████████| 1000/1000 [00:00<00:00, 1683783.22it/s]\n",
      "100%|██████████| 1000/1000 [00:00<00:00, 2289467.25it/s]\n",
      "100%|██████████| 1000/1000 [00:00<00:00, 266949.08it/s]\n",
      "100%|██████████| 1000/1000 [00:00<00:00, 2268417.52it/s]\n",
      "100%|██████████| 1000/1000 [00:00<00:00, 2273335.50it/s]\n",
      "100%|██████████| 1000/1000 [00:00<00:00, 2341878.28it/s]\n",
      "100%|██████████| 1000/1000 [00:00<00:00, 1855065.90it/s]\n",
      "100%|██████████| 1000/1000 [00:00<00:00, 2198272.54it/s]\n",
      "100%|██████████| 1000/1000 [00:00<00:00, 1476867.61it/s]\n",
      "100%|██████████| 1000/1000 [00:00<00:00, 2316015.46it/s]\n",
      "100%|██████████| 1000/1000 [00:00<00:00, 1709170.33it/s]\n",
      "100%|██████████| 1000/1000 [00:00<00:00, 628171.93it/s]\n",
      "100%|██████████| 1000/1000 [00:00<00:00, 1559800.67it/s]\n",
      "100%|██████████| 1000/1000 [00:00<00:00, 981353.30it/s]\n",
      "100%|██████████| 1000/1000 [00:00<00:00, 2241744.52it/s]\n",
      "100%|██████████| 1000/1000 [00:00<00:00, 935602.05it/s]\n",
      "100%|██████████| 1000/1000 [00:00<00:00, 2470143.70it/s]\n",
      "100%|██████████| 1000/1000 [00:00<00:00, 1262964.17it/s]\n",
      "100%|██████████| 1000/1000 [00:00<00:00, 2519101.50it/s]\n",
      "100%|██████████| 1000/1000 [00:00<00:00, 1067252.93it/s]\n",
      "100%|██████████| 1000/1000 [00:00<00:00, 1128714.75it/s]\n",
      "100%|██████████| 1000/1000 [00:00<00:00, 1797815.69it/s]\n",
      "100%|██████████| 1000/1000 [00:00<00:00, 2257429.49it/s]\n",
      "100%|██████████| 1000/1000 [00:00<00:00, 2183396.15it/s]\n",
      "100%|██████████| 1000/1000 [00:00<00:00, 144282.90it/s]\n",
      "100%|██████████| 1000/1000 [00:00<00:00, 1309083.65it/s]\n",
      "100%|██████████| 1000/1000 [00:00<00:00, 1772740.49it/s]\n"
     ]
    }
   ],
   "source": [
    "from sklearn import utils\n",
    "\n",
    "for epoch in range(30):\n",
    "    model_dbow.train(utils.shuffle([x for x in tqdm(ct_train_tagged.values)]), \n",
    "                     total_examples=len(ct_train_tagged.values), epochs=1)\n",
    "    model_dbow.alpha -= 0.002\n",
    "    model_dbow.min_alpha = model_dbow.alpha"
   ]
  },
  {
   "cell_type": "code",
   "execution_count": 50,
   "metadata": {},
   "outputs": [],
   "source": [
    "def vec_for_learning(model, tagged_docs):\n",
    "    sents = tagged_docs.values\n",
    "    targets, regressors = zip(*[(doc.tags[0], model.infer_vector(doc.words, steps=20)) for doc in sents])\n",
    "    return targets, regressors"
   ]
  },
  {
   "cell_type": "code",
   "execution_count": 100,
   "metadata": {},
   "outputs": [],
   "source": [
    "y_train, X_train = vec_for_learning(model_dbow, ct_train_tagged)\n",
    "y_test, X_test = vec_for_learning(model_dbow, ct_test_tagged)"
   ]
  },
  {
   "cell_type": "code",
   "execution_count": 101,
   "metadata": {},
   "outputs": [],
   "source": [
    "from sklearn.preprocessing import StandardScaler\n",
    "\n",
    "X_std = StandardScaler().fit_transform(X_train)"
   ]
  },
  {
   "cell_type": "code",
   "execution_count": 102,
   "metadata": {},
   "outputs": [
    {
     "name": "stderr",
     "output_type": "stream",
     "text": [
      "/Users/paul/opt/anaconda3/lib/python3.8/site-packages/sklearn/model_selection/_search.py:847: FutureWarning: The parameter 'iid' is deprecated in 0.22 and will be removed in 0.24.\n",
      "  warnings.warn(\n"
     ]
    },
    {
     "data": {
      "text/plain": [
       "GridSearchCV(cv=3,\n",
       "             estimator=Pipeline(steps=[('smote', SMOTE(random_state=10)),\n",
       "                                       ('logisticregression',\n",
       "                                        LogisticRegression())]),\n",
       "             iid=False, n_jobs=-1,\n",
       "             param_grid={'logisticregression__l1_ratio': array([0. , 0.2, 0.4, 0.6, 0.8]),\n",
       "                         'logisticregression__max_iter': [1000],\n",
       "                         'logisticregression__penalty': ['l1', 'l2',\n",
       "                                                         'elasticnet'],\n",
       "                         'logisticregression__solver': ['newton-cg', 'lbfgs',\n",
       "                                                        'saga']},\n",
       "             refit='accuracy',\n",
       "             scoring=['accuracy', 'precision', 'recall', 'f1'])"
      ]
     },
     "execution_count": 102,
     "metadata": {},
     "output_type": "execute_result"
    }
   ],
   "source": [
    "import numpy as np\n",
    "from sklearn.model_selection import GridSearchCV\n",
    "from imblearn.pipeline import Pipeline, make_pipeline\n",
    "from imblearn.over_sampling import SMOTE\n",
    "from sklearn.linear_model import LogisticRegression \n",
    "\n",
    "imba_pipeline = make_pipeline(SMOTE(random_state=10), \n",
    "                             LogisticRegression())\n",
    "\n",
    "param_grid = {'logisticregression__penalty': ['l1', 'l2', 'elasticnet'],\n",
    "              'logisticregression__solver' : ['newton-cg', 'lbfgs', 'saga'],\n",
    "             \"logisticregression__max_iter\": [1000], \n",
    "             'logisticregression__l1_ratio': np.arange(0, 1, 0.2)}\n",
    "\n",
    "log_grid_reg3 = GridSearchCV(imba_pipeline, param_grid, cv=3, iid=False, \n",
    "                            scoring=['accuracy', 'precision', 'recall', 'f1'], n_jobs = -1,  \n",
    "                           refit = 'accuracy') \n",
    "log_grid_reg3.fit(X_train, y_train)\n",
    "\n"
   ]
  },
  {
   "cell_type": "code",
   "execution_count": 103,
   "metadata": {},
   "outputs": [
    {
     "name": "stdout",
     "output_type": "stream",
     "text": [
      "params : {'logisticregression__l1_ratio': 0.8, 'logisticregression__max_iter': 1000, 'logisticregression__penalty': 'elasticnet', 'logisticregression__solver': 'saga'}\n",
      "mean_test_accuracy : 0.5889632147117178\n",
      "mean_test_precision : 0.7106946961459467\n",
      "mean_test_recall : 0.5775211630474789\n",
      "mean_test_f1 : 0.6366609178614102\n",
      "mean_fit_time : 5.733102003733317\n"
     ]
    }
   ],
   "source": [
    "metrics = [\"params\", \"mean_test_accuracy\", \"mean_test_precision\", \n",
    "           \"mean_test_recall\", \"mean_test_f1\", \"mean_fit_time\"]\n",
    "\n",
    "for i in metrics:\n",
    "    print(i, \":\", log_grid_reg3.cv_results_[i][log_grid_reg3.best_index_])"
   ]
  },
  {
   "cell_type": "code",
   "execution_count": 104,
   "metadata": {},
   "outputs": [
    {
     "data": {
      "image/png": "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\n",
      "text/plain": [
       "<Figure size 720x504 with 2 Axes>"
      ]
     },
     "metadata": {},
     "output_type": "display_data"
    }
   ],
   "source": [
    "from sklearn.metrics import confusion_matrix\n",
    "\n",
    "y_pred = log_grid_reg3.best_estimator_[1].predict(StandardScaler().fit_transform(X_test))\n",
    "\n",
    "cf_matrix = confusion_matrix(y_test, y_pred, normalize = \"true\")\n",
    "\n",
    "df_cm = pd.DataFrame(cf_matrix, range(2),\n",
    "                  range(2))\n",
    "\n",
    "df_cm = df_cm.rename(index=str, columns={0: \"Republican\", 1: \"Democrat\"})\n",
    "df_cm.index = [\"Republican\", \"Democrat\"]\n",
    "plt.figure(figsize = (10,7))\n",
    "sns.set(font_scale=1.4)#for label size\n",
    "sns.heatmap(df_cm, \n",
    "           annot=True,\n",
    "           annot_kws={\"size\": 16},\n",
    "           fmt='g')\n",
    "\n",
    "plt.title('Confusion Matrix')\n",
    "plt.xlabel(\"Predicted Label\")\n",
    "plt.ylabel(\"True Label\")\n",
    "plt.show()"
   ]
  },
  {
   "cell_type": "markdown",
   "metadata": {},
   "source": [
    "## Classification"
   ]
  },
  {
   "cell_type": "markdown",
   "metadata": {},
   "source": [
    "Either use cross-validation or partition your data with training/validation/test sets for this section. Do the following:\n",
    "\n",
    "* Choose a supervised learning algorithm such as logistic regression, random forest etc. \n",
    "* Train six models. For each of the three dataframes you created in the featurization part, train one model to predict whether the author of the tweet is a Democrat or Republican, and a second model to predict whether the author is a Senator or Representative.\n",
    "* Report the accuracy and other relevant metrics for each of these six models.\n",
    "* Choose the featurization technique associated with your best model. Combine those text features with non-text features. Train two more models: (1) A supervised learning algorithm that uses just the non-text features and (2) a supervised learning algorithm that combines text and non-text features. Report accuracy and other relevant metrics. \n",
    "\n",
    "If time permits, you are encouraged to use hyperparameter tuning or AutoML techniques like TPOT, but are not explicitly required to do so."
   ]
  },
  {
   "cell_type": "code",
   "execution_count": null,
   "metadata": {},
   "outputs": [],
   "source": [
    "congress_tweets.loc[congress_tweets['party'] == 'Independent']\n",
    "\n",
    "parties = congress_tweets['party']"
   ]
  },
  {
   "cell_type": "code",
   "execution_count": 471,
   "metadata": {},
   "outputs": [
    {
     "data": {
      "text/plain": [
       "(1000, 6141)"
      ]
     },
     "execution_count": 471,
     "metadata": {},
     "output_type": "execute_result"
    }
   ],
   "source": [
    "#np.concatenate((np.array(engineered_features),\n",
    "                                                       docavgs, tfidf_matrix.todense()),\n",
    "                                                      axis = 1)"
   ]
  },
  {
   "cell_type": "code",
   "execution_count": 93,
   "metadata": {},
   "outputs": [],
   "source": [
    "from sklearn.preprocessing import LabelBinarizer\n",
    "\n",
    "X_std = StandardScaler().fit_transform(np.concatenate((np.array(engineered_features),docavgs), axis = 1))\n",
    "#X_std\n",
    "\n",
    "lb = LabelBinarizer()\n",
    "#y = lb.fit_transform(congress_tweets['party'].replace('Independent', 'Democrat'))\n",
    "\n",
    "y = congress_tweets['party']"
   ]
  },
  {
   "cell_type": "code",
   "execution_count": 94,
   "metadata": {},
   "outputs": [
    {
     "name": "stderr",
     "output_type": "stream",
     "text": [
      "/Users/paul/opt/anaconda3/lib/python3.8/site-packages/sklearn/model_selection/_search.py:847: FutureWarning: The parameter 'iid' is deprecated in 0.22 and will be removed in 0.24.\n",
      "  warnings.warn(\n"
     ]
    },
    {
     "data": {
      "text/plain": [
       "GridSearchCV(cv=3,\n",
       "             estimator=Pipeline(steps=[('smote', SMOTE(random_state=10)),\n",
       "                                       ('logisticregression',\n",
       "                                        LogisticRegression())]),\n",
       "             iid=False, n_jobs=-1,\n",
       "             param_grid={'logisticregression__l1_ratio': array([0. , 0.2, 0.4, 0.6, 0.8]),\n",
       "                         'logisticregression__max_iter': [1000],\n",
       "                         'logisticregression__penalty': ['l1', 'l2',\n",
       "                                                         'elasticnet'],\n",
       "                         'logisticregression__solver': ['newton-cg', 'lbfgs',\n",
       "                                                        'saga']},\n",
       "             refit='accuracy',\n",
       "             scoring=['accuracy', 'precision', 'recall', 'f1'])"
      ]
     },
     "execution_count": 94,
     "metadata": {},
     "output_type": "execute_result"
    }
   ],
   "source": [
    "from sklearn.model_selection import GridSearchCV\n",
    "from imblearn.pipeline import Pipeline, make_pipeline\n",
    "from imblearn.over_sampling import SMOTE\n",
    "from sklearn.linear_model import LogisticRegression \n",
    "\n",
    "imba_pipeline = make_pipeline(SMOTE(random_state=10), \n",
    "                             LogisticRegression())\n",
    "\n",
    "param_grid = {'logisticregression__penalty': ['l1', 'l2', 'elasticnet'],\n",
    "              'logisticregression__solver' : ['newton-cg', 'lbfgs', 'saga'],\n",
    "             \"logisticregression__max_iter\": [1000], \n",
    "             'logisticregression__l1_ratio': np.arange(0, 1, 0.2)}\n",
    "\n",
    "log_grid_reg3 = GridSearchCV(imba_pipeline, param_grid, cv=3, iid=False, \n",
    "                            scoring=['accuracy', 'precision', 'recall', 'f1'], n_jobs = -1,  \n",
    "                           refit = 'accuracy') \n",
    "log_grid_reg3.fit(X_std, y.ravel())\n"
   ]
  },
  {
   "cell_type": "code",
   "execution_count": 95,
   "metadata": {},
   "outputs": [
    {
     "name": "stdout",
     "output_type": "stream",
     "text": [
      "params : {'logisticregression__l1_ratio': 0.6000000000000001, 'logisticregression__max_iter': 1000, 'logisticregression__penalty': 'elasticnet', 'logisticregression__solver': 'saga'}\n",
      "mean_test_accuracy : 0.5879771987556418\n",
      "mean_test_precision : 0.6940456442313159\n",
      "mean_test_recall : 0.6095801128695865\n",
      "mean_test_f1 : 0.6490567020037356\n",
      "mean_fit_time : 7.624471028645833\n"
     ]
    }
   ],
   "source": [
    "metrics = [\"params\", \"mean_test_accuracy\", \"mean_test_precision\", \n",
    "           \"mean_test_recall\", \"mean_test_f1\", \"mean_fit_time\"]\n",
    "\n",
    "for i in metrics:\n",
    "    print(i, \":\", log_grid_reg3.cv_results_[i][log_grid_reg3.best_index_])"
   ]
  },
  {
   "cell_type": "markdown",
   "metadata": {},
   "source": [
    "### Train Six Models with Just Text"
   ]
  },
  {
   "cell_type": "code",
   "execution_count": 476,
   "metadata": {},
   "outputs": [],
   "source": [
    "# six models ([engineered features, frequency-based, embedding] * [democrat/republican, senator/representative])\n",
    "\n",
    "from sklearn.model_selection import train_test_split\n",
    "from sklearn.metrics import confusion_matrix\n",
    "from sklearn.naive_bayes import MultinomialNB\n",
    "from sklearn.preprocessing import LabelBinarizer\n",
    "from sklearn.linear_model import LogisticRegression\n",
    "from sklearn.feature_extraction.text import CountVectorizer"
   ]
  },
  {
   "cell_type": "code",
   "execution_count": null,
   "metadata": {},
   "outputs": [],
   "source": [
    "#Engineered Features (trying this without to resolve error below)\n",
    "#dataframes = [engineered_features]\n",
    "\n",
    "#featurization_technique = ['Engineered Text Features']\n",
    "\n",
    "#lb_style = LabelBinarizer()\n",
    "#y = congress_tweets['party'] = lb_style.fit_transform(congress_tweets['party'])"
   ]
  },
  {
   "cell_type": "code",
   "execution_count": 60,
   "metadata": {
    "scrolled": false
   },
   "outputs": [],
   "source": [
    "engineered_features_df = pd.DataFrame(engineered_features)"
   ]
  },
  {
   "cell_type": "code",
   "execution_count": 61,
   "metadata": {},
   "outputs": [
    {
     "ename": "ValueError",
     "evalue": "could not convert string to float: 'irs operation continue reopen country center staff return amp additional staff available tollfree line check status direct payment'",
     "output_type": "error",
     "traceback": [
      "\u001b[0;31m---------------------------------------------------------------------------\u001b[0m",
      "\u001b[0;31mValueError\u001b[0m                                Traceback (most recent call last)",
      "\u001b[0;32m<ipython-input-61-924fc046bb9b>\u001b[0m in \u001b[0;36m<module>\u001b[0;34m\u001b[0m\n\u001b[1;32m     11\u001b[0m \u001b[0;34m\u001b[0m\u001b[0m\n\u001b[1;32m     12\u001b[0m \u001b[0;31m# fit the model\u001b[0m\u001b[0;34m\u001b[0m\u001b[0;34m\u001b[0m\u001b[0;34m\u001b[0m\u001b[0m\n\u001b[0;32m---> 13\u001b[0;31m \u001b[0mlogit_model\u001b[0m \u001b[0;34m=\u001b[0m \u001b[0mlogit_reg\u001b[0m\u001b[0;34m.\u001b[0m\u001b[0mfit\u001b[0m\u001b[0;34m(\u001b[0m\u001b[0mX_train\u001b[0m\u001b[0;34m,\u001b[0m \u001b[0my_train\u001b[0m\u001b[0;34m.\u001b[0m\u001b[0mravel\u001b[0m\u001b[0;34m(\u001b[0m\u001b[0;34m)\u001b[0m\u001b[0;34m)\u001b[0m\u001b[0;34m\u001b[0m\u001b[0;34m\u001b[0m\u001b[0m\n\u001b[0m\u001b[1;32m     14\u001b[0m \u001b[0;34m\u001b[0m\u001b[0m\n\u001b[1;32m     15\u001b[0m \u001b[0my_pred\u001b[0m \u001b[0;34m=\u001b[0m \u001b[0mlogit_model\u001b[0m\u001b[0;34m.\u001b[0m\u001b[0mpredict\u001b[0m\u001b[0;34m(\u001b[0m\u001b[0mX_test\u001b[0m\u001b[0;34m)\u001b[0m\u001b[0;34m\u001b[0m\u001b[0;34m\u001b[0m\u001b[0m\n",
      "\u001b[0;32m~/opt/anaconda3/lib/python3.7/site-packages/sklearn/linear_model/_logistic.py\u001b[0m in \u001b[0;36mfit\u001b[0;34m(self, X, y, sample_weight)\u001b[0m\n\u001b[1;32m   1525\u001b[0m \u001b[0;34m\u001b[0m\u001b[0m\n\u001b[1;32m   1526\u001b[0m         X, y = check_X_y(X, y, accept_sparse='csr', dtype=_dtype, order=\"C\",\n\u001b[0;32m-> 1527\u001b[0;31m                          accept_large_sparse=solver != 'liblinear')\n\u001b[0m\u001b[1;32m   1528\u001b[0m         \u001b[0mcheck_classification_targets\u001b[0m\u001b[0;34m(\u001b[0m\u001b[0my\u001b[0m\u001b[0;34m)\u001b[0m\u001b[0;34m\u001b[0m\u001b[0;34m\u001b[0m\u001b[0m\n\u001b[1;32m   1529\u001b[0m         \u001b[0mself\u001b[0m\u001b[0;34m.\u001b[0m\u001b[0mclasses_\u001b[0m \u001b[0;34m=\u001b[0m \u001b[0mnp\u001b[0m\u001b[0;34m.\u001b[0m\u001b[0munique\u001b[0m\u001b[0;34m(\u001b[0m\u001b[0my\u001b[0m\u001b[0;34m)\u001b[0m\u001b[0;34m\u001b[0m\u001b[0;34m\u001b[0m\u001b[0m\n",
      "\u001b[0;32m~/opt/anaconda3/lib/python3.7/site-packages/sklearn/utils/validation.py\u001b[0m in \u001b[0;36mcheck_X_y\u001b[0;34m(X, y, accept_sparse, accept_large_sparse, dtype, order, copy, force_all_finite, ensure_2d, allow_nd, multi_output, ensure_min_samples, ensure_min_features, y_numeric, warn_on_dtype, estimator)\u001b[0m\n\u001b[1;32m    753\u001b[0m                     \u001b[0mensure_min_features\u001b[0m\u001b[0;34m=\u001b[0m\u001b[0mensure_min_features\u001b[0m\u001b[0;34m,\u001b[0m\u001b[0;34m\u001b[0m\u001b[0;34m\u001b[0m\u001b[0m\n\u001b[1;32m    754\u001b[0m                     \u001b[0mwarn_on_dtype\u001b[0m\u001b[0;34m=\u001b[0m\u001b[0mwarn_on_dtype\u001b[0m\u001b[0;34m,\u001b[0m\u001b[0;34m\u001b[0m\u001b[0;34m\u001b[0m\u001b[0m\n\u001b[0;32m--> 755\u001b[0;31m                     estimator=estimator)\n\u001b[0m\u001b[1;32m    756\u001b[0m     \u001b[0;32mif\u001b[0m \u001b[0mmulti_output\u001b[0m\u001b[0;34m:\u001b[0m\u001b[0;34m\u001b[0m\u001b[0;34m\u001b[0m\u001b[0m\n\u001b[1;32m    757\u001b[0m         y = check_array(y, 'csr', force_all_finite=True, ensure_2d=False,\n",
      "\u001b[0;32m~/opt/anaconda3/lib/python3.7/site-packages/sklearn/utils/validation.py\u001b[0m in \u001b[0;36mcheck_array\u001b[0;34m(array, accept_sparse, accept_large_sparse, dtype, order, copy, force_all_finite, ensure_2d, allow_nd, ensure_min_samples, ensure_min_features, warn_on_dtype, estimator)\u001b[0m\n\u001b[1;32m    529\u001b[0m                     \u001b[0marray\u001b[0m \u001b[0;34m=\u001b[0m \u001b[0marray\u001b[0m\u001b[0;34m.\u001b[0m\u001b[0mastype\u001b[0m\u001b[0;34m(\u001b[0m\u001b[0mdtype\u001b[0m\u001b[0;34m,\u001b[0m \u001b[0mcasting\u001b[0m\u001b[0;34m=\u001b[0m\u001b[0;34m\"unsafe\"\u001b[0m\u001b[0;34m,\u001b[0m \u001b[0mcopy\u001b[0m\u001b[0;34m=\u001b[0m\u001b[0;32mFalse\u001b[0m\u001b[0;34m)\u001b[0m\u001b[0;34m\u001b[0m\u001b[0;34m\u001b[0m\u001b[0m\n\u001b[1;32m    530\u001b[0m                 \u001b[0;32melse\u001b[0m\u001b[0;34m:\u001b[0m\u001b[0;34m\u001b[0m\u001b[0;34m\u001b[0m\u001b[0m\n\u001b[0;32m--> 531\u001b[0;31m                     \u001b[0marray\u001b[0m \u001b[0;34m=\u001b[0m \u001b[0mnp\u001b[0m\u001b[0;34m.\u001b[0m\u001b[0masarray\u001b[0m\u001b[0;34m(\u001b[0m\u001b[0marray\u001b[0m\u001b[0;34m,\u001b[0m \u001b[0morder\u001b[0m\u001b[0;34m=\u001b[0m\u001b[0morder\u001b[0m\u001b[0;34m,\u001b[0m \u001b[0mdtype\u001b[0m\u001b[0;34m=\u001b[0m\u001b[0mdtype\u001b[0m\u001b[0;34m)\u001b[0m\u001b[0;34m\u001b[0m\u001b[0;34m\u001b[0m\u001b[0m\n\u001b[0m\u001b[1;32m    532\u001b[0m             \u001b[0;32mexcept\u001b[0m \u001b[0mComplexWarning\u001b[0m\u001b[0;34m:\u001b[0m\u001b[0;34m\u001b[0m\u001b[0;34m\u001b[0m\u001b[0m\n\u001b[1;32m    533\u001b[0m                 raise ValueError(\"Complex data not supported\\n\"\n",
      "\u001b[0;32m~/opt/anaconda3/lib/python3.7/site-packages/numpy/core/_asarray.py\u001b[0m in \u001b[0;36masarray\u001b[0;34m(a, dtype, order)\u001b[0m\n\u001b[1;32m     83\u001b[0m \u001b[0;34m\u001b[0m\u001b[0m\n\u001b[1;32m     84\u001b[0m     \"\"\"\n\u001b[0;32m---> 85\u001b[0;31m     \u001b[0;32mreturn\u001b[0m \u001b[0marray\u001b[0m\u001b[0;34m(\u001b[0m\u001b[0ma\u001b[0m\u001b[0;34m,\u001b[0m \u001b[0mdtype\u001b[0m\u001b[0;34m,\u001b[0m \u001b[0mcopy\u001b[0m\u001b[0;34m=\u001b[0m\u001b[0;32mFalse\u001b[0m\u001b[0;34m,\u001b[0m \u001b[0morder\u001b[0m\u001b[0;34m=\u001b[0m\u001b[0morder\u001b[0m\u001b[0;34m)\u001b[0m\u001b[0;34m\u001b[0m\u001b[0;34m\u001b[0m\u001b[0m\n\u001b[0m\u001b[1;32m     86\u001b[0m \u001b[0;34m\u001b[0m\u001b[0m\n\u001b[1;32m     87\u001b[0m \u001b[0;34m\u001b[0m\u001b[0m\n",
      "\u001b[0;31mValueError\u001b[0m: could not convert string to float: 'irs operation continue reopen country center staff return amp additional staff available tollfree line check status direct payment'"
     ]
    }
   ],
   "source": [
    "#for dataframe, featurization in zip(dataframes, featurization_technique): (trying to resolve error)\n",
    "y = congress_tweets['party']\n",
    "\n",
    "X_train, X_test, y_train, y_test = train_test_split(engineered_features_df, \n",
    "                                                    y, \n",
    "                                                    train_size = .80, \n",
    "                                                    test_size=0.20, \n",
    "                                                    random_state = 10)\n",
    "# create a model\n",
    "logit_reg = LogisticRegression()\n",
    "\n",
    "# fit the model\n",
    "logit_model = logit_reg.fit(X_train, y_train.ravel())\n",
    "\n",
    "y_pred = logit_model.predict(X_test)\n",
    "\n",
    "cf_matrix = confusion_matrix(y_test, y_pred, normalize = \"true\")\n",
    "\n",
    "df_cm = pd.DataFrame(cf_matrix, range(2),\n",
    "                  range(2))\n",
    "\n",
    "df_cm = df_cm.rename(index=str, columns={0: \"Republican\", 1: \"Democrat\"})\n",
    "df_cm.index = [\"Republican\", \"Democrat\"]\n",
    "plt.figure(figsize = (10,7))\n",
    "sns.set(font_scale=1.4)#for label size\n",
    "sns.heatmap(df_cm, \n",
    "           annot=True,\n",
    "           annot_kws={\"size\": 16},\n",
    "           fmt='g')\n",
    "\n",
    "plt.title('Google Document Averaged Embeddings')\n",
    "plt.xlabel(\"Predicted Label\")\n",
    "plt.ylabel(\"True Label\")\n",
    "plt.show()"
   ]
  },
  {
   "cell_type": "markdown",
   "metadata": {},
   "source": [
    "### Two Combined Models"
   ]
  },
  {
   "cell_type": "code",
   "execution_count": null,
   "metadata": {},
   "outputs": [],
   "source": [
    "# two models ([best text features + non-text features] * [democrat/republican, senator/representative])\n"
   ]
  },
  {
   "cell_type": "markdown",
   "metadata": {},
   "source": [
    "## Discussion Questions"
   ]
  },
  {
   "cell_type": "markdown",
   "metadata": {},
   "source": [
    "1. Why do standard preprocessing techniques need to be further customized to a particular corpus?"
   ]
  },
  {
   "cell_type": "markdown",
   "metadata": {},
   "source": [
    "**Your Answer Here**"
   ]
  },
  {
   "cell_type": "markdown",
   "metadata": {},
   "source": [
    "2. Did you find evidence for the idea that Democrats and Republicans have different sentiments in their tweets? What about Senators and Representatives?"
   ]
  },
  {
   "cell_type": "markdown",
   "metadata": {},
   "source": [
    "**Your Answer Here**"
   ]
  },
  {
   "cell_type": "markdown",
   "metadata": {},
   "source": [
    "3. Why is validating your exploratory and unsupervised learning approaches with a supervised learning algorithm valuable?"
   ]
  },
  {
   "cell_type": "markdown",
   "metadata": {},
   "source": [
    "**Your Answer Here**"
   ]
  },
  {
   "cell_type": "markdown",
   "metadata": {},
   "source": [
    "4. Did text only, non-text only, or text and non-text features together perform the best? What is the intuition behind combining text and non-text features in a supervised learning algorithm?"
   ]
  },
  {
   "cell_type": "markdown",
   "metadata": {},
   "source": [
    "**Your Answer Here**"
   ]
  }
 ],
 "metadata": {
  "kernelspec": {
   "display_name": "Python 3",
   "language": "python",
   "name": "python3"
  },
  "language_info": {
   "codemirror_mode": {
    "name": "ipython",
    "version": 3
   },
   "file_extension": ".py",
   "mimetype": "text/x-python",
   "name": "python",
   "nbconvert_exporter": "python",
   "pygments_lexer": "ipython3",
   "version": "3.7.4"
  }
 },
 "nbformat": 4,
 "nbformat_minor": 4
}
