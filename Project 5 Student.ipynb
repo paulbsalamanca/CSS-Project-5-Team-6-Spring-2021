{
 "cells": [
  {
   "cell_type": "markdown",
   "metadata": {},
   "source": [
    "## [Computational Social Science] Project 5: Natural Language Processing"
   ]
  },
  {
   "cell_type": "markdown",
   "metadata": {},
   "source": [
    "In this project, you will use natural language processing techniques to explore a dataset containing tweets from members of the 116th United States Congress that met from January 3, 2019 to January 2, 2021. The dataset has also been cleaned to contain information about each legislator. Concretely, you will do the following:\n",
    "\n",
    "* Preprocess the text of legislators' tweets\n",
    "* Conduct Exploratory Data Analysis of the text\n",
    "* Use sentiment analysis to explore differences between legislators' tweets\n",
    "* Featurize text with manual feature engineering, frequency-based, and vector-based techniques\n",
    "* Predict legislators' political parties and whether they are a Senator or Representative\n",
    "\n",
    "You will explore two questions that relate to two central findings in political science and examine how they relate to the text of legislators' tweets. First, political scientists have argued that U.S. politics is currently highly polarized relative to other periods in American history, but also that the polarization is asymmetric. Historically, there were several conservative Democrats (i.e. \"blue dog Democrats\") and liberal Republicans (i.e. \"Rockefeller Republicans\"), as measured by popular measurement tools like [DW-NOMINATE](https://en.wikipedia.org/wiki/NOMINATE_(scaling_method)#:~:text=DW\\%2DNOMINATE\\%20scores\\%20have\\%20been,in\\%20the\\%20liberal\\%2Dconservative\\%20scale.). However, in the last few years, there are few if any examples of any Democrat in Congress being further to the right than any Republican and vice versa. At the same time, scholars have argued that this polarization is mostly a function of the Republican party moving further right than the Democratic party has moved left. **Does this sort of asymmetric polarization show up in how politicians communicate to their constituents through tweets?**\n",
    "\n",
    "Second, the U.S. Congress is a bicameral legislature, and there has long been debate about partisanship in the Senate versus the House. The House of Representatives is apportioned by population and all members serve two year terms. In the Senate, each state receives two Senators and each Senator serves a term of six years. For a variety of reasons (smaller chamber size, more insulation from the voters, rules and norms like the filibuster, etc.), the Senate has been argued to be the \"cooling saucer\" of Congress in that it is more bipartisan and moderate than the House. **Does the theory that the Senate is more moderate have support in Senators' tweets?**\n",
    "\n",
    "**Note**: See the project handout for more details on caveats and the data dictionary."
   ]
  },
  {
   "cell_type": "code",
   "execution_count": 4,
   "metadata": {},
   "outputs": [],
   "source": [
    "# pandas and numpy\n",
    "import pandas as pd\n",
    "import numpy as numpy\n",
    "\n",
    "# punctuation, stop words and English language model\n",
    "from string import punctuation\n",
    "from spacy.lang.en.stop_words import STOP_WORDS\n",
    "import en_core_web_sm\n",
    "nlp = en_core_web_sm.load()\n",
    "\n",
    "# textblob\n",
    "from textblob import TextBlob\n",
    "\n",
    "# countvectorizer, tfidfvectorizer\n",
    "from sklearn.feature_extraction.text import CountVectorizer, TfidfVectorizer\n",
    "\n",
    "# gensim\n",
    "import gensim\n",
    "from gensim import models\n",
    "\n",
    "# plotting\n",
    "import matplotlib.pyplot as plt\n",
    "import seaborn as sns\n",
    "%matplotlib inline"
   ]
  },
  {
   "cell_type": "code",
   "execution_count": 5,
   "metadata": {},
   "outputs": [],
   "source": [
    "#pip install emoji\n",
    "\n",
    "# ooh do we need to do this? -P "
   ]
  },
  {
   "cell_type": "code",
   "execution_count": 6,
   "metadata": {},
   "outputs": [
    {
     "data": {
      "text/html": [
       "<div>\n",
       "<style scoped>\n",
       "    .dataframe tbody tr th:only-of-type {\n",
       "        vertical-align: middle;\n",
       "    }\n",
       "\n",
       "    .dataframe tbody tr th {\n",
       "        vertical-align: top;\n",
       "    }\n",
       "\n",
       "    .dataframe thead th {\n",
       "        text-align: right;\n",
       "    }\n",
       "</style>\n",
       "<table border=\"1\" class=\"dataframe\">\n",
       "  <thead>\n",
       "    <tr style=\"text-align: right;\">\n",
       "      <th></th>\n",
       "      <th>tweet_id</th>\n",
       "      <th>screen_name</th>\n",
       "      <th>datetime</th>\n",
       "      <th>text</th>\n",
       "      <th>name_wikipedia</th>\n",
       "      <th>position</th>\n",
       "      <th>joined_congress_date</th>\n",
       "      <th>birthday</th>\n",
       "      <th>gender</th>\n",
       "      <th>state</th>\n",
       "      <th>district_number</th>\n",
       "      <th>party</th>\n",
       "      <th>trump_2016_state_share</th>\n",
       "      <th>clinton_2016_state_share</th>\n",
       "      <th>obama_2012_state_share</th>\n",
       "      <th>romney_2012_state_share</th>\n",
       "    </tr>\n",
       "  </thead>\n",
       "  <tbody>\n",
       "    <tr>\n",
       "      <th>0</th>\n",
       "      <td>1.081010e+18</td>\n",
       "      <td>RepByrne</td>\n",
       "      <td>2019-01-03T21:23:00-05:00</td>\n",
       "      <td>Great news for Baldwin County! The economy of ...</td>\n",
       "      <td>Bradley Byrne</td>\n",
       "      <td>Rep</td>\n",
       "      <td>8-Jan-14</td>\n",
       "      <td>2/16/1955</td>\n",
       "      <td>M</td>\n",
       "      <td>AL</td>\n",
       "      <td>1</td>\n",
       "      <td>Republican</td>\n",
       "      <td>1,318,255</td>\n",
       "      <td>729,547</td>\n",
       "      <td>795,696</td>\n",
       "      <td>1,255,925</td>\n",
       "    </tr>\n",
       "    <tr>\n",
       "      <th>1</th>\n",
       "      <td>1.080880e+18</td>\n",
       "      <td>RepByrne</td>\n",
       "      <td>2019-01-03T12:30:38-05:00</td>\n",
       "      <td>Outstanding news today from @Airbus! @JetBlue ...</td>\n",
       "      <td>Bradley Byrne</td>\n",
       "      <td>Rep</td>\n",
       "      <td>8-Jan-14</td>\n",
       "      <td>2/16/1955</td>\n",
       "      <td>M</td>\n",
       "      <td>AL</td>\n",
       "      <td>1</td>\n",
       "      <td>Republican</td>\n",
       "      <td>1,318,255</td>\n",
       "      <td>729,547</td>\n",
       "      <td>795,696</td>\n",
       "      <td>1,255,925</td>\n",
       "    </tr>\n",
       "    <tr>\n",
       "      <th>2</th>\n",
       "      <td>1.080830e+18</td>\n",
       "      <td>RepByrne</td>\n",
       "      <td>2019-01-03T09:12:07-05:00</td>\n",
       "      <td>RT @senatemajldr Democrats will have to get se...</td>\n",
       "      <td>Bradley Byrne</td>\n",
       "      <td>Rep</td>\n",
       "      <td>8-Jan-14</td>\n",
       "      <td>2/16/1955</td>\n",
       "      <td>M</td>\n",
       "      <td>AL</td>\n",
       "      <td>1</td>\n",
       "      <td>Republican</td>\n",
       "      <td>1,318,255</td>\n",
       "      <td>729,547</td>\n",
       "      <td>795,696</td>\n",
       "      <td>1,255,925</td>\n",
       "    </tr>\n",
       "    <tr>\n",
       "      <th>3</th>\n",
       "      <td>1.080890e+18</td>\n",
       "      <td>RepByrne</td>\n",
       "      <td>2019-01-03T13:20:53-05:00</td>\n",
       "      <td>Here is a sign of things to come: As Democrats...</td>\n",
       "      <td>Bradley Byrne</td>\n",
       "      <td>Rep</td>\n",
       "      <td>8-Jan-14</td>\n",
       "      <td>2/16/1955</td>\n",
       "      <td>M</td>\n",
       "      <td>AL</td>\n",
       "      <td>1</td>\n",
       "      <td>Republican</td>\n",
       "      <td>1,318,255</td>\n",
       "      <td>729,547</td>\n",
       "      <td>795,696</td>\n",
       "      <td>1,255,925</td>\n",
       "    </tr>\n",
       "    <tr>\n",
       "      <th>4</th>\n",
       "      <td>1.080870e+18</td>\n",
       "      <td>RepByrne</td>\n",
       "      <td>2019-01-03T12:10:26-05:00</td>\n",
       "      <td>Let's understand what we're dealing with here:...</td>\n",
       "      <td>Bradley Byrne</td>\n",
       "      <td>Rep</td>\n",
       "      <td>8-Jan-14</td>\n",
       "      <td>2/16/1955</td>\n",
       "      <td>M</td>\n",
       "      <td>AL</td>\n",
       "      <td>1</td>\n",
       "      <td>Republican</td>\n",
       "      <td>1,318,255</td>\n",
       "      <td>729,547</td>\n",
       "      <td>795,696</td>\n",
       "      <td>1,255,925</td>\n",
       "    </tr>\n",
       "  </tbody>\n",
       "</table>\n",
       "</div>"
      ],
      "text/plain": [
       "       tweet_id screen_name                   datetime  \\\n",
       "0  1.081010e+18    RepByrne  2019-01-03T21:23:00-05:00   \n",
       "1  1.080880e+18    RepByrne  2019-01-03T12:30:38-05:00   \n",
       "2  1.080830e+18    RepByrne  2019-01-03T09:12:07-05:00   \n",
       "3  1.080890e+18    RepByrne  2019-01-03T13:20:53-05:00   \n",
       "4  1.080870e+18    RepByrne  2019-01-03T12:10:26-05:00   \n",
       "\n",
       "                                                text name_wikipedia position  \\\n",
       "0  Great news for Baldwin County! The economy of ...  Bradley Byrne      Rep   \n",
       "1  Outstanding news today from @Airbus! @JetBlue ...  Bradley Byrne      Rep   \n",
       "2  RT @senatemajldr Democrats will have to get se...  Bradley Byrne      Rep   \n",
       "3  Here is a sign of things to come: As Democrats...  Bradley Byrne      Rep   \n",
       "4  Let's understand what we're dealing with here:...  Bradley Byrne      Rep   \n",
       "\n",
       "  joined_congress_date   birthday gender state district_number       party  \\\n",
       "0             8-Jan-14  2/16/1955      M    AL               1  Republican   \n",
       "1             8-Jan-14  2/16/1955      M    AL               1  Republican   \n",
       "2             8-Jan-14  2/16/1955      M    AL               1  Republican   \n",
       "3             8-Jan-14  2/16/1955      M    AL               1  Republican   \n",
       "4             8-Jan-14  2/16/1955      M    AL               1  Republican   \n",
       "\n",
       "  trump_2016_state_share clinton_2016_state_share obama_2012_state_share  \\\n",
       "0              1,318,255                  729,547                795,696   \n",
       "1              1,318,255                  729,547                795,696   \n",
       "2              1,318,255                  729,547                795,696   \n",
       "3              1,318,255                  729,547                795,696   \n",
       "4              1,318,255                  729,547                795,696   \n",
       "\n",
       "  romney_2012_state_share  \n",
       "0               1,255,925  \n",
       "1               1,255,925  \n",
       "2               1,255,925  \n",
       "3               1,255,925  \n",
       "4               1,255,925  "
      ]
     },
     "execution_count": 6,
     "metadata": {},
     "output_type": "execute_result"
    }
   ],
   "source": [
    "congress_tweets = pd.read_csv(\"data/116th Congressional Tweets and Demographics.csv\")\n",
    "# fill in this line of code with a sufficient number of tweets, depending on your computational resources\n",
    "#congress_tweets = congress_tweets.sample(...)\n",
    "congress_tweets.head()"
   ]
  },
  {
   "cell_type": "code",
   "execution_count": 7,
   "metadata": {},
   "outputs": [],
   "source": [
    "# sample 1000 rows for writing code\n",
    "congress_tweets = congress_tweets.sample(n = 1000, random_state = 10)"
   ]
  },
  {
   "cell_type": "code",
   "execution_count": 8,
   "metadata": {},
   "outputs": [
    {
     "data": {
      "text/plain": [
       "36257     Before adopting Olivia, we spent a great amoun...\n",
       "548996    Are we supposed to take Trump seriously or lit...\n",
       "652347    Thank you to Lieutenant Mike Tarr and Fire Chi...\n",
       "267614    Made remarks to @AmFreeSyria sharing my concer...\n",
       "344386    @jeroneanderson @MontcoLP @LelandShow @realDon...\n",
       "                                ...                        \n",
       "745540    Thank you @honorair for organizing these meani...\n",
       "832336    RT @HouseGOP 🚨 NEW: @China_TaskForce releases ...\n",
       "53451     The President has worked dilligenty since his ...\n",
       "758647    RT @BobMooreNews \"It's not OK to say that all ...\n",
       "201571    As a combat veteran and member of the @Nationa...\n",
       "Name: text, Length: 1000, dtype: object"
      ]
     },
     "execution_count": 8,
     "metadata": {},
     "output_type": "execute_result"
    }
   ],
   "source": [
    "congress_tweets['text']"
   ]
  },
  {
   "cell_type": "markdown",
   "metadata": {},
   "source": [
    "## Preprocessing"
   ]
  },
  {
   "cell_type": "markdown",
   "metadata": {},
   "source": [
    "The first step in working with text data is to preprocess it. Make sure you do the following:\n",
    "\n",
    "* Remove punctuation and stop words. The `rem_punc_stop()` function we used in lab is provided to you but you should feel free to edit it as necessary for other steps\n",
    "* Remove tokens that occur frequently in tweets, but may not be helpful for downstream classification. For instance, many tweets contain a flag for retweeting, or share a URL \n",
    "\n",
    "As you search online, you might run into solutions that rely on regular expressions. You are free to use these, but you should also be able to preprocess using the techniques we covered in lab. Specifically, we encourage you to use spaCy's token attributes and string methods to do some of this text preprocessing."
   ]
  },
  {
   "cell_type": "markdown",
   "metadata": {},
   "source": [
    "First, we create two dictionaries to add to the default stop words -- one that has a bunch of html gunk, and another that has popular Twitter abbreviations."
   ]
  },
  {
   "cell_type": "code",
   "execution_count": 9,
   "metadata": {},
   "outputs": [],
   "source": [
    "gunk = {'\\n',\n",
    " '\\n\\n',\n",
    " '\\n\\n\\n',\n",
    " '\\n\\n\\n\\n',\n",
    " '\\n\\n ',\n",
    " '\\n\\n\\xa0 ',\n",
    " '\\n ',\n",
    " '\\n \\n',\n",
    " '\\n \\n ',\n",
    " '\\n  ',\n",
    " '\\n   ',\n",
    " '\\n\\xa0\\n',\n",
    " ' ',\n",
    " ' \\n',\n",
    " ' \\n\\n',\n",
    " ' \\n ',\n",
    " '  ',\n",
    " '  \\n\\n ',\n",
    " '   ',\n",
    " '     ',\n",
    " '\"',\n",
    " \"'\",\n",
    " '-PRON-','’\t','—','’'} # there's probably a more elegant way to do this than what I did\n",
    "\n",
    "twitter_abbreviations = {'mt','rt','dm','prt','ht','cc'} \n",
    "# lifted from https://www.businessinsider.com/twitter-acronyms-2012-4"
   ]
  },
  {
   "cell_type": "code",
   "execution_count": 10,
   "metadata": {},
   "outputs": [],
   "source": [
    "def rem_punc_stop(text):\n",
    "    stop_words = STOP_WORDS\n",
    "    punc = set(punctuation)\n",
    "    \n",
    "    # adds twitter abbreviations to stop words\n",
    "    nlp.Defaults.stop_words |= twitter_abbreviations\n",
    "    \n",
    "    nlp.Defaults.stop_words |= gunk\n",
    "    \n",
    "    # removes punctuation and digits, converts to lowercase\n",
    "    punc_free = \"\".join([ch for ch in text if ch not in punc if not ch.isdigit()]).lower()\n",
    "    \n",
    "    # we could remove emojis, but they don't seem to trip up spaCy. Still need to get this to work\n",
    "    # punc_emoji_free = give_emoji_free_text(punc_free)\n",
    "    \n",
    "    doc = nlp(punc_free)\n",
    "    \n",
    "    # lemmatizes rather than just tokenizing\n",
    "    spacy_words = [token.lemma_ for token in doc]\n",
    "    \n",
    "    spacy_words = [word for word in spacy_words if not word.startswith('http')]\n",
    "    \n",
    "    # my more elegant way of removing the new lines lies broken here\n",
    "    #spacy_words = [ x for x in spacy_words if '\\n' in x ]\n",
    "    \n",
    "    no_punc = [word for word in spacy_words if word not in stop_words]\n",
    "    \n",
    "    return no_punc"
   ]
  },
  {
   "cell_type": "code",
   "execution_count": 11,
   "metadata": {},
   "outputs": [
    {
     "data": {
      "text/plain": [
       "36257     [adopt, olivia, spend, great, time, learn, ari...\n",
       "548996    [suppose, trump, seriously, literally, steel, ...\n",
       "652347    [thank, lieutenant, mike, tarr, fire, chief, o...\n",
       "267614    [remark, amfreesyria, share, concern, devastat...\n",
       "344386    [jeroneanderson, montcolp, lelandshow, realdon...\n",
       "                                ...                        \n",
       "745540    [thank, honorair, organize, meaningful, trip, ...\n",
       "832336    [housegop, 🚨, new, chinataskforce, release, ch...\n",
       "53451     [president, work, dilligenty, election, find, ...\n",
       "758647    [bobmoorenews, ok, federal, employee, support,...\n",
       "201571    [combat, veteran, member, nationalguard, grate...\n",
       "Name: tokens, Length: 1000, dtype: object"
      ]
     },
     "execution_count": 11,
     "metadata": {},
     "output_type": "execute_result"
    }
   ],
   "source": [
    "congress_tweets['tokens'] = [rem_punc_stop(x) for x in congress_tweets['text']]\n",
    "congress_tweets['tokens'] # note -- -PRON- refers to pronoun, the lemmatizer does this"
   ]
  },
  {
   "cell_type": "code",
   "execution_count": 12,
   "metadata": {},
   "outputs": [],
   "source": [
    "# peek at the tokens\n",
    "#tokens_reduced = []\n",
    "#tokens_reduced = [tokens_reduced.append(word) for word in congress_tweets['tokens']]"
   ]
  },
  {
   "cell_type": "markdown",
   "metadata": {},
   "source": [
    "Now that we've obtained the lemmas for each tweet, we'll want to count them for text featurization. One way to do this is via the bag-of-words approach. We'll use the function that we built to remove the stop words and punctuation, and lemmatize, to initialize our CountVectorizer."
   ]
  },
  {
   "cell_type": "code",
   "execution_count": 13,
   "metadata": {},
   "outputs": [
    {
     "data": {
      "text/plain": [
       "matrix([[0, 0, 0, ..., 0, 0, 0],\n",
       "        [0, 0, 0, ..., 0, 0, 0],\n",
       "        [0, 0, 0, ..., 0, 0, 0],\n",
       "        ...,\n",
       "        [0, 0, 0, ..., 0, 0, 0],\n",
       "        [0, 0, 0, ..., 0, 0, 0],\n",
       "        [0, 0, 0, ..., 0, 0, 0]])"
      ]
     },
     "execution_count": 13,
     "metadata": {},
     "output_type": "execute_result"
    }
   ],
   "source": [
    "from sklearn.feature_extraction.text import CountVectorizer,TfidfVectorizer\n",
    "bow_vector = CountVectorizer(tokenizer = rem_punc_stop, ngram_range=(1,1))\n",
    "bow_matrix = bow_vector.fit_transform(congress_tweets['text'])\n",
    "bow_matrix.todense()"
   ]
  },
  {
   "cell_type": "code",
   "execution_count": 14,
   "metadata": {},
   "outputs": [
    {
     "data": {
      "text/plain": [
       "['aacuna',\n",
       " 'aal',\n",
       " 'aapi',\n",
       " 'aapmhq',\n",
       " 'abandon',\n",
       " 'abc',\n",
       " 'abcnewslive',\n",
       " 'abdicate',\n",
       " 'abierta',\n",
       " 'ability',\n",
       " 'able',\n",
       " 'abolish',\n",
       " 'abortion',\n",
       " 'abqschools',\n",
       " 'abroad',\n",
       " 'abrupt',\n",
       " 'absentee',\n",
       " 'absolutely',\n",
       " 'abt',\n",
       " 'abundance',\n",
       " 'abuse',\n",
       " 'aca',\n",
       " 'academy',\n",
       " 'acarrillonews',\n",
       " 'accept',\n",
       " 'acceptable',\n",
       " 'access',\n",
       " 'accident',\n",
       " 'accommodation',\n",
       " 'accompany',\n",
       " 'accomplished',\n",
       " 'accomplishment',\n",
       " 'accord',\n",
       " 'account',\n",
       " 'accountability',\n",
       " 'accountable',\n",
       " 'accurate',\n",
       " 'acelerar',\n",
       " 'acfhhs',\n",
       " 'achieve',\n",
       " 'achievement',\n",
       " 'acknowledge',\n",
       " 'acostaresign',\n",
       " 'acquaintance',\n",
       " 'acquire',\n",
       " 'acquit',\n",
       " 'acquittal',\n",
       " 'acre',\n",
       " 'act',\n",
       " 'action']"
      ]
     },
     "execution_count": 14,
     "metadata": {},
     "output_type": "execute_result"
    }
   ],
   "source": [
    "feature_names = bow_vector.get_feature_names()\n",
    "feature_names[0:50] # peek at our features"
   ]
  },
  {
   "cell_type": "markdown",
   "metadata": {},
   "source": [
    "Great, these feature names seem fairly reasonable. However, the tf-idf matrix is an extension of the bag-of-words approach that should be more helpful to us, because it removes very common words that don't add much to the analysis."
   ]
  },
  {
   "cell_type": "code",
   "execution_count": 15,
   "metadata": {},
   "outputs": [
    {
     "data": {
      "text/plain": [
       "matrix([[0., 0., 0., ..., 0., 0., 0.],\n",
       "        [0., 0., 0., ..., 0., 0., 0.],\n",
       "        [0., 0., 0., ..., 0., 0., 0.],\n",
       "        ...,\n",
       "        [0., 0., 0., ..., 0., 0., 0.],\n",
       "        [0., 0., 0., ..., 0., 0., 0.],\n",
       "        [0., 0., 0., ..., 0., 0., 0.]])"
      ]
     },
     "execution_count": 15,
     "metadata": {},
     "output_type": "execute_result"
    }
   ],
   "source": [
    "tfidf_vector = TfidfVectorizer(tokenizer = rem_punc_stop)\n",
    "matrix = tfidf_vector.fit_transform(congress_tweets['text'])\n",
    "matrix.todense()"
   ]
  },
  {
   "cell_type": "code",
   "execution_count": 16,
   "metadata": {},
   "outputs": [],
   "source": [
    "feature_names = tfidf_vector.get_feature_names()"
   ]
  },
  {
   "cell_type": "markdown",
   "metadata": {},
   "source": [
    "## Exploratory Data Analysis"
   ]
  },
  {
   "cell_type": "markdown",
   "metadata": {},
   "source": [
    "Use two of the techniques we covered in lab (or other techniques outside of lab!) to explore the text of the tweets. You should construct these visualizations with an eye toward the eventual classification tasks: (1) predicting the legislator's political party based on the text of their tweet, and (2) predicting whether the legislator is a Senator or Representative. As a reminder, in lab we covered word frequencies, word clouds, word/character counts, scattertext, and topic modeling as possible exploration tools. "
   ]
  },
  {
   "cell_type": "markdown",
   "metadata": {},
   "source": [
    "### EDA 1: A look at the top n-grams"
   ]
  },
  {
   "cell_type": "markdown",
   "metadata": {},
   "source": [
    "We'll want to visualize the most commonly-used words and phrases in our dataset. First, we'll try unigrams."
   ]
  },
  {
   "cell_type": "code",
   "execution_count": 17,
   "metadata": {},
   "outputs": [],
   "source": [
    "# initialize the BOW countervectorizer with ngram_range argument\n",
    "countvec = CountVectorizer(tokenizer = rem_punc_stop, ngram_range=(1,1))\n",
    "ngrams = countvec.fit_transform(congress_tweets['text'])\n",
    "\n",
    "dictionary_dataframe = pd.DataFrame(ngrams.todense(), columns = countvec.get_feature_names())"
   ]
  },
  {
   "cell_type": "code",
   "execution_count": 18,
   "metadata": {},
   "outputs": [
    {
     "data": {
      "text/html": [
       "<div>\n",
       "<style scoped>\n",
       "    .dataframe tbody tr th:only-of-type {\n",
       "        vertical-align: middle;\n",
       "    }\n",
       "\n",
       "    .dataframe tbody tr th {\n",
       "        vertical-align: top;\n",
       "    }\n",
       "\n",
       "    .dataframe thead th {\n",
       "        text-align: right;\n",
       "    }\n",
       "</style>\n",
       "<table border=\"1\" class=\"dataframe\">\n",
       "  <thead>\n",
       "    <tr style=\"text-align: right;\">\n",
       "      <th></th>\n",
       "      <th>ngrams</th>\n",
       "      <th>freq</th>\n",
       "    </tr>\n",
       "  </thead>\n",
       "  <tbody>\n",
       "    <tr>\n",
       "      <th>0</th>\n",
       "      <td>amp</td>\n",
       "      <td>261</td>\n",
       "    </tr>\n",
       "    <tr>\n",
       "      <th>1</th>\n",
       "      <td>today</td>\n",
       "      <td>172</td>\n",
       "    </tr>\n",
       "    <tr>\n",
       "      <th>2</th>\n",
       "      <td>qt</td>\n",
       "      <td>150</td>\n",
       "    </tr>\n",
       "    <tr>\n",
       "      <th>3</th>\n",
       "      <td>work</td>\n",
       "      <td>101</td>\n",
       "    </tr>\n",
       "    <tr>\n",
       "      <th>4</th>\n",
       "      <td>need</td>\n",
       "      <td>100</td>\n",
       "    </tr>\n",
       "  </tbody>\n",
       "</table>\n",
       "</div>"
      ],
      "text/plain": [
       "  ngrams  freq\n",
       "0    amp   261\n",
       "1  today   172\n",
       "2     qt   150\n",
       "3   work   101\n",
       "4   need   100"
      ]
     },
     "execution_count": 18,
     "metadata": {},
     "output_type": "execute_result"
    }
   ],
   "source": [
    "df_ngram = pd.DataFrame(dictionary_dataframe.sum().reset_index()).rename(columns={'index': 'ngrams', 0:'freq'})\n",
    "df_ngram = df_ngram.sort_values(by = ['freq'], ascending = False).reset_index(drop = True)\n",
    "df_ngram.head() # take a peek\n",
    "\n",
    "# interesting. What the heck is 'amp'? Am I just old...?\n",
    "# hmm, could it be ampersand? -P"
   ]
  },
  {
   "cell_type": "markdown",
   "metadata": {},
   "source": [
    "Okay, but pretty devoid of context. Let's calculate and visualize the top 25 bigrams."
   ]
  },
  {
   "cell_type": "code",
   "execution_count": 19,
   "metadata": {},
   "outputs": [],
   "source": [
    "# initialize the BOW countervectorizer with ngram_range argument up to 2\n",
    "countvec = CountVectorizer(tokenizer = rem_punc_stop, ngram_range=(2,2))\n",
    "ngrams = countvec.fit_transform(congress_tweets['text'])\n",
    "\n",
    "dictionary_dataframe = pd.DataFrame(ngrams.todense(), columns = countvec.get_feature_names())\n",
    "df_ngram = pd.DataFrame(dictionary_dataframe.sum().reset_index()).rename(columns={'index': 'ngrams', 0:'freq'})\n",
    "df_ngram = df_ngram.sort_values(by = ['freq'], ascending = False).reset_index(drop = True)"
   ]
  },
  {
   "cell_type": "code",
   "execution_count": 20,
   "metadata": {},
   "outputs": [
    {
     "name": "stderr",
     "output_type": "stream",
     "text": [
      "/Users/paul/opt/anaconda3/lib/python3.8/site-packages/matplotlib/backends/backend_agg.py:238: RuntimeWarning: Glyph 127482 missing from current font.\n",
      "  font.set_text(s, 0.0, flags=flags)\n",
      "/Users/paul/opt/anaconda3/lib/python3.8/site-packages/matplotlib/backends/backend_agg.py:238: RuntimeWarning: Glyph 127480 missing from current font.\n",
      "  font.set_text(s, 0.0, flags=flags)\n",
      "/Users/paul/opt/anaconda3/lib/python3.8/site-packages/matplotlib/backends/backend_agg.py:201: RuntimeWarning: Glyph 127482 missing from current font.\n",
      "  font.set_text(s, 0, flags=flags)\n",
      "/Users/paul/opt/anaconda3/lib/python3.8/site-packages/matplotlib/backends/backend_agg.py:201: RuntimeWarning: Glyph 127480 missing from current font.\n",
      "  font.set_text(s, 0, flags=flags)\n"
     ]
    },
    {
     "data": {
      "image/png": "[encoded data removed]",
      "text/plain": [
       "<Figure size 432x288 with 1 Axes>"
      ]
     },
     "metadata": {
      "needs_background": "light"
     },
     "output_type": "display_data"
    }
   ],
   "source": [
    "sns.barplot(x=\"ngrams\", y = 'freq', data=df_ngram[0:25])\n",
    "plt.xticks(rotation=90)\n",
    "plt.show()"
   ]
  },
  {
   "cell_type": "markdown",
   "metadata": {},
   "source": [
    "The bigrams seem pretty intelligible indeed. Healthcare was tweeted about the most, with President Trump as a close second. Small business comes in third. It will be interesting to understand the extent to which themes of health versus economy sort themselves along party lines. Likewise, it will be interesting to understand the sentiment of the tweets mentioning Trump, and the extent to which it falls along party lines or legislative chambers. For example, if we hypothesize that the Senate is the \"cooling saucer\" of Congress, perhaps senators' tweets refrain from critiquing Trump."
   ]
  },
  {
   "cell_type": "markdown",
   "metadata": {},
   "source": [
    "### EDA 2: A first pass at LDA"
   ]
  },
  {
   "cell_type": "markdown",
   "metadata": {},
   "source": [
    "How do these tokens combine to compose topics in the 116th Congressional tweets? Let's use LDA to take an initial look. First, we'll create our tf-idf matrix."
   ]
  },
  {
   "cell_type": "code",
   "execution_count": 21,
   "metadata": {},
   "outputs": [],
   "source": [
    "X = congress_tweets['text']\n",
    "tf = TfidfVectorizer(tokenizer = rem_punc_stop)\n",
    "\n",
    "tfidf_matrix =  tf.fit_transform(X)\n",
    "dense_matrix = tfidf_matrix.todense()"
   ]
  },
  {
   "cell_type": "markdown",
   "metadata": {},
   "source": [
    "We'll fit the LDA model, arbitrarily starting with five topics."
   ]
  },
  {
   "cell_type": "code",
   "execution_count": 22,
   "metadata": {},
   "outputs": [],
   "source": [
    "from sklearn.decomposition import LatentDirichletAllocation\n",
    "\n",
    "lda = LatentDirichletAllocation(n_components=6, max_iter=20, random_state=0)\n",
    "lda = lda.fit(dense_matrix)"
   ]
  },
  {
   "cell_type": "code",
   "execution_count": 23,
   "metadata": {},
   "outputs": [
    {
     "data": {
      "text/plain": [
       "6"
      ]
     },
     "execution_count": 23,
     "metadata": {},
     "output_type": "execute_result"
    }
   ],
   "source": [
    "lda.n_components"
   ]
  },
  {
   "cell_type": "markdown",
   "metadata": {},
   "source": [
    "We'll get the top tokens for each of our five topics, and print them along with our feature names."
   ]
  },
  {
   "cell_type": "code",
   "execution_count": 24,
   "metadata": {},
   "outputs": [],
   "source": [
    "def print_top_words(model, feature_names, n_top_words):\n",
    "    for topic_idx, topic in enumerate(model.components_):\n",
    "        print(\"\\nTopic #{}:\".format(topic_idx))\n",
    "        print(\" \".join([feature_names[i]\n",
    "                        for i in topic.argsort()[:-n_top_words - 1:-1]]))\n",
    "    print()"
   ]
  },
  {
   "cell_type": "code",
   "execution_count": 25,
   "metadata": {},
   "outputs": [
    {
     "name": "stdout",
     "output_type": "stream",
     "text": [
      "\n",
      "Topic #0:\n",
      "vote amp bill help today family need community people act join house democrats covid pass work visit stop health impeachment trump read good town president qt care protect hall ✅\n",
      "\n",
      "Topic #1:\n",
      "amp covid work need protect trump support qt congress today people vaccine act health election join american president continue new business time know state million stay provide federal family americans\n",
      "\n",
      "Topic #2:\n",
      "amp year today trump act president thank support country join equality continue community qt day pass health great covid right pay business win american people work program time ago house\n",
      "\n",
      "Topic #3:\n",
      "today health amp thank realdonaldtrump act country americans president violence house community economic care school congress need gun join time vote hr way right new bill energy year week pandemic\n",
      "\n",
      "Topic #4:\n",
      "amp today help work qt nation fight need day ensure veteran want new time election country state vote president care report health coronavirus american thank crisis member join senate great\n",
      "\n",
      "Topic #5:\n",
      "amp today – president people care work help member trump join qt health thank time need border great crisis serve morning day democrats resource protect child house family try effort\n",
      "\n"
     ]
    }
   ],
   "source": [
    "tf_feature_names = tf.get_feature_names()\n",
    "print_top_words(lda, tf_feature_names, 30)"
   ]
  },
  {
   "cell_type": "markdown",
   "metadata": {},
   "source": [
    "The topics don't seem super well-separated or coherent, so we may have to play around with the number of components. For example, 4 out of 5 of the topics contain \"covid\" or coronavirus. This might not be totally worrisome, except that they don't appear to be very distinct in other respects -- most mention work and voting, as well as Congress and the president. Topic 3 appears the most distinact, perhaps a bit antagonistic to Trump or impeachment-related -- it is the only one that does not mention the president or health, but \"impeachment\" as well as words like \"crisis,\" \"fight,\" \"act,\" \"people,\" and \"protect.\""
   ]
  },
  {
   "cell_type": "markdown",
   "metadata": {},
   "source": [
    "Checking the topic distributions for separation across our categories of interest: party and Congress vs. Senate. "
   ]
  },
  {
   "cell_type": "code",
   "execution_count": 26,
   "metadata": {},
   "outputs": [
    {
     "data": {
      "text/plain": [
       "array([[0.02753335, 0.02735102, 0.0274003 , 0.02735734, 0.86281435,\n",
       "        0.02754364],\n",
       "       [0.04052227, 0.04055181, 0.04051453, 0.04055092, 0.04055213,\n",
       "        0.79730834],\n",
       "       [0.0406705 , 0.0406803 , 0.79588667, 0.04097819, 0.04076347,\n",
       "        0.04102086],\n",
       "       ...,\n",
       "       [0.02713596, 0.02721102, 0.02716824, 0.0271341 , 0.02729987,\n",
       "        0.86405081],\n",
       "       [0.03159515, 0.84205852, 0.03155368, 0.03156055, 0.03157337,\n",
       "        0.03165873],\n",
       "       [0.02716335, 0.02727704, 0.02708642, 0.02739459, 0.86409352,\n",
       "        0.02698507]])"
      ]
     },
     "execution_count": 26,
     "metadata": {},
     "output_type": "execute_result"
    }
   ],
   "source": [
    "topic_dist = lda.transform(tfidf_matrix)\n",
    "topic_dist"
   ]
  },
  {
   "cell_type": "code",
   "execution_count": 27,
   "metadata": {},
   "outputs": [
    {
     "data": {
      "text/html": [
       "<div>\n",
       "<style scoped>\n",
       "    .dataframe tbody tr th:only-of-type {\n",
       "        vertical-align: middle;\n",
       "    }\n",
       "\n",
       "    .dataframe tbody tr th {\n",
       "        vertical-align: top;\n",
       "    }\n",
       "\n",
       "    .dataframe thead th {\n",
       "        text-align: right;\n",
       "    }\n",
       "</style>\n",
       "<table border=\"1\" class=\"dataframe\">\n",
       "  <thead>\n",
       "    <tr style=\"text-align: right;\">\n",
       "      <th></th>\n",
       "      <th>Topic 0</th>\n",
       "      <th>Topic 1</th>\n",
       "      <th>Topic 2</th>\n",
       "      <th>Topic 3</th>\n",
       "      <th>Topic 4</th>\n",
       "      <th>Topic 5</th>\n",
       "      <th>index</th>\n",
       "      <th>tweet_id</th>\n",
       "      <th>screen_name</th>\n",
       "      <th>datetime</th>\n",
       "      <th>...</th>\n",
       "      <th>birthday</th>\n",
       "      <th>gender</th>\n",
       "      <th>state</th>\n",
       "      <th>district_number</th>\n",
       "      <th>party</th>\n",
       "      <th>trump_2016_state_share</th>\n",
       "      <th>clinton_2016_state_share</th>\n",
       "      <th>obama_2012_state_share</th>\n",
       "      <th>romney_2012_state_share</th>\n",
       "      <th>tokens</th>\n",
       "    </tr>\n",
       "  </thead>\n",
       "  <tbody>\n",
       "    <tr>\n",
       "      <th>0</th>\n",
       "      <td>0.027533</td>\n",
       "      <td>0.027351</td>\n",
       "      <td>0.027400</td>\n",
       "      <td>0.027357</td>\n",
       "      <td>0.862814</td>\n",
       "      <td>0.027544</td>\n",
       "      <td>36257</td>\n",
       "      <td>1.276160e+18</td>\n",
       "      <td>RepDavid</td>\n",
       "      <td>2020-06-25T10:22:13-04:00</td>\n",
       "      <td>...</td>\n",
       "      <td>3/3/1962</td>\n",
       "      <td>M</td>\n",
       "      <td>AZ</td>\n",
       "      <td>6</td>\n",
       "      <td>Republican</td>\n",
       "      <td>1,252,401</td>\n",
       "      <td>1,161,167</td>\n",
       "      <td>1,025,232</td>\n",
       "      <td>1,233,654</td>\n",
       "      <td>[adopt, olivia, spend, great, time, learn, ari...</td>\n",
       "    </tr>\n",
       "    <tr>\n",
       "      <th>1</th>\n",
       "      <td>0.040522</td>\n",
       "      <td>0.040552</td>\n",
       "      <td>0.040515</td>\n",
       "      <td>0.040551</td>\n",
       "      <td>0.040552</td>\n",
       "      <td>0.797308</td>\n",
       "      <td>548996</td>\n",
       "      <td>1.082280e+18</td>\n",
       "      <td>RepSeanMaloney</td>\n",
       "      <td>2019-01-07T09:33:39-05:00</td>\n",
       "      <td>...</td>\n",
       "      <td>7/30/1966</td>\n",
       "      <td>M</td>\n",
       "      <td>NY</td>\n",
       "      <td>18</td>\n",
       "      <td>Democrat</td>\n",
       "      <td>2,819,533</td>\n",
       "      <td>4,556,118</td>\n",
       "      <td>4,485,741</td>\n",
       "      <td>2,490,431</td>\n",
       "      <td>[suppose, trump, seriously, literally, steel, ...</td>\n",
       "    </tr>\n",
       "    <tr>\n",
       "      <th>2</th>\n",
       "      <td>0.040671</td>\n",
       "      <td>0.040680</td>\n",
       "      <td>0.795887</td>\n",
       "      <td>0.040978</td>\n",
       "      <td>0.040763</td>\n",
       "      <td>0.041021</td>\n",
       "      <td>652347</td>\n",
       "      <td>1.322270e+18</td>\n",
       "      <td>RepSteveChabot</td>\n",
       "      <td>2020-10-30T16:24:14-04:00</td>\n",
       "      <td>...</td>\n",
       "      <td>1/22/1953</td>\n",
       "      <td>M</td>\n",
       "      <td>OH</td>\n",
       "      <td>1</td>\n",
       "      <td>Republican</td>\n",
       "      <td>2,841,005</td>\n",
       "      <td>2,394,164</td>\n",
       "      <td>2,827,709</td>\n",
       "      <td>2,661,437</td>\n",
       "      <td>[thank, lieutenant, mike, tarr, fire, chief, o...</td>\n",
       "    </tr>\n",
       "    <tr>\n",
       "      <th>3</th>\n",
       "      <td>0.029056</td>\n",
       "      <td>0.029134</td>\n",
       "      <td>0.029082</td>\n",
       "      <td>0.854666</td>\n",
       "      <td>0.029040</td>\n",
       "      <td>0.029022</td>\n",
       "      <td>267614</td>\n",
       "      <td>1.103730e+18</td>\n",
       "      <td>SenatorRisch</td>\n",
       "      <td>2019-03-07T13:33:23-05:00</td>\n",
       "      <td>...</td>\n",
       "      <td>5/3/1943</td>\n",
       "      <td>M</td>\n",
       "      <td>ID</td>\n",
       "      <td>Senate</td>\n",
       "      <td>Republican</td>\n",
       "      <td>409,055</td>\n",
       "      <td>189,765</td>\n",
       "      <td>212,787</td>\n",
       "      <td>420,911</td>\n",
       "      <td>[remark, amfreesyria, share, concern, devastat...</td>\n",
       "    </tr>\n",
       "    <tr>\n",
       "      <th>4</th>\n",
       "      <td>0.046526</td>\n",
       "      <td>0.046491</td>\n",
       "      <td>0.046515</td>\n",
       "      <td>0.767418</td>\n",
       "      <td>0.046525</td>\n",
       "      <td>0.046525</td>\n",
       "      <td>344386</td>\n",
       "      <td>1.097350e+18</td>\n",
       "      <td>RepThomasMassie</td>\n",
       "      <td>2019-02-17T23:35:06-05:00</td>\n",
       "      <td>...</td>\n",
       "      <td>1/13/1971</td>\n",
       "      <td>M</td>\n",
       "      <td>KY</td>\n",
       "      <td>4</td>\n",
       "      <td>Republican</td>\n",
       "      <td>1,202,971</td>\n",
       "      <td>628,854</td>\n",
       "      <td>679,370</td>\n",
       "      <td>1,087,190</td>\n",
       "      <td>[jeroneanderson, montcolp, lelandshow, realdon...</td>\n",
       "    </tr>\n",
       "  </tbody>\n",
       "</table>\n",
       "<p>5 rows × 24 columns</p>\n",
       "</div>"
      ],
      "text/plain": [
       "    Topic 0   Topic 1   Topic 2   Topic 3   Topic 4   Topic 5   index  \\\n",
       "0  0.027533  0.027351  0.027400  0.027357  0.862814  0.027544   36257   \n",
       "1  0.040522  0.040552  0.040515  0.040551  0.040552  0.797308  548996   \n",
       "2  0.040671  0.040680  0.795887  0.040978  0.040763  0.041021  652347   \n",
       "3  0.029056  0.029134  0.029082  0.854666  0.029040  0.029022  267614   \n",
       "4  0.046526  0.046491  0.046515  0.767418  0.046525  0.046525  344386   \n",
       "\n",
       "       tweet_id      screen_name                   datetime  ...   birthday  \\\n",
       "0  1.276160e+18         RepDavid  2020-06-25T10:22:13-04:00  ...   3/3/1962   \n",
       "1  1.082280e+18   RepSeanMaloney  2019-01-07T09:33:39-05:00  ...  7/30/1966   \n",
       "2  1.322270e+18   RepSteveChabot  2020-10-30T16:24:14-04:00  ...  1/22/1953   \n",
       "3  1.103730e+18     SenatorRisch  2019-03-07T13:33:23-05:00  ...   5/3/1943   \n",
       "4  1.097350e+18  RepThomasMassie  2019-02-17T23:35:06-05:00  ...  1/13/1971   \n",
       "\n",
       "  gender state district_number       party trump_2016_state_share  \\\n",
       "0      M    AZ               6  Republican              1,252,401   \n",
       "1      M    NY              18    Democrat              2,819,533   \n",
       "2      M    OH               1  Republican              2,841,005   \n",
       "3      M    ID          Senate  Republican                409,055   \n",
       "4      M    KY               4  Republican              1,202,971   \n",
       "\n",
       "  clinton_2016_state_share obama_2012_state_share romney_2012_state_share  \\\n",
       "0                1,161,167              1,025,232               1,233,654   \n",
       "1                4,556,118              4,485,741               2,490,431   \n",
       "2                2,394,164              2,827,709               2,661,437   \n",
       "3                  189,765                212,787                 420,911   \n",
       "4                  628,854                679,370               1,087,190   \n",
       "\n",
       "                                              tokens  \n",
       "0  [adopt, olivia, spend, great, time, learn, ari...  \n",
       "1  [suppose, trump, seriously, literally, steel, ...  \n",
       "2  [thank, lieutenant, mike, tarr, fire, chief, o...  \n",
       "3  [remark, amfreesyria, share, concern, devastat...  \n",
       "4  [jeroneanderson, montcolp, lelandshow, realdon...  \n",
       "\n",
       "[5 rows x 24 columns]"
      ]
     },
     "execution_count": 27,
     "metadata": {},
     "output_type": "execute_result"
    }
   ],
   "source": [
    "topic_dist_df = pd.DataFrame(topic_dist, columns = [\"Topic \" + str(x) for x in range(0, lda.n_components)])\n",
    "df_w_topics = topic_dist_df.join(congress_tweets.reset_index())\n",
    "df_w_topics.head()"
   ]
  },
  {
   "cell_type": "code",
   "execution_count": 28,
   "metadata": {},
   "outputs": [
    {
     "name": "stdout",
     "output_type": "stream",
     "text": [
      "party\n",
      "Independent    0.338733\n",
      "Democrat       0.172775\n",
      "Republican     0.159073\n",
      "Name: Topic 0, dtype: float64\n",
      "party\n",
      "Democrat       0.189232\n",
      "Republican     0.139204\n",
      "Independent    0.033639\n",
      "Name: Topic 1, dtype: float64\n",
      "party\n",
      "Democrat       0.186892\n",
      "Republican     0.144737\n",
      "Independent    0.033856\n",
      "Name: Topic 2, dtype: float64\n",
      "party\n",
      "Independent    0.230141\n",
      "Republican     0.187337\n",
      "Democrat       0.152872\n",
      "Name: Topic 3, dtype: float64\n",
      "party\n",
      "Independent    0.226387\n",
      "Republican     0.187767\n",
      "Democrat       0.135567\n",
      "Name: Topic 4, dtype: float64\n",
      "party\n",
      "Republican     0.181881\n",
      "Democrat       0.162663\n",
      "Independent    0.137245\n",
      "Name: Topic 5, dtype: float64\n"
     ]
    }
   ],
   "source": [
    "grouped = df_w_topics.groupby('party')\n",
    "for i in df_w_topics.columns[0:lda.n_components]:\n",
    "    print(grouped[i].mean().sort_values(ascending=False))"
   ]
  },
  {
   "cell_type": "code",
   "execution_count": 29,
   "metadata": {},
   "outputs": [
    {
     "name": "stdout",
     "output_type": "stream",
     "text": [
      "position\n",
      "Rep    0.169482\n",
      "Sen    0.167888\n",
      "Name: Topic 0, dtype: float64\n",
      "position\n",
      "Rep    0.176755\n",
      "Sen    0.148909\n",
      "Name: Topic 1, dtype: float64\n",
      "position\n",
      "Rep    0.175384\n",
      "Sen    0.155122\n",
      "Name: Topic 2, dtype: float64\n",
      "position\n",
      "Sen    0.166724\n",
      "Rep    0.165937\n",
      "Name: Topic 3, dtype: float64\n",
      "position\n",
      "Sen    0.162143\n",
      "Rep    0.153149\n",
      "Name: Topic 4, dtype: float64\n",
      "position\n",
      "Sen    0.199214\n",
      "Rep    0.159293\n",
      "Name: Topic 5, dtype: float64\n"
     ]
    }
   ],
   "source": [
    "grouped = df_w_topics.groupby('position')\n",
    "for i in df_w_topics.columns[0:lda.n_components]:\n",
    "    print(grouped[i].mean().sort_values(ascending=False))"
   ]
  },
  {
   "cell_type": "markdown",
   "metadata": {},
   "source": [
    "## Sentiment Analysis"
   ]
  },
  {
   "cell_type": "markdown",
   "metadata": {},
   "source": [
    "Next, let's analyze the sentiments contained within the tweets. You may use TextBlob or another library for these tasks. Do the following:\n",
    "\n",
    "* Choose two legislators, one who you think will be more liberal and one who you think will be more conservative, and analyze their sentiment and/or subjectivity scores per tweet. For instance, you might do two scatterplots that plot each legislator's sentiment against their subjectivity, or two density plots for their sentiments. Do the scores match what you thought?\n",
    "* Plot two more visualizations like the ones you chose in the first part, but do them to compare (1) Democrats v. Republicans and (2) Senators v. Representatives \n",
    "\n",
    "`TextBlob` has already been imported in the top cell."
   ]
  },
  {
   "cell_type": "code",
   "execution_count": null,
   "metadata": {},
   "outputs": [],
   "source": []
  },
  {
   "cell_type": "markdown",
   "metadata": {},
   "source": [
    "## Featurization"
   ]
  },
  {
   "cell_type": "markdown",
   "metadata": {},
   "source": [
    "Before going to classification, explore different featurization techniques. Create three dataframes or arrays to represent your text features, specifically:\n",
    "\n",
    "* Features engineered from your previous analysis. For example, word counts, sentiment scores, topic model etc.\n",
    "* A term frequency-inverse document frequency matrix. \n",
    "* An embedding-based featurization (like a document averaged word2vec)\n",
    "\n",
    "In the next section, you will experiment with each of these featurization techniques to see which one produces the best classifications."
   ]
  },
  {
   "cell_type": "code",
   "execution_count": null,
   "metadata": {},
   "outputs": [],
   "source": []
  },
  {
   "cell_type": "markdown",
   "metadata": {},
   "source": [
    "### Engineered Text Features"
   ]
  },
  {
   "cell_type": "code",
   "execution_count": 30,
   "metadata": {},
   "outputs": [
    {
     "data": {
      "text/html": [
       "<div>\n",
       "<style scoped>\n",
       "    .dataframe tbody tr th:only-of-type {\n",
       "        vertical-align: middle;\n",
       "    }\n",
       "\n",
       "    .dataframe tbody tr th {\n",
       "        vertical-align: top;\n",
       "    }\n",
       "\n",
       "    .dataframe thead th {\n",
       "        text-align: right;\n",
       "    }\n",
       "</style>\n",
       "<table border=\"1\" class=\"dataframe\">\n",
       "  <thead>\n",
       "    <tr style=\"text-align: right;\">\n",
       "      <th></th>\n",
       "      <th>word_count</th>\n",
       "    </tr>\n",
       "  </thead>\n",
       "  <tbody>\n",
       "    <tr>\n",
       "      <th>0</th>\n",
       "      <td>42</td>\n",
       "    </tr>\n",
       "    <tr>\n",
       "      <th>1</th>\n",
       "      <td>10</td>\n",
       "    </tr>\n",
       "    <tr>\n",
       "      <th>2</th>\n",
       "      <td>10</td>\n",
       "    </tr>\n",
       "    <tr>\n",
       "      <th>3</th>\n",
       "      <td>24</td>\n",
       "    </tr>\n",
       "    <tr>\n",
       "      <th>4</th>\n",
       "      <td>7</td>\n",
       "    </tr>\n",
       "    <tr>\n",
       "      <th>...</th>\n",
       "      <td>...</td>\n",
       "    </tr>\n",
       "    <tr>\n",
       "      <th>995</th>\n",
       "      <td>11</td>\n",
       "    </tr>\n",
       "    <tr>\n",
       "      <th>996</th>\n",
       "      <td>26</td>\n",
       "    </tr>\n",
       "    <tr>\n",
       "      <th>997</th>\n",
       "      <td>32</td>\n",
       "    </tr>\n",
       "    <tr>\n",
       "      <th>998</th>\n",
       "      <td>19</td>\n",
       "    </tr>\n",
       "    <tr>\n",
       "      <th>999</th>\n",
       "      <td>41</td>\n",
       "    </tr>\n",
       "  </tbody>\n",
       "</table>\n",
       "<p>1000 rows × 1 columns</p>\n",
       "</div>"
      ],
      "text/plain": [
       "     word_count\n",
       "0            42\n",
       "1            10\n",
       "2            10\n",
       "3            24\n",
       "4             7\n",
       "..          ...\n",
       "995          11\n",
       "996          26\n",
       "997          32\n",
       "998          19\n",
       "999          41\n",
       "\n",
       "[1000 rows x 1 columns]"
      ]
     },
     "execution_count": 30,
     "metadata": {},
     "output_type": "execute_result"
    }
   ],
   "source": [
    "# Engineered Features\n",
    "word_count = pd.DataFrame([len(str(x).split()) for x in congress_tweets['tokens']], columns = ['word_count'])\n",
    "word_count"
   ]
  },
  {
   "cell_type": "code",
   "execution_count": 31,
   "metadata": {},
   "outputs": [
    {
     "data": {
      "text/html": [
       "<div>\n",
       "<style scoped>\n",
       "    .dataframe tbody tr th:only-of-type {\n",
       "        vertical-align: middle;\n",
       "    }\n",
       "\n",
       "    .dataframe tbody tr th {\n",
       "        vertical-align: top;\n",
       "    }\n",
       "\n",
       "    .dataframe thead th {\n",
       "        text-align: right;\n",
       "    }\n",
       "</style>\n",
       "<table border=\"1\" class=\"dataframe\">\n",
       "  <thead>\n",
       "    <tr style=\"text-align: right;\">\n",
       "      <th></th>\n",
       "      <th>character_count</th>\n",
       "    </tr>\n",
       "  </thead>\n",
       "  <tbody>\n",
       "    <tr>\n",
       "      <th>0</th>\n",
       "      <td>755</td>\n",
       "    </tr>\n",
       "    <tr>\n",
       "      <th>1</th>\n",
       "      <td>110</td>\n",
       "    </tr>\n",
       "    <tr>\n",
       "      <th>2</th>\n",
       "      <td>156</td>\n",
       "    </tr>\n",
       "    <tr>\n",
       "      <th>3</th>\n",
       "      <td>325</td>\n",
       "    </tr>\n",
       "    <tr>\n",
       "      <th>4</th>\n",
       "      <td>102</td>\n",
       "    </tr>\n",
       "    <tr>\n",
       "      <th>...</th>\n",
       "      <td>...</td>\n",
       "    </tr>\n",
       "    <tr>\n",
       "      <th>995</th>\n",
       "      <td>321</td>\n",
       "    </tr>\n",
       "    <tr>\n",
       "      <th>996</th>\n",
       "      <td>350</td>\n",
       "    </tr>\n",
       "    <tr>\n",
       "      <th>997</th>\n",
       "      <td>496</td>\n",
       "    </tr>\n",
       "    <tr>\n",
       "      <th>998</th>\n",
       "      <td>384</td>\n",
       "    </tr>\n",
       "    <tr>\n",
       "      <th>999</th>\n",
       "      <td>649</td>\n",
       "    </tr>\n",
       "  </tbody>\n",
       "</table>\n",
       "<p>1000 rows × 1 columns</p>\n",
       "</div>"
      ],
      "text/plain": [
       "     character_count\n",
       "0                755\n",
       "1                110\n",
       "2                156\n",
       "3                325\n",
       "4                102\n",
       "..               ...\n",
       "995              321\n",
       "996              350\n",
       "997              496\n",
       "998              384\n",
       "999              649\n",
       "\n",
       "[1000 rows x 1 columns]"
      ]
     },
     "execution_count": 31,
     "metadata": {},
     "output_type": "execute_result"
    }
   ],
   "source": [
    "character_count = pd.DataFrame([len(x) for x in congress_tweets['text']], columns = ['character_count'])\n",
    "character_count\n"
   ]
  },
  {
   "cell_type": "code",
   "execution_count": 32,
   "metadata": {},
   "outputs": [
    {
     "data": {
      "text/html": [
       "<div>\n",
       "<style scoped>\n",
       "    .dataframe tbody tr th:only-of-type {\n",
       "        vertical-align: middle;\n",
       "    }\n",
       "\n",
       "    .dataframe tbody tr th {\n",
       "        vertical-align: top;\n",
       "    }\n",
       "\n",
       "    .dataframe thead th {\n",
       "        text-align: right;\n",
       "    }\n",
       "</style>\n",
       "<table border=\"1\" class=\"dataframe\">\n",
       "  <thead>\n",
       "    <tr style=\"text-align: right;\">\n",
       "      <th></th>\n",
       "      <th>Topic 0</th>\n",
       "      <th>Topic 1</th>\n",
       "      <th>Topic 2</th>\n",
       "      <th>Topic 3</th>\n",
       "      <th>Topic 4</th>\n",
       "      <th>Topic 5</th>\n",
       "    </tr>\n",
       "  </thead>\n",
       "  <tbody>\n",
       "    <tr>\n",
       "      <th>0</th>\n",
       "      <td>0.027533</td>\n",
       "      <td>0.027351</td>\n",
       "      <td>0.027400</td>\n",
       "      <td>0.027357</td>\n",
       "      <td>0.862814</td>\n",
       "      <td>0.027544</td>\n",
       "    </tr>\n",
       "    <tr>\n",
       "      <th>1</th>\n",
       "      <td>0.040522</td>\n",
       "      <td>0.040552</td>\n",
       "      <td>0.040515</td>\n",
       "      <td>0.040551</td>\n",
       "      <td>0.040552</td>\n",
       "      <td>0.797308</td>\n",
       "    </tr>\n",
       "    <tr>\n",
       "      <th>2</th>\n",
       "      <td>0.040671</td>\n",
       "      <td>0.040680</td>\n",
       "      <td>0.795887</td>\n",
       "      <td>0.040978</td>\n",
       "      <td>0.040763</td>\n",
       "      <td>0.041021</td>\n",
       "    </tr>\n",
       "    <tr>\n",
       "      <th>3</th>\n",
       "      <td>0.029056</td>\n",
       "      <td>0.029134</td>\n",
       "      <td>0.029082</td>\n",
       "      <td>0.854666</td>\n",
       "      <td>0.029040</td>\n",
       "      <td>0.029022</td>\n",
       "    </tr>\n",
       "    <tr>\n",
       "      <th>4</th>\n",
       "      <td>0.046526</td>\n",
       "      <td>0.046491</td>\n",
       "      <td>0.046515</td>\n",
       "      <td>0.767418</td>\n",
       "      <td>0.046525</td>\n",
       "      <td>0.046525</td>\n",
       "    </tr>\n",
       "    <tr>\n",
       "      <th>...</th>\n",
       "      <td>...</td>\n",
       "      <td>...</td>\n",
       "      <td>...</td>\n",
       "      <td>...</td>\n",
       "      <td>...</td>\n",
       "      <td>...</td>\n",
       "    </tr>\n",
       "    <tr>\n",
       "      <th>995</th>\n",
       "      <td>0.039320</td>\n",
       "      <td>0.039426</td>\n",
       "      <td>0.039332</td>\n",
       "      <td>0.039351</td>\n",
       "      <td>0.803235</td>\n",
       "      <td>0.039335</td>\n",
       "    </tr>\n",
       "    <tr>\n",
       "      <th>996</th>\n",
       "      <td>0.027807</td>\n",
       "      <td>0.028113</td>\n",
       "      <td>0.027724</td>\n",
       "      <td>0.027872</td>\n",
       "      <td>0.860669</td>\n",
       "      <td>0.027815</td>\n",
       "    </tr>\n",
       "    <tr>\n",
       "      <th>997</th>\n",
       "      <td>0.027136</td>\n",
       "      <td>0.027211</td>\n",
       "      <td>0.027168</td>\n",
       "      <td>0.027134</td>\n",
       "      <td>0.027300</td>\n",
       "      <td>0.864051</td>\n",
       "    </tr>\n",
       "    <tr>\n",
       "      <th>998</th>\n",
       "      <td>0.031595</td>\n",
       "      <td>0.842059</td>\n",
       "      <td>0.031554</td>\n",
       "      <td>0.031561</td>\n",
       "      <td>0.031573</td>\n",
       "      <td>0.031659</td>\n",
       "    </tr>\n",
       "    <tr>\n",
       "      <th>999</th>\n",
       "      <td>0.027163</td>\n",
       "      <td>0.027277</td>\n",
       "      <td>0.027086</td>\n",
       "      <td>0.027395</td>\n",
       "      <td>0.864094</td>\n",
       "      <td>0.026985</td>\n",
       "    </tr>\n",
       "  </tbody>\n",
       "</table>\n",
       "<p>1000 rows × 6 columns</p>\n",
       "</div>"
      ],
      "text/plain": [
       "      Topic 0   Topic 1   Topic 2   Topic 3   Topic 4   Topic 5\n",
       "0    0.027533  0.027351  0.027400  0.027357  0.862814  0.027544\n",
       "1    0.040522  0.040552  0.040515  0.040551  0.040552  0.797308\n",
       "2    0.040671  0.040680  0.795887  0.040978  0.040763  0.041021\n",
       "3    0.029056  0.029134  0.029082  0.854666  0.029040  0.029022\n",
       "4    0.046526  0.046491  0.046515  0.767418  0.046525  0.046525\n",
       "..        ...       ...       ...       ...       ...       ...\n",
       "995  0.039320  0.039426  0.039332  0.039351  0.803235  0.039335\n",
       "996  0.027807  0.028113  0.027724  0.027872  0.860669  0.027815\n",
       "997  0.027136  0.027211  0.027168  0.027134  0.027300  0.864051\n",
       "998  0.031595  0.842059  0.031554  0.031561  0.031573  0.031659\n",
       "999  0.027163  0.027277  0.027086  0.027395  0.864094  0.026985\n",
       "\n",
       "[1000 rows x 6 columns]"
      ]
     },
     "execution_count": 32,
     "metadata": {},
     "output_type": "execute_result"
    }
   ],
   "source": [
    "#already generated from EDA\n",
    "\n",
    "topic_dist_df"
   ]
  },
  {
   "cell_type": "code",
   "execution_count": 33,
   "metadata": {},
   "outputs": [],
   "source": [
    "# review from sentiment analysis goes here"
   ]
  },
  {
   "cell_type": "code",
   "execution_count": 34,
   "metadata": {},
   "outputs": [
    {
     "data": {
      "text/html": [
       "<div>\n",
       "<style scoped>\n",
       "    .dataframe tbody tr th:only-of-type {\n",
       "        vertical-align: middle;\n",
       "    }\n",
       "\n",
       "    .dataframe tbody tr th {\n",
       "        vertical-align: top;\n",
       "    }\n",
       "\n",
       "    .dataframe thead th {\n",
       "        text-align: right;\n",
       "    }\n",
       "</style>\n",
       "<table border=\"1\" class=\"dataframe\">\n",
       "  <thead>\n",
       "    <tr style=\"text-align: right;\">\n",
       "      <th></th>\n",
       "      <th>Topic 0</th>\n",
       "      <th>Topic 1</th>\n",
       "      <th>Topic 2</th>\n",
       "      <th>Topic 3</th>\n",
       "      <th>Topic 4</th>\n",
       "      <th>Topic 5</th>\n",
       "      <th>character_count</th>\n",
       "      <th>word_count</th>\n",
       "    </tr>\n",
       "  </thead>\n",
       "  <tbody>\n",
       "    <tr>\n",
       "      <th>0</th>\n",
       "      <td>0.027533</td>\n",
       "      <td>0.027351</td>\n",
       "      <td>0.027400</td>\n",
       "      <td>0.027357</td>\n",
       "      <td>0.862814</td>\n",
       "      <td>0.027544</td>\n",
       "      <td>755</td>\n",
       "      <td>42</td>\n",
       "    </tr>\n",
       "    <tr>\n",
       "      <th>1</th>\n",
       "      <td>0.040522</td>\n",
       "      <td>0.040552</td>\n",
       "      <td>0.040515</td>\n",
       "      <td>0.040551</td>\n",
       "      <td>0.040552</td>\n",
       "      <td>0.797308</td>\n",
       "      <td>110</td>\n",
       "      <td>10</td>\n",
       "    </tr>\n",
       "    <tr>\n",
       "      <th>2</th>\n",
       "      <td>0.040671</td>\n",
       "      <td>0.040680</td>\n",
       "      <td>0.795887</td>\n",
       "      <td>0.040978</td>\n",
       "      <td>0.040763</td>\n",
       "      <td>0.041021</td>\n",
       "      <td>156</td>\n",
       "      <td>10</td>\n",
       "    </tr>\n",
       "    <tr>\n",
       "      <th>3</th>\n",
       "      <td>0.029056</td>\n",
       "      <td>0.029134</td>\n",
       "      <td>0.029082</td>\n",
       "      <td>0.854666</td>\n",
       "      <td>0.029040</td>\n",
       "      <td>0.029022</td>\n",
       "      <td>325</td>\n",
       "      <td>24</td>\n",
       "    </tr>\n",
       "    <tr>\n",
       "      <th>4</th>\n",
       "      <td>0.046526</td>\n",
       "      <td>0.046491</td>\n",
       "      <td>0.046515</td>\n",
       "      <td>0.767418</td>\n",
       "      <td>0.046525</td>\n",
       "      <td>0.046525</td>\n",
       "      <td>102</td>\n",
       "      <td>7</td>\n",
       "    </tr>\n",
       "    <tr>\n",
       "      <th>...</th>\n",
       "      <td>...</td>\n",
       "      <td>...</td>\n",
       "      <td>...</td>\n",
       "      <td>...</td>\n",
       "      <td>...</td>\n",
       "      <td>...</td>\n",
       "      <td>...</td>\n",
       "      <td>...</td>\n",
       "    </tr>\n",
       "    <tr>\n",
       "      <th>995</th>\n",
       "      <td>0.039320</td>\n",
       "      <td>0.039426</td>\n",
       "      <td>0.039332</td>\n",
       "      <td>0.039351</td>\n",
       "      <td>0.803235</td>\n",
       "      <td>0.039335</td>\n",
       "      <td>321</td>\n",
       "      <td>11</td>\n",
       "    </tr>\n",
       "    <tr>\n",
       "      <th>996</th>\n",
       "      <td>0.027807</td>\n",
       "      <td>0.028113</td>\n",
       "      <td>0.027724</td>\n",
       "      <td>0.027872</td>\n",
       "      <td>0.860669</td>\n",
       "      <td>0.027815</td>\n",
       "      <td>350</td>\n",
       "      <td>26</td>\n",
       "    </tr>\n",
       "    <tr>\n",
       "      <th>997</th>\n",
       "      <td>0.027136</td>\n",
       "      <td>0.027211</td>\n",
       "      <td>0.027168</td>\n",
       "      <td>0.027134</td>\n",
       "      <td>0.027300</td>\n",
       "      <td>0.864051</td>\n",
       "      <td>496</td>\n",
       "      <td>32</td>\n",
       "    </tr>\n",
       "    <tr>\n",
       "      <th>998</th>\n",
       "      <td>0.031595</td>\n",
       "      <td>0.842059</td>\n",
       "      <td>0.031554</td>\n",
       "      <td>0.031561</td>\n",
       "      <td>0.031573</td>\n",
       "      <td>0.031659</td>\n",
       "      <td>384</td>\n",
       "      <td>19</td>\n",
       "    </tr>\n",
       "    <tr>\n",
       "      <th>999</th>\n",
       "      <td>0.027163</td>\n",
       "      <td>0.027277</td>\n",
       "      <td>0.027086</td>\n",
       "      <td>0.027395</td>\n",
       "      <td>0.864094</td>\n",
       "      <td>0.026985</td>\n",
       "      <td>649</td>\n",
       "      <td>41</td>\n",
       "    </tr>\n",
       "  </tbody>\n",
       "</table>\n",
       "<p>1000 rows × 8 columns</p>\n",
       "</div>"
      ],
      "text/plain": [
       "      Topic 0   Topic 1   Topic 2   Topic 3   Topic 4   Topic 5  \\\n",
       "0    0.027533  0.027351  0.027400  0.027357  0.862814  0.027544   \n",
       "1    0.040522  0.040552  0.040515  0.040551  0.040552  0.797308   \n",
       "2    0.040671  0.040680  0.795887  0.040978  0.040763  0.041021   \n",
       "3    0.029056  0.029134  0.029082  0.854666  0.029040  0.029022   \n",
       "4    0.046526  0.046491  0.046515  0.767418  0.046525  0.046525   \n",
       "..        ...       ...       ...       ...       ...       ...   \n",
       "995  0.039320  0.039426  0.039332  0.039351  0.803235  0.039335   \n",
       "996  0.027807  0.028113  0.027724  0.027872  0.860669  0.027815   \n",
       "997  0.027136  0.027211  0.027168  0.027134  0.027300  0.864051   \n",
       "998  0.031595  0.842059  0.031554  0.031561  0.031573  0.031659   \n",
       "999  0.027163  0.027277  0.027086  0.027395  0.864094  0.026985   \n",
       "\n",
       "     character_count  word_count  \n",
       "0                755          42  \n",
       "1                110          10  \n",
       "2                156          10  \n",
       "3                325          24  \n",
       "4                102           7  \n",
       "..               ...         ...  \n",
       "995              321          11  \n",
       "996              350          26  \n",
       "997              496          32  \n",
       "998              384          19  \n",
       "999              649          41  \n",
       "\n",
       "[1000 rows x 8 columns]"
      ]
     },
     "execution_count": 34,
     "metadata": {},
     "output_type": "execute_result"
    }
   ],
   "source": [
    "# combine into dataframe\n",
    "\n",
    "engineered_features = topic_dist_df.join(character_count).join(word_count)\n",
    "'''.join(sentiment_score)'''\n",
    "engineered_features"
   ]
  },
  {
   "cell_type": "markdown",
   "metadata": {},
   "source": [
    "### Bag-of-words or Tf-idf"
   ]
  },
  {
   "cell_type": "code",
   "execution_count": 35,
   "metadata": {},
   "outputs": [
    {
     "data": {
      "text/plain": [
       "<1000x5833 sparse matrix of type '<class 'numpy.float64'>'\n",
       "\twith 18683 stored elements in Compressed Sparse Row format>"
      ]
     },
     "execution_count": 35,
     "metadata": {},
     "output_type": "execute_result"
    }
   ],
   "source": [
    "# Frequency Based featurization\n",
    "tfidf_matrix"
   ]
  },
  {
   "cell_type": "markdown",
   "metadata": {},
   "source": [
    "### Word Embedding"
   ]
  },
  {
   "cell_type": "code",
   "execution_count": 487,
   "metadata": {},
   "outputs": [],
   "source": [
    "# Load Word2Vec model from Google; OPTIONAL depending on your computational resources (the file is ~1 GB)\n",
    "# Also note that this file path assumes that the word vectors are underneath 'data'; you may wish to point to the CSS course repo and change the path\n",
    "# or move the vector file to the project repo \n",
    "\n",
    "model = gensim.models.KeyedVectors.load_word2vec_format('data/GoogleNews-vectors-negative300.bin.gz', binary = True) "
   ]
  },
  {
   "cell_type": "markdown",
   "metadata": {},
   "source": [
    "Using our tokenized corpus to update the Google News embeddings. "
   ]
  },
  {
   "cell_type": "code",
   "execution_count": 71,
   "metadata": {},
   "outputs": [],
   "source": [
    "# retrain cfpb['tokens'] model so it has the same dimensions as the google vector\n",
    "\n",
    "import multiprocessing\n",
    "\n",
    "word2vec_model = gensim.models.Word2Vec(size = 300, window=5, min_count = 1,\n",
    "                                        workers = (multiprocessing.cpu_count()))\n",
    "word2vec_model.build_vocab(congress_tweets['tokens'])"
   ]
  },
  {
   "cell_type": "code",
   "execution_count": 489,
   "metadata": {},
   "outputs": [
    {
     "data": {
      "text/plain": [
       "(97626, 101510)"
      ]
     },
     "execution_count": 489,
     "metadata": {},
     "output_type": "execute_result"
    }
   ],
   "source": [
    "# the intersect code that loads the Google News embeddings\n",
    "\n",
    "# set lockf = 1 to allow updating\n",
    "\n",
    "word2vec_model.intersect_word2vec_format('data/GoogleNews-vectors-negative300.bin.gz', lockf=1.0, binary=True)\n",
    "\n",
    "# Finish training model\n",
    "word2vec_model.train(congress_tweets['tokens'], total_examples=3, epochs = 5)"
   ]
  },
  {
   "cell_type": "markdown",
   "metadata": {},
   "source": [
    "Exploring word embeddings (with Google News loaded) using t-SNE visualization. "
   ]
  },
  {
   "cell_type": "code",
   "execution_count": 73,
   "metadata": {},
   "outputs": [
    {
     "data": {
      "text/plain": [
       "(5833, 300)"
      ]
     },
     "execution_count": 73,
     "metadata": {},
     "output_type": "execute_result"
    }
   ],
   "source": [
    "# Filter the list of vectors to include only those that Word2Vec has a vector for\n",
    "#words = list(model.wv.vocab)\n",
    "vector_list = [word2vec_model.wv.__getitem__(word) for word in word2vec_model.wv.vocab]\n",
    "\n",
    "# Create a list of the words corresponding to these vectors\n",
    "words_filtered = [word for word in word2vec_model.wv.vocab]\n",
    "\n",
    "# Zip the words together with their vector representations\n",
    "word_vec_zip = zip(words_filtered, vector_list)\n",
    "\n",
    "# Cast to a dict so we can turn it into a dataframe\n",
    "word_vec_dict = dict(word_vec_zip)\n",
    "word_vec_df = pd.DataFrame.from_dict(word_vec_dict, orient='index')\n",
    "word_vec_df.shape"
   ]
  },
  {
   "cell_type": "markdown",
   "metadata": {},
   "source": [
    "Looks lke our word embeddings pulled out 4,079 unique tokens that matched the criteria for Word2Vec (do we know what these criteria are??) "
   ]
  },
  {
   "cell_type": "code",
   "execution_count": 74,
   "metadata": {},
   "outputs": [
    {
     "name": "stderr",
     "output_type": "stream",
     "text": [
      "/Users/paul/opt/anaconda3/lib/python3.8/site-packages/matplotlib/backends/backend_agg.py:238: RuntimeWarning: Glyph 127468 missing from current font.\n",
      "  font.set_text(s, 0.0, flags=flags)\n",
      "/Users/paul/opt/anaconda3/lib/python3.8/site-packages/matplotlib/backends/backend_agg.py:201: RuntimeWarning: Glyph 127468 missing from current font.\n",
      "  font.set_text(s, 0, flags=flags)\n"
     ]
    },
    {
     "data": {
      "image/png": "[encoded data removed]",
      "text/plain": [
       "<Figure size 842.4x595.44 with 1 Axes>"
      ]
     },
     "metadata": {},
     "output_type": "display_data"
    }
   ],
   "source": [
    "from sklearn.manifold import TSNE\n",
    "\n",
    "# Initialize t-SNE\n",
    "tsne = TSNE(n_components = 2, init = 'pca', perplexity = 30)\n",
    "\n",
    "# Use 400 rows to speed up training time\n",
    "tsne_df = tsne.fit_transform(word_vec_df[:400])\n",
    "\n",
    "fig, ax = plt.subplots(figsize = (11.7, 8.27))\n",
    "sns.scatterplot(x = tsne_df[:, 0], y = tsne_df[:, 1], alpha = 0.5)\n",
    "\n",
    "# Use adjustText to jitter the labels\n",
    "from adjustText import adjust_text\n",
    "texts = []\n",
    "words_to_plot = list(np.arange(0, 400, 10))\n",
    "\n",
    "# Append words to list\n",
    "for word in words_to_plot:\n",
    "    texts.append(plt.text(tsne_df[word, 0], tsne_df[word, 1], word_vec_df.index[word], fontsize = 10))\n",
    "    \n",
    "adjust_text(texts, force_points = 0.4, force_text = 0.2, \n",
    "            expand_points = (2,1), expand_text = (1,2),\n",
    "            arrowprops = dict(arrowstyle = \"-\", color = 'black', lw = 0.5))\n",
    "\n",
    "plt.show()"
   ]
  },
  {
   "cell_type": "markdown",
   "metadata": {},
   "source": [
    "I don't see so much separation, but can see some potentially meaningful proximities? \n",
    "\n",
    "Towards the upper right: bank, credit, firm, investment, trade, product \n",
    "\n",
    "Also in the vicinity: children, wife \n",
    "\n",
    "And then leftish: comment, story, tell "
   ]
  },
  {
   "cell_type": "markdown",
   "metadata": {},
   "source": [
    "Going to try PCA on the vectors... "
   ]
  },
  {
   "cell_type": "code",
   "execution_count": 75,
   "metadata": {},
   "outputs": [
    {
     "data": {
      "text/plain": [
       "<AxesSubplot:>"
      ]
     },
     "execution_count": 75,
     "metadata": {},
     "output_type": "execute_result"
    },
    {
     "data": {
      "image/png": "[encoded data removed]",
      "text/plain": [
       "<Figure size 432x288 with 1 Axes>"
      ]
     },
     "metadata": {},
     "output_type": "display_data"
    }
   ],
   "source": [
    "from sklearn.preprocessing import StandardScaler\n",
    "from sklearn.decomposition import PCA\n",
    "\n",
    "X = word2vec_model.wv.__getitem__(word2vec_model.wv.vocab)\n",
    "# scale the data\n",
    "X_std = StandardScaler().fit_transform(X)\n",
    "\n",
    "# make a PCA\n",
    "w2v_pca = PCA(n_components=2) #set n_components to 2 to graph in 2-D\n",
    "\n",
    "# fit the standardized data\n",
    "Y_pca = w2v_pca.fit_transform(X_std)\n",
    "\n",
    "sns.scatterplot(x = Y_pca[:, 0], y = Y_pca[:, 1])"
   ]
  },
  {
   "cell_type": "code",
   "execution_count": 76,
   "metadata": {},
   "outputs": [
    {
     "name": "stderr",
     "output_type": "stream",
     "text": [
      "/Users/paul/opt/anaconda3/lib/python3.8/site-packages/matplotlib/backends/backend_agg.py:238: RuntimeWarning: Glyph 65039 missing from current font.\n",
      "  font.set_text(s, 0.0, flags=flags)\n",
      "/Users/paul/opt/anaconda3/lib/python3.8/site-packages/matplotlib/backends/backend_agg.py:201: RuntimeWarning: Glyph 65039 missing from current font.\n",
      "  font.set_text(s, 0, flags=flags)\n",
      "/Users/paul/opt/anaconda3/lib/python3.8/site-packages/matplotlib/backends/backend_agg.py:238: RuntimeWarning: Glyph 127477 missing from current font.\n",
      "  font.set_text(s, 0.0, flags=flags)\n",
      "/Users/paul/opt/anaconda3/lib/python3.8/site-packages/matplotlib/backends/backend_agg.py:201: RuntimeWarning: Glyph 127477 missing from current font.\n",
      "  font.set_text(s, 0, flags=flags)\n"
     ]
    },
    {
     "data": {
      "image/png": "[encoded data removed]",
      "text/plain": [
       "<Figure size 432x288 with 1 Axes>"
      ]
     },
     "metadata": {},
     "output_type": "display_data"
    }
   ],
   "source": [
    "import random\n",
    "random.seed(10)\n",
    "rando = random.sample(list(word2vec_model.wv.vocab), 30)\n",
    "\n",
    "X1 = word2vec_model.wv.__getitem__(rando)\n",
    "pca1 = PCA(n_components=2)\n",
    "result = w2v_pca.fit_transform(X1)\n",
    "result_df = pd.DataFrame(result, columns = ['PC1', 'PC2'], index = rando)\n",
    "sns.scatterplot(x = 'PC1', y = 'PC2', data = result_df)\n",
    "\n",
    "from adjustText import adjust_text\n",
    "texts = []\n",
    "\n",
    "# Append words to list\n",
    "for word in result_df.index:\n",
    "    texts.append(plt.text(result_df.loc[word, 'PC1'], result_df.loc[word, 'PC2'], word, fontsize = 8))\n",
    "    \n",
    "# Plot text using adjust_text (because overlapping text is hard to read)\n",
    "adjust_text(texts, force_points = 0.4, force_text = 0.4, \n",
    "            expand_points = (2,1), expand_text = (1,2),\n",
    "            arrowprops = dict(arrowstyle = \"-\", color = 'black', lw = 0.5))\n",
    "\n",
    "plt.show()"
   ]
  },
  {
   "cell_type": "markdown",
   "metadata": {},
   "source": [
    "Lol well... Interesting that both \"protect\" and \"govt\" are quite far from the mass of the (randomly sampled) vocabulary, and also somewhat far from each other. Also \"october\" and \"twitter\" being close together...? Something about the leadup to the November election? Sorry this is not a particularly well thought out interpretation LOL"
   ]
  },
  {
   "cell_type": "markdown",
   "metadata": {},
   "source": [
    "Creating the averaged embeddings for each document. "
   ]
  },
  {
   "cell_type": "code",
   "execution_count": 81,
   "metadata": {},
   "outputs": [],
   "source": [
    "import numpy as np\n",
    "\n",
    "# Function to average word embeddings for a document; \n",
    "#use examples from lab to apply this function. You can use also other techniques such as PCA and doc2vec instead.\n",
    "\n",
    "#added the else clause in the return statement for any docs that have no words in the model vocab\n",
    "\n",
    "def document_vector(word2vec_model, doc):\n",
    "    doc = [word for word in doc if word in word2vec_model.wv.vocab]\n",
    "    return np.mean(word2vec_model.wv.__getitem__(doc), axis=0) if len(doc) > 0 else np.empty(word2vec_model.vector_size)"
   ]
  },
  {
   "cell_type": "code",
   "execution_count": 82,
   "metadata": {},
   "outputs": [],
   "source": [
    "#np.vstack takes the list from the list comprehension code\n",
    "# and \"stacks\" vertically to form a single array \n",
    "docavgs = np.vstack([document_vector(word2vec_model, x) for x in congress_tweets['tokens']])"
   ]
  },
  {
   "cell_type": "code",
   "execution_count": 83,
   "metadata": {},
   "outputs": [
    {
     "data": {
      "text/plain": [
       "<AxesSubplot:>"
      ]
     },
     "execution_count": 83,
     "metadata": {},
     "output_type": "execute_result"
    },
    {
     "data": {
      "image/png": "[encoded data removed]",
      "text/plain": [
       "<Figure size 842.4x595.44 with 1 Axes>"
      ]
     },
     "metadata": {},
     "output_type": "display_data"
    }
   ],
   "source": [
    "from sklearn.manifold import TSNE\n",
    "\n",
    "# Initialize t-SNE\n",
    "tsne = TSNE(n_components = 2, init = 'pca', perplexity = 30)\n",
    "\n",
    "# Use 400 rows to speed up training time\n",
    "tsne_df = tsne.fit_transform(docavgs)\n",
    "\n",
    "fig, ax = plt.subplots(figsize = (11.7, 8.27))\n",
    "sns.scatterplot(x = tsne_df[:, 0], y = tsne_df[:, 1], alpha = 0.5)\n"
   ]
  },
  {
   "cell_type": "markdown",
   "metadata": {},
   "source": [
    "Lol just one big blob :( \n",
    "\n",
    "Just curious... going to PCA the word averaged document embeddings. "
   ]
  },
  {
   "cell_type": "code",
   "execution_count": 84,
   "metadata": {},
   "outputs": [
    {
     "data": {
      "text/plain": [
       "<AxesSubplot:>"
      ]
     },
     "execution_count": 84,
     "metadata": {},
     "output_type": "execute_result"
    },
    {
     "data": {
      "image/png": "[encoded data removed]",
      "text/plain": [
       "<Figure size 432x288 with 1 Axes>"
      ]
     },
     "metadata": {},
     "output_type": "display_data"
    }
   ],
   "source": [
    "X = docavgs\n",
    "# scale the data\n",
    "X_std = StandardScaler().fit_transform(X)\n",
    "\n",
    "# make a PCA\n",
    "w2v_pca = PCA(n_components=2) #set n_components to 2 to graph in 2-D\n",
    "\n",
    "# fit the standardized data\n",
    "Y_pca = w2v_pca.fit_transform(X_std)\n",
    "\n",
    "sns.scatterplot(x = Y_pca[:, 0], y = Y_pca[:, 1])"
   ]
  },
  {
   "cell_type": "markdown",
   "metadata": {},
   "source": [
    "Okay two clusters !! "
   ]
  },
  {
   "cell_type": "code",
   "execution_count": 88,
   "metadata": {},
   "outputs": [
    {
     "data": {
      "text/html": [
       "<div>\n",
       "<style scoped>\n",
       "    .dataframe tbody tr th:only-of-type {\n",
       "        vertical-align: middle;\n",
       "    }\n",
       "\n",
       "    .dataframe tbody tr th {\n",
       "        vertical-align: top;\n",
       "    }\n",
       "\n",
       "    .dataframe thead th {\n",
       "        text-align: right;\n",
       "    }\n",
       "</style>\n",
       "<table border=\"1\" class=\"dataframe\">\n",
       "  <thead>\n",
       "    <tr style=\"text-align: right;\">\n",
       "      <th></th>\n",
       "      <th>principal component 1</th>\n",
       "      <th>principal component 2</th>\n",
       "    </tr>\n",
       "  </thead>\n",
       "  <tbody>\n",
       "    <tr>\n",
       "      <th>0</th>\n",
       "      <td>0.096721</td>\n",
       "      <td>-0.967465</td>\n",
       "    </tr>\n",
       "    <tr>\n",
       "      <th>1</th>\n",
       "      <td>0.068478</td>\n",
       "      <td>-0.215875</td>\n",
       "    </tr>\n",
       "    <tr>\n",
       "      <th>2</th>\n",
       "      <td>-0.037479</td>\n",
       "      <td>2.496200</td>\n",
       "    </tr>\n",
       "    <tr>\n",
       "      <th>3</th>\n",
       "      <td>-0.548553</td>\n",
       "      <td>0.313115</td>\n",
       "    </tr>\n",
       "    <tr>\n",
       "      <th>4</th>\n",
       "      <td>1.234748</td>\n",
       "      <td>0.102735</td>\n",
       "    </tr>\n",
       "    <tr>\n",
       "      <th>...</th>\n",
       "      <td>...</td>\n",
       "      <td>...</td>\n",
       "    </tr>\n",
       "    <tr>\n",
       "      <th>995</th>\n",
       "      <td>2.352251</td>\n",
       "      <td>1.760292</td>\n",
       "    </tr>\n",
       "    <tr>\n",
       "      <th>996</th>\n",
       "      <td>-0.455581</td>\n",
       "      <td>0.785053</td>\n",
       "    </tr>\n",
       "    <tr>\n",
       "      <th>997</th>\n",
       "      <td>-0.946594</td>\n",
       "      <td>-0.778940</td>\n",
       "    </tr>\n",
       "    <tr>\n",
       "      <th>998</th>\n",
       "      <td>-0.369503</td>\n",
       "      <td>0.240212</td>\n",
       "    </tr>\n",
       "    <tr>\n",
       "      <th>999</th>\n",
       "      <td>-0.270915</td>\n",
       "      <td>0.990304</td>\n",
       "    </tr>\n",
       "  </tbody>\n",
       "</table>\n",
       "<p>1000 rows × 2 columns</p>\n",
       "</div>"
      ],
      "text/plain": [
       "     principal component 1  principal component 2\n",
       "0                 0.096721              -0.967465\n",
       "1                 0.068478              -0.215875\n",
       "2                -0.037479               2.496200\n",
       "3                -0.548553               0.313115\n",
       "4                 1.234748               0.102735\n",
       "..                     ...                    ...\n",
       "995               2.352251               1.760292\n",
       "996              -0.455581               0.785053\n",
       "997              -0.946594              -0.778940\n",
       "998              -0.369503               0.240212\n",
       "999              -0.270915               0.990304\n",
       "\n",
       "[1000 rows x 2 columns]"
      ]
     },
     "execution_count": 88,
     "metadata": {},
     "output_type": "execute_result"
    }
   ],
   "source": [
    "pca_df"
   ]
  },
  {
   "cell_type": "code",
   "execution_count": 90,
   "metadata": {},
   "outputs": [
    {
     "data": {
      "text/plain": [
       "<Figure size 432x288 with 0 Axes>"
      ]
     },
     "metadata": {},
     "output_type": "display_data"
    },
    {
     "data": {
      "image/png": "[encoded data removed]",
      "text/plain": [
       "<Figure size 720x720 with 1 Axes>"
      ]
     },
     "metadata": {},
     "output_type": "display_data"
    }
   ],
   "source": [
    "pca_df = pd.DataFrame(data = Y_pca\n",
    "             , columns = ['principal component 1', 'principal component 2'])\n",
    "\n",
    "plt.figure()\n",
    "plt.figure(figsize=(10,10))\n",
    "plt.xticks(fontsize=12)\n",
    "plt.yticks(fontsize=14)\n",
    "plt.xlabel('Principal Component - 1',fontsize=20)\n",
    "plt.ylabel('Principal Component - 2',fontsize=20)\n",
    "plt.title(\"Principal Component Analysis of Document Averages\",fontsize=20)\n",
    "targets = set(congress_tweets['party'])\n",
    "colors = ['r', 'b']\n",
    "for target, color in zip(targets,colors):\n",
    "    indicesToKeep = congress_tweets.reset_index()['party'] == target\n",
    "    plt.scatter(pca_df.loc[indicesToKeep, 'principal component 1']\n",
    "               , pca_df.loc[indicesToKeep, 'principal component 2'], c = color, s = 50)\n",
    "\n",
    "plt.legend(['Republican', 'Democrat'],prop={'size': 15})\n",
    "\n",
    "from adjustText import adjust_text\n",
    "texts = []\n",
    "\n",
    "# Append name_wikipedia to list\n",
    "# this looks very bad lol, too many names\n",
    "'''for word in pca_df.index:\n",
    "    texts.append(plt.text(pca_df.loc[word, 'principal component 1'],\n",
    "                          pca_df.loc[word, 'principal component 1'], \n",
    "                          congress_tweets.reset_index().loc[word, 'name_wikipedia'], fontsize = 8))\n",
    "    \n",
    "# Plot text using adjust_text (because overlapping text is hard to read)\n",
    "adjust_text(texts, force_points = 0.4, force_text = 0.4, \n",
    "            expand_points = (2,1), expand_text = (1,2),\n",
    "            arrowprops = dict(arrowstyle = \"-\", color = 'black', lw = 0.5))'''\n",
    "\n",
    "plt.show()"
   ]
  },
  {
   "cell_type": "code",
   "execution_count": 92,
   "metadata": {},
   "outputs": [
    {
     "data": {
      "text/plain": [
       "<Figure size 432x288 with 0 Axes>"
      ]
     },
     "metadata": {},
     "output_type": "display_data"
    },
    {
     "data": {
      "image/png": "[encoded data removed]",
      "text/plain": [
       "<Figure size 720x720 with 1 Axes>"
      ]
     },
     "metadata": {},
     "output_type": "display_data"
    }
   ],
   "source": [
    "plt.figure()\n",
    "plt.figure(figsize=(10,10))\n",
    "plt.xticks(fontsize=12)\n",
    "plt.yticks(fontsize=14)\n",
    "plt.xlabel('Principal Component - 1',fontsize=20)\n",
    "plt.ylabel('Principal Component - 2',fontsize=20)\n",
    "plt.title(\"Principal Component Analysis of Document Averages\",fontsize=20)\n",
    "targets = set(congress_tweets['position'])\n",
    "colors = ['m', 'g']\n",
    "for target, color in zip(targets,colors):\n",
    "    indicesToKeep = congress_tweets.reset_index()['position'] == target\n",
    "    plt.scatter(pca_df.loc[indicesToKeep, 'principal component 1']\n",
    "               , pca_df.loc[indicesToKeep, 'principal component 2'], c = color, s = 50)\n",
    "\n",
    "plt.legend(targets,prop={'size': 15})\n",
    "plt.show()"
   ]
  },
  {
   "cell_type": "markdown",
   "metadata": {},
   "source": [
    "Um... If there is a separation, doesn't look like it's super meaningful to our questions lol. "
   ]
  },
  {
   "cell_type": "markdown",
   "metadata": {},
   "source": [
    "### Doc2Vec"
   ]
  },
  {
   "cell_type": "code",
   "execution_count": 96,
   "metadata": {},
   "outputs": [],
   "source": [
    "from sklearn.preprocessing import LabelBinarizer\n",
    "from sklearn.model_selection import train_test_split\n",
    "from gensim.models.doc2vec import Doc2Vec, TaggedDocument\n",
    "\n",
    "# binarize label\n",
    "lb_style = LabelBinarizer()\n",
    "y = congress_tweets['party'] = lb_style.fit_transform(congress_tweets['party'])\n",
    "\n",
    "# train/test split\n",
    "train, test = train_test_split(congress_tweets, test_size=0.2, random_state=42)"
   ]
  },
  {
   "cell_type": "code",
   "execution_count": 97,
   "metadata": {},
   "outputs": [
    {
     "data": {
      "text/plain": [
       "36257     ([adopt, olivia, spend, great, time, learn, ar...\n",
       "548996    ([suppose, trump, seriously, literally, steel,...\n",
       "652347    ([thank, lieutenant, mike, tarr, fire, chief, ...\n",
       "267614    ([remark, amfreesyria, share, concern, devasta...\n",
       "344386    ([jeroneanderson, montcolp, lelandshow, realdo...\n",
       "                                ...                        \n",
       "745540    ([thank, honorair, organize, meaningful, trip,...\n",
       "832336    ([housegop, 🚨, new, chinataskforce, release, c...\n",
       "53451     ([president, work, dilligenty, election, find,...\n",
       "758647    ([bobmoorenews, ok, federal, employee, support...\n",
       "201571    ([combat, veteran, member, nationalguard, grat...\n",
       "Length: 1000, dtype: object"
      ]
     },
     "execution_count": 97,
     "metadata": {},
     "output_type": "execute_result"
    }
   ],
   "source": [
    "ct_train_tagged = train.apply(lambda r: TaggedDocument(words=r['tokens'], tags=[r.party]), axis=1)\n",
    "ct_test_tagged = test.apply(lambda r: TaggedDocument(words=r['tokens'], tags=[r.party]), axis=1)\n",
    "\n",
    "ct_train_tagged"
   ]
  },
  {
   "cell_type": "code",
   "execution_count": 98,
   "metadata": {},
   "outputs": [
    {
     "name": "stderr",
     "output_type": "stream",
     "text": [
      "100%|██████████| 1000/1000 [00:00<00:00, 1002702.37it/s]\n"
     ]
    }
   ],
   "source": [
    "from multiprocessing import cpu_count\n",
    "from tqdm import tqdm\n",
    "\n",
    "model_dbow = Doc2Vec(dm=0, vector_size=300, negative=5, hs=0, min_count=2, sample = 0, workers=cpu_count())\n",
    "model_dbow.build_vocab([x for x in tqdm(ct_train_tagged.values)])"
   ]
  },
  {
   "cell_type": "code",
   "execution_count": 99,
   "metadata": {},
   "outputs": [
    {
     "name": "stderr",
     "output_type": "stream",
     "text": [
      "100%|██████████| 1000/1000 [00:00<00:00, 952168.90it/s]\n",
      "100%|██████████| 1000/1000 [00:00<00:00, 2577937.31it/s]\n",
      "100%|██████████| 1000/1000 [00:00<00:00, 2451375.80it/s]\n",
      "100%|██████████| 1000/1000 [00:00<00:00, 1683783.22it/s]\n",
      "100%|██████████| 1000/1000 [00:00<00:00, 2289467.25it/s]\n",
      "100%|██████████| 1000/1000 [00:00<00:00, 266949.08it/s]\n",
      "100%|██████████| 1000/1000 [00:00<00:00, 2268417.52it/s]\n",
      "100%|██████████| 1000/1000 [00:00<00:00, 2273335.50it/s]\n",
      "100%|██████████| 1000/1000 [00:00<00:00, 2341878.28it/s]\n",
      "100%|██████████| 1000/1000 [00:00<00:00, 1855065.90it/s]\n",
      "100%|██████████| 1000/1000 [00:00<00:00, 2198272.54it/s]\n",
      "100%|██████████| 1000/1000 [00:00<00:00, 1476867.61it/s]\n",
      "100%|██████████| 1000/1000 [00:00<00:00, 2316015.46it/s]\n",
      "100%|██████████| 1000/1000 [00:00<00:00, 1709170.33it/s]\n",
      "100%|██████████| 1000/1000 [00:00<00:00, 628171.93it/s]\n",
      "100%|██████████| 1000/1000 [00:00<00:00, 1559800.67it/s]\n",
      "100%|██████████| 1000/1000 [00:00<00:00, 981353.30it/s]\n",
      "100%|██████████| 1000/1000 [00:00<00:00, 2241744.52it/s]\n",
      "100%|██████████| 1000/1000 [00:00<00:00, 935602.05it/s]\n",
      "100%|██████████| 1000/1000 [00:00<00:00, 2470143.70it/s]\n",
      "100%|██████████| 1000/1000 [00:00<00:00, 1262964.17it/s]\n",
      "100%|██████████| 1000/1000 [00:00<00:00, 2519101.50it/s]\n",
      "100%|██████████| 1000/1000 [00:00<00:00, 1067252.93it/s]\n",
      "100%|██████████| 1000/1000 [00:00<00:00, 1128714.75it/s]\n",
      "100%|██████████| 1000/1000 [00:00<00:00, 1797815.69it/s]\n",
      "100%|██████████| 1000/1000 [00:00<00:00, 2257429.49it/s]\n",
      "100%|██████████| 1000/1000 [00:00<00:00, 2183396.15it/s]\n",
      "100%|██████████| 1000/1000 [00:00<00:00, 144282.90it/s]\n",
      "100%|██████████| 1000/1000 [00:00<00:00, 1309083.65it/s]\n",
      "100%|██████████| 1000/1000 [00:00<00:00, 1772740.49it/s]\n"
     ]
    }
   ],
   "source": [
    "from sklearn import utils\n",
    "\n",
    "for epoch in range(30):\n",
    "    model_dbow.train(utils.shuffle([x for x in tqdm(ct_train_tagged.values)]), \n",
    "                     total_examples=len(ct_train_tagged.values), epochs=1)\n",
    "    model_dbow.alpha -= 0.002\n",
    "    model_dbow.min_alpha = model_dbow.alpha"
   ]
  },
  {
   "cell_type": "code",
   "execution_count": 50,
   "metadata": {},
   "outputs": [],
   "source": [
    "def vec_for_learning(model, tagged_docs):\n",
    "    sents = tagged_docs.values\n",
    "    targets, regressors = zip(*[(doc.tags[0], model.infer_vector(doc.words, steps=20)) for doc in sents])\n",
    "    return targets, regressors"
   ]
  },
  {
   "cell_type": "code",
   "execution_count": 100,
   "metadata": {},
   "outputs": [],
   "source": [
    "y_train, X_train = vec_for_learning(model_dbow, ct_train_tagged)\n",
    "y_test, X_test = vec_for_learning(model_dbow, ct_test_tagged)"
   ]
  },
  {
   "cell_type": "code",
   "execution_count": 101,
   "metadata": {},
   "outputs": [],
   "source": [
    "from sklearn.preprocessing import StandardScaler\n",
    "\n",
    "X_std = StandardScaler().fit_transform(X_train)"
   ]
  },
  {
   "cell_type": "code",
   "execution_count": 102,
   "metadata": {},
   "outputs": [
    {
     "name": "stderr",
     "output_type": "stream",
     "text": [
      "/Users/paul/opt/anaconda3/lib/python3.8/site-packages/sklearn/model_selection/_search.py:847: FutureWarning: The parameter 'iid' is deprecated in 0.22 and will be removed in 0.24.\n",
      "  warnings.warn(\n"
     ]
    },
    {
     "data": {
      "text/plain": [
       "GridSearchCV(cv=3,\n",
       "             estimator=Pipeline(steps=[('smote', SMOTE(random_state=10)),\n",
       "                                       ('logisticregression',\n",
       "                                        LogisticRegression())]),\n",
       "             iid=False, n_jobs=-1,\n",
       "             param_grid={'logisticregression__l1_ratio': array([0. , 0.2, 0.4, 0.6, 0.8]),\n",
       "                         'logisticregression__max_iter': [1000],\n",
       "                         'logisticregression__penalty': ['l1', 'l2',\n",
       "                                                         'elasticnet'],\n",
       "                         'logisticregression__solver': ['newton-cg', 'lbfgs',\n",
       "                                                        'saga']},\n",
       "             refit='accuracy',\n",
       "             scoring=['accuracy', 'precision', 'recall', 'f1'])"
      ]
     },
     "execution_count": 102,
     "metadata": {},
     "output_type": "execute_result"
    }
   ],
   "source": [
    "import numpy as np\n",
    "from sklearn.model_selection import GridSearchCV\n",
    "from imblearn.pipeline import Pipeline, make_pipeline\n",
    "from imblearn.over_sampling import SMOTE\n",
    "from sklearn.linear_model import LogisticRegression \n",
    "\n",
    "imba_pipeline = make_pipeline(SMOTE(random_state=10), \n",
    "                             LogisticRegression())\n",
    "\n",
    "param_grid = {'logisticregression__penalty': ['l1', 'l2', 'elasticnet'],\n",
    "              'logisticregression__solver' : ['newton-cg', 'lbfgs', 'saga'],\n",
    "             \"logisticregression__max_iter\": [1000], \n",
    "             'logisticregression__l1_ratio': np.arange(0, 1, 0.2)}\n",
    "\n",
    "log_grid_reg3 = GridSearchCV(imba_pipeline, param_grid, cv=3, iid=False, \n",
    "                            scoring=['accuracy', 'precision', 'recall', 'f1'], n_jobs = -1,  \n",
    "                           refit = 'accuracy') \n",
    "log_grid_reg3.fit(X_train, y_train)\n",
    "\n"
   ]
  },
  {
   "cell_type": "code",
   "execution_count": 103,
   "metadata": {},
   "outputs": [
    {
     "name": "stdout",
     "output_type": "stream",
     "text": [
      "params : {'logisticregression__l1_ratio': 0.8, 'logisticregression__max_iter': 1000, 'logisticregression__penalty': 'elasticnet', 'logisticregression__solver': 'saga'}\n",
      "mean_test_accuracy : 0.5889632147117178\n",
      "mean_test_precision : 0.7106946961459467\n",
      "mean_test_recall : 0.5775211630474789\n",
      "mean_test_f1 : 0.6366609178614102\n",
      "mean_fit_time : 5.733102003733317\n"
     ]
    }
   ],
   "source": [
    "metrics = [\"params\", \"mean_test_accuracy\", \"mean_test_precision\", \n",
    "           \"mean_test_recall\", \"mean_test_f1\", \"mean_fit_time\"]\n",
    "\n",
    "for i in metrics:\n",
    "    print(i, \":\", log_grid_reg3.cv_results_[i][log_grid_reg3.best_index_])"
   ]
  },
  {
   "cell_type": "code",
   "execution_count": 104,
   "metadata": {},
   "outputs": [
    {
     "data": {
      "image/png": "[encoded data removed]",
      "text/plain": [
       "<Figure size 720x504 with 2 Axes>"
      ]
     },
     "metadata": {},
     "output_type": "display_data"
    }
   ],
   "source": [
    "from sklearn.metrics import confusion_matrix\n",
    "\n",
    "y_pred = log_grid_reg3.best_estimator_[1].predict(StandardScaler().fit_transform(X_test))\n",
    "\n",
    "cf_matrix = confusion_matrix(y_test, y_pred, normalize = \"true\")\n",
    "\n",
    "df_cm = pd.DataFrame(cf_matrix, range(2),\n",
    "                  range(2))\n",
    "\n",
    "df_cm = df_cm.rename(index=str, columns={0: \"Republican\", 1: \"Democrat\"})\n",
    "df_cm.index = [\"Republican\", \"Democrat\"]\n",
    "plt.figure(figsize = (10,7))\n",
    "sns.set(font_scale=1.4)#for label size\n",
    "sns.heatmap(df_cm, \n",
    "           annot=True,\n",
    "           annot_kws={\"size\": 16},\n",
    "           fmt='g')\n",
    "\n",
    "plt.title('Confusion Matrix')\n",
    "plt.xlabel(\"Predicted Label\")\n",
    "plt.ylabel(\"True Label\")\n",
    "plt.show()"
   ]
  },
  {
   "cell_type": "markdown",
   "metadata": {},
   "source": [
    "## Classification"
   ]
  },
  {
   "cell_type": "markdown",
   "metadata": {},
   "source": [
    "Either use cross-validation or partition your data with training/validation/test sets for this section. Do the following:\n",
    "\n",
    "* Choose a supervised learning algorithm such as logistic regression, random forest etc. \n",
    "* Train six models. For each of the three dataframes you created in the featurization part, train one model to predict whether the author of the tweet is a Democrat or Republican, and a second model to predict whether the author is a Senator or Representative.\n",
    "* Report the accuracy and other relevant metrics for each of these six models.\n",
    "* Choose the featurization technique associated with your best model. Combine those text features with non-text features. Train two more models: (1) A supervised learning algorithm that uses just the non-text features and (2) a supervised learning algorithm that combines text and non-text features. Report accuracy and other relevant metrics. \n",
    "\n",
    "If time permits, you are encouraged to use hyperparameter tuning or AutoML techniques like TPOT, but are not explicitly required to do so."
   ]
  },
  {
   "cell_type": "code",
   "execution_count": null,
   "metadata": {},
   "outputs": [],
   "source": [
    "congress_tweets.loc[congress_tweets['party'] == 'Independent']\n",
    "\n",
    "parties = congress_tweets['party']"
   ]
  },
  {
   "cell_type": "code",
   "execution_count": 471,
   "metadata": {},
   "outputs": [
    {
     "data": {
      "text/plain": [
       "(1000, 6141)"
      ]
     },
     "execution_count": 471,
     "metadata": {},
     "output_type": "execute_result"
    }
   ],
   "source": [
    "#np.concatenate((np.array(engineered_features),\n",
    "                                                       docavgs, tfidf_matrix.todense()),\n",
    "                                                      axis = 1)"
   ]
  },
  {
   "cell_type": "code",
   "execution_count": 93,
   "metadata": {},
   "outputs": [],
   "source": [
    "from sklearn.preprocessing import LabelBinarizer\n",
    "\n",
    "X_std = StandardScaler().fit_transform(np.concatenate((np.array(engineered_features),docavgs), axis = 1))\n",
    "#X_std\n",
    "\n",
    "lb = LabelBinarizer()\n",
    "#y = lb.fit_transform(congress_tweets['party'].replace('Independent', 'Democrat'))\n",
    "\n",
    "y = congress_tweets['party']"
   ]
  },
  {
   "cell_type": "code",
   "execution_count": 94,
   "metadata": {},
   "outputs": [
    {
     "name": "stderr",
     "output_type": "stream",
     "text": [
      "/Users/paul/opt/anaconda3/lib/python3.8/site-packages/sklearn/model_selection/_search.py:847: FutureWarning: The parameter 'iid' is deprecated in 0.22 and will be removed in 0.24.\n",
      "  warnings.warn(\n"
     ]
    },
    {
     "data": {
      "text/plain": [
       "GridSearchCV(cv=3,\n",
       "             estimator=Pipeline(steps=[('smote', SMOTE(random_state=10)),\n",
       "                                       ('logisticregression',\n",
       "                                        LogisticRegression())]),\n",
       "             iid=False, n_jobs=-1,\n",
       "             param_grid={'logisticregression__l1_ratio': array([0. , 0.2, 0.4, 0.6, 0.8]),\n",
       "                         'logisticregression__max_iter': [1000],\n",
       "                         'logisticregression__penalty': ['l1', 'l2',\n",
       "                                                         'elasticnet'],\n",
       "                         'logisticregression__solver': ['newton-cg', 'lbfgs',\n",
       "                                                        'saga']},\n",
       "             refit='accuracy',\n",
       "             scoring=['accuracy', 'precision', 'recall', 'f1'])"
      ]
     },
     "execution_count": 94,
     "metadata": {},
     "output_type": "execute_result"
    }
   ],
   "source": [
    "from sklearn.model_selection import GridSearchCV\n",
    "from imblearn.pipeline import Pipeline, make_pipeline\n",
    "from imblearn.over_sampling import SMOTE\n",
    "from sklearn.linear_model import LogisticRegression \n",
    "\n",
    "imba_pipeline = make_pipeline(SMOTE(random_state=10), \n",
    "                             LogisticRegression())\n",
    "\n",
    "param_grid = {'logisticregression__penalty': ['l1', 'l2', 'elasticnet'],\n",
    "              'logisticregression__solver' : ['newton-cg', 'lbfgs', 'saga'],\n",
    "             \"logisticregression__max_iter\": [1000], \n",
    "             'logisticregression__l1_ratio': np.arange(0, 1, 0.2)}\n",
    "\n",
    "log_grid_reg3 = GridSearchCV(imba_pipeline, param_grid, cv=3, iid=False, \n",
    "                            scoring=['accuracy', 'precision', 'recall', 'f1'], n_jobs = -1,  \n",
    "                           refit = 'accuracy') \n",
    "log_grid_reg3.fit(X_std, y.ravel())\n"
   ]
  },
  {
   "cell_type": "code",
   "execution_count": 95,
   "metadata": {},
   "outputs": [
    {
     "name": "stdout",
     "output_type": "stream",
     "text": [
      "params : {'logisticregression__l1_ratio': 0.6000000000000001, 'logisticregression__max_iter': 1000, 'logisticregression__penalty': 'elasticnet', 'logisticregression__solver': 'saga'}\n",
      "mean_test_accuracy : 0.5879771987556418\n",
      "mean_test_precision : 0.6940456442313159\n",
      "mean_test_recall : 0.6095801128695865\n",
      "mean_test_f1 : 0.6490567020037356\n",
      "mean_fit_time : 7.624471028645833\n"
     ]
    }
   ],
   "source": [
    "metrics = [\"params\", \"mean_test_accuracy\", \"mean_test_precision\", \n",
    "           \"mean_test_recall\", \"mean_test_f1\", \"mean_fit_time\"]\n",
    "\n",
    "for i in metrics:\n",
    "    print(i, \":\", log_grid_reg3.cv_results_[i][log_grid_reg3.best_index_])"
   ]
  },
  {
   "cell_type": "markdown",
   "metadata": {},
   "source": [
    "### Train Six Models with Just Text"
   ]
  },
  {
   "cell_type": "code",
   "execution_count": 476,
   "metadata": {},
   "outputs": [],
   "source": [
    "# six models ([engineered features, frequency-based, embedding] * [democrat/republican, senator/representative])\n",
    "..."
   ]
  },
  {
   "cell_type": "markdown",
   "metadata": {},
   "source": [
    "### Two Combined Models"
   ]
  },
  {
   "cell_type": "code",
   "execution_count": null,
   "metadata": {},
   "outputs": [],
   "source": [
    "# two models ([best text features + non-text features] * [democrat/republican, senator/representative])\n",
    "..."
   ]
  },
  {
   "cell_type": "markdown",
   "metadata": {},
   "source": [
    "## Discussion Questions"
   ]
  },
  {
   "cell_type": "markdown",
   "metadata": {},
   "source": [
    "1. Why do standard preprocessing techniques need to be further customized to a particular corpus?"
   ]
  },
  {
   "cell_type": "markdown",
   "metadata": {},
   "source": [
    "**Your Answer Here**"
   ]
  },
  {
   "cell_type": "markdown",
   "metadata": {},
   "source": [
    "2. Did you find evidence for the idea that Democrats and Republicans have different sentiments in their tweets? What about Senators and Representatives?"
   ]
  },
  {
   "cell_type": "markdown",
   "metadata": {},
   "source": [
    "**Your Answer Here**"
   ]
  },
  {
   "cell_type": "markdown",
   "metadata": {},
   "source": [
    "3. Why is validating your exploratory and unsupervised learning approaches with a supervised learning algorithm valuable?"
   ]
  },
  {
   "cell_type": "markdown",
   "metadata": {},
   "source": [
    "**Your Answer Here**"
   ]
  },
  {
   "cell_type": "markdown",
   "metadata": {},
   "source": [
    "4. Did text only, non-text only, or text and non-text features together perform the best? What is the intuition behind combining text and non-text features in a supervised learning algorithm?"
   ]
  },
  {
   "cell_type": "markdown",
   "metadata": {},
   "source": [
    "**Your Answer Here**"
   ]
  }
 ],
 "metadata": {
  "kernelspec": {
   "display_name": "Python 3",
   "language": "python",
   "name": "python3"
  },
  "language_info": {
   "codemirror_mode": {
    "name": "ipython",
    "version": 3
   },
   "file_extension": ".py",
   "mimetype": "text/x-python",
   "name": "python",
   "nbconvert_exporter": "python",
   "pygments_lexer": "ipython3",
   "version": "3.8.5"
  }
 },
 "nbformat": 4,
 "nbformat_minor": 4
}
